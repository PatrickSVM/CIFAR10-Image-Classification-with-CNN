{
 "cells": [
  {
   "cell_type": "code",
   "execution_count": 5,
   "metadata": {},
   "outputs": [
    {
     "data": {
      "text/plain": [
       "10"
      ]
     },
     "execution_count": 5,
     "metadata": {},
     "output_type": "execute_result"
    }
   ],
   "source": [
    "from functools import reduce\n",
    "\n",
    "a = [1,2,3,4,10,1,1,1]\n",
    "reduce(lambda x,y: max(x,y), a)"
   ]
  },
  {
   "cell_type": "code",
   "execution_count": 1,
   "metadata": {
    "executionInfo": {
     "elapsed": 2092,
     "status": "ok",
     "timestamp": 1646561484223,
     "user": {
      "displayName": "Patrick Hiemsch",
      "photoUrl": "https://lh3.googleusercontent.com/a/default-user=s64",
      "userId": "11380502315125518764"
     },
     "user_tz": -60
    },
    "id": "_4dihtIXBa2j"
   },
   "outputs": [
    {
     "data": {
      "text/plain": [
       "'2.8.0'"
      ]
     },
     "execution_count": 1,
     "metadata": {},
     "output_type": "execute_result"
    }
   ],
   "source": [
    "import tensorflow as tf\n",
    "import tensorflow.keras as keras\n",
    "\n",
    "tf.__version__"
   ]
  },
  {
   "cell_type": "code",
   "execution_count": 2,
   "metadata": {},
   "outputs": [
    {
     "data": {
      "text/plain": [
       "[PhysicalDevice(name='/physical_device:CPU:0', device_type='CPU'),\n",
       " PhysicalDevice(name='/physical_device:GPU:0', device_type='GPU')]"
      ]
     },
     "execution_count": 2,
     "metadata": {},
     "output_type": "execute_result"
    }
   ],
   "source": [
    "# check whether GPU can be accessed \n",
    "tf.config.list_physical_devices()"
   ]
  },
  {
   "cell_type": "code",
   "execution_count": 4,
   "metadata": {
    "executionInfo": {
     "elapsed": 988,
     "status": "ok",
     "timestamp": 1646561487200,
     "user": {
      "displayName": "Patrick Hiemsch",
      "photoUrl": "https://lh3.googleusercontent.com/a/default-user=s64",
      "userId": "11380502315125518764"
     },
     "user_tz": -60
    },
    "id": "_Emd2KbhIwNn"
   },
   "outputs": [],
   "source": [
    "import matplotlib.pyplot as plt\n",
    "from sklearn.metrics import confusion_matrix\n",
    "import itertools\n",
    "\n",
    "def PlotModelEval(Model, History, X, Y, Labels):\n",
    "    \n",
    "    # Scores for each class (can be interpreted as probabilities since we use softmax output)\n",
    "    S = Model.predict(X)\n",
    "    # Prediction (class number) for each test image\n",
    "    P = np.expand_dims(np.argmax(S,axis=1), axis=-1)\n",
    "    # Calculate confusion matrix\n",
    "    CM = confusion_matrix(Y,P)\n",
    "    \n",
    "    # Plot training history\n",
    "    plt.figure(figsize=(16,6))\n",
    "    plt.subplot(2,2,1)\n",
    "    plt.semilogy(History.history['loss'], label=\"Training\")\n",
    "    if 'val_loss' in History.history:\n",
    "        plt.semilogy(History.history['val_loss'], label=\"Validation\")\n",
    "    plt.title('Model loss')\n",
    "    plt.ylabel('Loss')\n",
    "    plt.xlabel('Epoch')\n",
    "    plt.legend(loc='upper right')\n",
    "    plt.grid(True, which=\"both\")\n",
    "    plt.subplot(2,2,3)\n",
    "    plt.plot(100 * np.array(History.history['accuracy']), label=\"Training\")\n",
    "    if 'val_accuracy' in History.history:\n",
    "        plt.plot(100 * np.array(History.history['val_accuracy']), label=\"Validation\")\n",
    "    plt.title('Model accuracy')\n",
    "    plt.ylabel('Acc [%]')\n",
    "    plt.xlabel('Epoch')\n",
    "    plt.legend(loc='lower right')\n",
    "    plt.grid(True, which=\"both\")\n",
    "    \n",
    "    # Plot confusion matrix\n",
    "    plt.subplot(2,2,(2,4)) # assign plot to both slots\n",
    "    PlotConfusionMatrix(CM, classes=Labels, title=\"Confusion matrix (test)\")\n",
    "    plt.show()\n",
    "\n",
    "# ============================================================================\n",
    "\n",
    "def PlotConfusionMatrix(cm, classes,\n",
    "                        normalize=False,\n",
    "                        title='Confusion matrix',\n",
    "                        cmap=plt.cm.Blues,\n",
    "                        showAcc=True):\n",
    "    \"\"\"\n",
    "    This function prints and plots the confusion matrix.\n",
    "    Normalization can be applied by setting `normalize=True`.\n",
    "    \"\"\"\n",
    "    plt.imshow(cm, interpolation='nearest', cmap=cmap)\n",
    "    plt.colorbar()\n",
    "    tick_marks = np.arange(len(classes))\n",
    "    plt.xticks(tick_marks, classes, rotation=45)\n",
    "    plt.yticks(tick_marks, classes)\n",
    "\n",
    "    if normalize:\n",
    "        cm = cm.astype('float') / cm.sum(axis=1)[:, np.newaxis]\n",
    "    \n",
    "    #print(cm)\n",
    "\n",
    "    thresh = cm.max() / 2.\n",
    "    for i, j in itertools.product(range(cm.shape[0]), range(cm.shape[1])):\n",
    "        plt.text(j, i, cm[i, j],\n",
    "            horizontalalignment=\"center\",\n",
    "            verticalalignment=\"center\",\n",
    "            color=\"white\" if cm[i, j] > thresh else \"black\")\n",
    "\n",
    "    plt.tight_layout()\n",
    "    plt.ylabel('True label')\n",
    "    plt.xlabel('Predicted label')\n",
    "    \n",
    "    if showAcc:\n",
    "        acc = 100*(np.trace(cm) / np.sum(cm))\n",
    "        title = title + \" | Acc=%.2f%%\" % acc\n",
    "        \n",
    "    plt.title(title)\n",
    "\n",
    "# ============================================================================\n",
    "\n",
    "cifar_labels = ['airplane', 'automobile', 'bird', 'cat', 'deer', 'dog', 'frog', 'horse', 'ship', 'truck']"
   ]
  },
  {
   "cell_type": "code",
   "execution_count": 5,
   "metadata": {
    "colab": {
     "base_uri": "https://localhost:8080/"
    },
    "executionInfo": {
     "elapsed": 4482,
     "status": "ok",
     "timestamp": 1646481837449,
     "user": {
      "displayName": "Patrick Hiemsch",
      "photoUrl": "https://lh3.googleusercontent.com/a/default-user=s64",
      "userId": "11380502315125518764"
     },
     "user_tz": -60
    },
    "id": "Oj0IlsFVB9bz",
    "outputId": "97a85f85-6383-4033-b503-ea560be7e8e2"
   },
   "outputs": [],
   "source": [
    "import numpy as np\n",
    "from tensorflow.keras.datasets import cifar10\n",
    "\n",
    "cifar_labels = ['airplane', 'automobile', 'bird', 'cat', 'deer', 'dog', 'frog', 'horse', 'ship', 'truck']\n",
    "\n",
    "(X_train, y_train), (X_test, y_test) = cifar10.load_data()"
   ]
  },
  {
   "cell_type": "code",
   "execution_count": 6,
   "metadata": {
    "colab": {
     "base_uri": "https://localhost:8080/"
    },
    "executionInfo": {
     "elapsed": 11,
     "status": "ok",
     "timestamp": 1646313129544,
     "user": {
      "displayName": "Patrick Hiemsch",
      "photoUrl": "https://lh3.googleusercontent.com/a/default-user=s64",
      "userId": "11380502315125518764"
     },
     "user_tz": -60
    },
    "id": "Qrzgf7oFHOfJ",
    "outputId": "416b954a-eac1-45d5-93ba-85299feadb8c"
   },
   "outputs": [
    {
     "data": {
      "text/plain": [
       "(50000, 32, 32, 3)"
      ]
     },
     "execution_count": 6,
     "metadata": {},
     "output_type": "execute_result"
    }
   ],
   "source": [
    "X_train.shape"
   ]
  },
  {
   "cell_type": "code",
   "execution_count": 7,
   "metadata": {
    "id": "YdHSG-pVN-pI"
   },
   "outputs": [],
   "source": [
    "from tensorflow.keras.utils import to_categorical\n",
    "\n",
    "# Transform label indices to one-hot encoded vectors\n",
    "y_train_c = to_categorical(y_train, num_classes=10)\n",
    "y_test_c  = to_categorical(y_test , num_classes=10)\n",
    "\n",
    "# Normalization of pixel values (to [0-1] range)\n",
    "X_train = X_train.astype('float32') / 255\n",
    "X_test  = X_test.astype('float32')  / 255"
   ]
  },
  {
   "cell_type": "markdown",
   "metadata": {
    "id": "Zh_uiIOJHPfa"
   },
   "source": [
    "### First model"
   ]
  },
  {
   "cell_type": "code",
   "execution_count": null,
   "metadata": {
    "colab": {
     "base_uri": "https://localhost:8080/"
    },
    "executionInfo": {
     "elapsed": 208,
     "status": "ok",
     "timestamp": 1646243066222,
     "user": {
      "displayName": "Patrick Hiemsch",
      "photoUrl": "https://lh3.googleusercontent.com/a/default-user=s64",
      "userId": "11380502315125518764"
     },
     "user_tz": -60
    },
    "id": "QSANSUQMksOM",
    "outputId": "f1d6cf4d-dca0-42a3-d408-b26a7651fb53"
   },
   "outputs": [
    {
     "name": "stdout",
     "output_type": "stream",
     "text": [
      "The tensorboard extension is already loaded. To reload it, use:\n",
      "  %reload_ext tensorboard\n"
     ]
    }
   ],
   "source": [
    "import datetime\n",
    "%load_ext tensorboard\n",
    "log_folder = 'logs'\n",
    "!rm -rf /logs/\n",
    "log_folder = \"logs/fit/\" + datetime.datetime.now().strftime(\"%Y%m%d-%H%M%S\")"
   ]
  },
  {
   "cell_type": "code",
   "execution_count": null,
   "metadata": {
    "id": "YFng5-ILlVU5"
   },
   "outputs": [],
   "source": [
    "from tensorflow.keras.callbacks import TensorBoard\n",
    "\n",
    "callbacks = [TensorBoard(log_dir=log_folder,\n",
    "                         histogram_freq=1,\n",
    "                         update_freq=\"batch\")]"
   ]
  },
  {
   "cell_type": "code",
   "execution_count": null,
   "metadata": {
    "id": "bu2LZKk5KU0P"
   },
   "outputs": [],
   "source": [
    "from tensorflow.keras.optimizers import SGD, Nadam\n",
    "from tensorflow.keras.layers import Input, Dense, Dropout, Flatten, BatchNormalization\n",
    "from tensorflow.keras.models import Model\n",
    "\n",
    "x_in = Input(shape=X_train.shape[1:])\n",
    "x = Flatten()(x_in)\n",
    "x = BatchNormalization()(x)\n",
    "\n",
    "x = Dropout(rate=0.4)(x)\n",
    "x = Dense(300, activation = \"elu\", kernel_initializer=\"lecun_uniform\")(x)\n",
    "x = BatchNormalization()(x)\n",
    "x = Dropout(rate=0.3)(x)\n",
    "x = Dense(100, activation = \"elu\", kernel_initializer=\"lecun_uniform\")(x)\n",
    "x = BatchNormalization()(x)\n",
    "\n",
    "x = Dropout(rate=0.2)(x)\n",
    "x = Dense(10, activation = \"softmax\", kernel_initializer=\"lecun_uniform\")(x)\n",
    "\n",
    "\n",
    "model = Model(inputs=x_in, outputs=x)\n",
    "\n",
    "# Now we build the model using Stochastic Gradient Descent with Nesterov momentum. We use accuracy as the metric.\n",
    "#sgd = SGD(lr=0.01, decay=1e-6, momentum=0.9, nesterov=True)\n",
    "nadam_opt = Nadam()\n",
    "model.compile(optimizer=nadam_opt, loss='categorical_crossentropy', metrics=['accuracy'])\n",
    "model.summary(100)"
   ]
  },
  {
   "cell_type": "code",
   "execution_count": null,
   "metadata": {
    "id": "DA9FXdJ4KdI-"
   },
   "outputs": [],
   "source": [
    "history = model.fit(X_train,y_train_c, epochs=7, batch_size=32, verbose=1, validation_split=0.2, callbacks = callbacks) # verbose: info during training"
   ]
  },
  {
   "cell_type": "code",
   "execution_count": null,
   "metadata": {
    "id": "1V_3E_aGNOKe"
   },
   "outputs": [],
   "source": [
    "model.predict(X_Test)"
   ]
  },
  {
   "cell_type": "code",
   "execution_count": null,
   "metadata": {
    "colab": {
     "base_uri": "https://localhost:8080/"
    },
    "executionInfo": {
     "elapsed": 980,
     "status": "ok",
     "timestamp": 1646300841250,
     "user": {
      "displayName": "Patrick Hiemsch",
      "photoUrl": "https://lh3.googleusercontent.com/a/default-user=s64",
      "userId": "11380502315125518764"
     },
     "user_tz": -60
    },
    "id": "NKJw53NMClv5",
    "outputId": "35dd904d-30ea-4be0-cb15-d589d720a203"
   },
   "outputs": [
    {
     "name": "stdout",
     "output_type": "stream",
     "text": [
      "Model: \"model_4\"\n",
      "____________________________________________________________________________________________________\n",
      " Layer (type)                                Output Shape                            Param #        \n",
      "====================================================================================================\n",
      " input_5 (InputLayer)                        [(None, 32, 32, 3)]                     0              \n",
      "                                                                                                    \n",
      " conv2d_28 (Conv2D)                          (None, 32, 32, 128)                     3584           \n",
      "                                                                                                    \n",
      " activation_28 (Activation)                  (None, 32, 32, 128)                     0              \n",
      "                                                                                                    \n",
      " batch_normalization_28 (BatchNormalization)  (None, 32, 32, 128)                    512            \n",
      "                                                                                                    \n",
      " conv2d_29 (Conv2D)                          (None, 32, 32, 128)                     147584         \n",
      "                                                                                                    \n",
      " activation_29 (Activation)                  (None, 32, 32, 128)                     0              \n",
      "                                                                                                    \n",
      " batch_normalization_29 (BatchNormalization)  (None, 32, 32, 128)                    512            \n",
      "                                                                                                    \n",
      " max_pooling2d_14 (MaxPooling2D)             (None, 16, 16, 128)                     0              \n",
      "                                                                                                    \n",
      " dropout_14 (Dropout)                        (None, 16, 16, 128)                     0              \n",
      "                                                                                                    \n",
      " flatten_4 (Flatten)                         (None, 32768)                           0              \n",
      "                                                                                                    \n",
      " dense_4 (Dense)                             (None, 10)                              327690         \n",
      "                                                                                                    \n",
      "====================================================================================================\n",
      "Total params: 479,882\n",
      "Trainable params: 479,370\n",
      "Non-trainable params: 512\n",
      "____________________________________________________________________________________________________\n"
     ]
    },
    {
     "name": "stderr",
     "output_type": "stream",
     "text": [
      "/usr/local/lib/python3.7/dist-packages/keras/optimizer_v2/rmsprop.py:130: UserWarning: The `lr` argument is deprecated, use `learning_rate` instead.\n",
      "  super(RMSprop, self).__init__(name, **kwargs)\n"
     ]
    }
   ],
   "source": [
    "from tensorflow.keras.optimizers import SGD\n",
    "from tensorflow.keras.models import Model\n",
    "from tensorflow.keras.layers import Input, Dense, Flatten\n",
    "from tensorflow.keras.layers import Conv2D, MaxPooling2D, Dropout, BatchNormalization, Activation\n",
    "from tensorflow.keras.regularizers import l2\n",
    "\n",
    "\n",
    "\n",
    "x_in = Input(shape=X_train.shape[1:])\n",
    "\n",
    "# === Add your code here ===\n",
    "weight_decay = 1e-4\n",
    "x = Conv2D(32, 3, kernel_regularizer=l2(weight_decay), padding=\"same\", activation=None)(x_in)\n",
    "x = Activation(\"elu\")(x)\n",
    "x = BatchNormalization()(x)\n",
    "x = Conv2D(32, 3, kernel_regularizer=l2(weight_decay), padding=\"same\", activation=None)(x)\n",
    "x = Activation(\"elu\")(x)\n",
    "x = BatchNormalization()(x)\n",
    "x = MaxPooling2D(2)(x)\n",
    "x = Dropout(0.2)(x)\n",
    "\n",
    "\n",
    "x = Conv2D(64, 3, kernel_regularizer=l2(weight_decay), padding=\"same\", activation=None)(x)\n",
    "x = Activation(\"elu\")(x)\n",
    "x = BatchNormalization()(x)\n",
    "x = Conv2D(64, 3, kernel_regularizer=l2(weight_decay), padding=\"same\", activation=None)(x)\n",
    "x = Activation(\"elu\")(x)\n",
    "x = BatchNormalization()(x)\n",
    "x = MaxPooling2D(2)(x)\n",
    "x = Dropout(0.3)(x)\n",
    "\n",
    "\n",
    "\n",
    "\n",
    "x = Conv2D(128, 3, kernel_regularizer=l2(weight_decay), padding=\"same\", activation=None)(x)\n",
    "x = Activation(\"elu\")(x)\n",
    "x = BatchNormalization()(x)\n",
    "x = Conv2D(128, 3, kernel_regularizer=l2(weight_decay), padding=\"same\", activation=None)(x)\n",
    "x = Activation(\"elu\")(x)\n",
    "x = BatchNormalization()(x)\n",
    "x = MaxPooling2D(2)(x)\n",
    "x = Dropout(0.4)(x)\n",
    "\n",
    "\n",
    "\n",
    "x = Flatten()(x)\n",
    "x = Dense(10, activation = \"softmax\")(x)\n",
    "\n",
    "\n",
    "model_simple = Model(inputs=x_in, outputs=x)\n",
    "\n",
    "# Compile model\n",
    "#sgd = SGD(learning_rate=0.01, decay=1e-6, momentum=0.9, nesterov=True)\n",
    "opt_rms = keras.optimizers.RMSprop(lr=0.001,decay=1e-6)\n",
    "model_simple.compile(loss='categorical_crossentropy', metrics=['accuracy'], optimizer=opt_rms)\n",
    "model_simple.summary(100)"
   ]
  },
  {
   "cell_type": "code",
   "execution_count": null,
   "metadata": {
    "colab": {
     "base_uri": "https://localhost:8080/"
    },
    "executionInfo": {
     "elapsed": 273118,
     "status": "ok",
     "timestamp": 1646301116982,
     "user": {
      "displayName": "Patrick Hiemsch",
      "photoUrl": "https://lh3.googleusercontent.com/a/default-user=s64",
      "userId": "11380502315125518764"
     },
     "user_tz": -60
    },
    "id": "vr-rkufJGuv3",
    "outputId": "e6e88375-3d1f-4291-c317-6e7e472cba51"
   },
   "outputs": [
    {
     "name": "stdout",
     "output_type": "stream",
     "text": [
      "Epoch 1/25\n",
      "1250/1250 [==============================] - 12s 9ms/step - loss: 5.4202 - accuracy: 0.4062 - val_loss: 4.9424 - val_accuracy: 0.3897\n",
      "Epoch 2/25\n",
      "1250/1250 [==============================] - 11s 9ms/step - loss: 1.8348 - accuracy: 0.5429 - val_loss: 1.2856 - val_accuracy: 0.5746\n",
      "Epoch 3/25\n",
      "1250/1250 [==============================] - 11s 9ms/step - loss: 1.1197 - accuracy: 0.6245 - val_loss: 1.1737 - val_accuracy: 0.6031\n",
      "Epoch 4/25\n",
      "1250/1250 [==============================] - 11s 9ms/step - loss: 1.0183 - accuracy: 0.6575 - val_loss: 1.1958 - val_accuracy: 0.5931\n",
      "Epoch 5/25\n",
      "1250/1250 [==============================] - 11s 9ms/step - loss: 0.9624 - accuracy: 0.6804 - val_loss: 1.0729 - val_accuracy: 0.6575\n",
      "Epoch 6/25\n",
      "1250/1250 [==============================] - 11s 9ms/step - loss: 0.9196 - accuracy: 0.6948 - val_loss: 1.2118 - val_accuracy: 0.6215\n",
      "Epoch 7/25\n",
      "1250/1250 [==============================] - 11s 9ms/step - loss: 0.8874 - accuracy: 0.7092 - val_loss: 1.0422 - val_accuracy: 0.6622\n",
      "Epoch 8/25\n",
      "1250/1250 [==============================] - 11s 9ms/step - loss: 0.8616 - accuracy: 0.7182 - val_loss: 1.0506 - val_accuracy: 0.6602\n",
      "Epoch 9/25\n",
      "1250/1250 [==============================] - 11s 9ms/step - loss: 0.8330 - accuracy: 0.7277 - val_loss: 1.0219 - val_accuracy: 0.6782\n",
      "Epoch 10/25\n",
      "1250/1250 [==============================] - 11s 9ms/step - loss: 0.8100 - accuracy: 0.7384 - val_loss: 1.1344 - val_accuracy: 0.6452\n",
      "Epoch 11/25\n",
      "1250/1250 [==============================] - 11s 9ms/step - loss: 0.7837 - accuracy: 0.7476 - val_loss: 1.0168 - val_accuracy: 0.6792\n",
      "Epoch 12/25\n",
      "1250/1250 [==============================] - 11s 9ms/step - loss: 0.7596 - accuracy: 0.7560 - val_loss: 1.0333 - val_accuracy: 0.6769\n",
      "Epoch 13/25\n",
      "1250/1250 [==============================] - 11s 9ms/step - loss: 0.7363 - accuracy: 0.7643 - val_loss: 1.0425 - val_accuracy: 0.6836\n",
      "Epoch 14/25\n",
      "1250/1250 [==============================] - 11s 9ms/step - loss: 0.7200 - accuracy: 0.7696 - val_loss: 1.0827 - val_accuracy: 0.6713\n",
      "Epoch 15/25\n",
      "1250/1250 [==============================] - 11s 9ms/step - loss: 0.6931 - accuracy: 0.7779 - val_loss: 1.0548 - val_accuracy: 0.6783\n",
      "Epoch 16/25\n",
      "1250/1250 [==============================] - 11s 9ms/step - loss: 0.6765 - accuracy: 0.7841 - val_loss: 1.0309 - val_accuracy: 0.6933\n",
      "Epoch 17/25\n",
      "1250/1250 [==============================] - 11s 9ms/step - loss: 0.6568 - accuracy: 0.7927 - val_loss: 1.1229 - val_accuracy: 0.6701\n",
      "Epoch 18/25\n",
      "1250/1250 [==============================] - 11s 9ms/step - loss: 0.6409 - accuracy: 0.7971 - val_loss: 1.0572 - val_accuracy: 0.6848\n",
      "Epoch 19/25\n",
      "1250/1250 [==============================] - 11s 9ms/step - loss: 0.6210 - accuracy: 0.8052 - val_loss: 1.1110 - val_accuracy: 0.6806\n",
      "Epoch 20/25\n",
      "1250/1250 [==============================] - 11s 9ms/step - loss: 0.6067 - accuracy: 0.8086 - val_loss: 1.1380 - val_accuracy: 0.6827\n",
      "Epoch 21/25\n",
      "1250/1250 [==============================] - 11s 9ms/step - loss: 0.5830 - accuracy: 0.8160 - val_loss: 1.1192 - val_accuracy: 0.6827\n",
      "Epoch 22/25\n",
      "1250/1250 [==============================] - 11s 9ms/step - loss: 0.5727 - accuracy: 0.8188 - val_loss: 1.1850 - val_accuracy: 0.6777\n",
      "Epoch 23/25\n",
      "1250/1250 [==============================] - 11s 9ms/step - loss: 0.5554 - accuracy: 0.8254 - val_loss: 1.1487 - val_accuracy: 0.6822\n",
      "Epoch 24/25\n",
      "1250/1250 [==============================] - 11s 9ms/step - loss: 0.5487 - accuracy: 0.8271 - val_loss: 1.4060 - val_accuracy: 0.6501\n",
      "Epoch 25/25\n",
      "1250/1250 [==============================] - 11s 9ms/step - loss: 0.5321 - accuracy: 0.8342 - val_loss: 1.2645 - val_accuracy: 0.6604\n"
     ]
    }
   ],
   "source": [
    "history = model_simple.fit(X_train, y_train_c, batch_size=32, epochs=25, verbose=1, validation_split=0.2)"
   ]
  },
  {
   "cell_type": "code",
   "execution_count": null,
   "metadata": {
    "colab": {
     "base_uri": "https://localhost:8080/"
    },
    "executionInfo": {
     "elapsed": 1060,
     "status": "ok",
     "timestamp": 1646301159653,
     "user": {
      "displayName": "Patrick Hiemsch",
      "photoUrl": "https://lh3.googleusercontent.com/a/default-user=s64",
      "userId": "11380502315125518764"
     },
     "user_tz": -60
    },
    "id": "q24jUUMBG_MZ",
    "outputId": "a919e887-7521-43e2-edff-fc05f15d6821"
   },
   "outputs": [
    {
     "name": "stdout",
     "output_type": "stream",
     "text": [
      "Test loss = 1.276\n",
      "Test accuracy = 0.654\n"
     ]
    }
   ],
   "source": [
    "score = model_simple.evaluate(X_test, y_test_c, batch_size=128, verbose=0)\n",
    "\n",
    "for i in range(len(score)):\n",
    "    print(\"Test \" + model_simple.metrics_names[i] + \" = %.3f\" % score[i])"
   ]
  },
  {
   "cell_type": "code",
   "execution_count": null,
   "metadata": {
    "colab": {
     "base_uri": "https://localhost:8080/",
     "height": 456
    },
    "executionInfo": {
     "elapsed": 3349,
     "status": "ok",
     "timestamp": 1646301176222,
     "user": {
      "displayName": "Patrick Hiemsch",
      "photoUrl": "https://lh3.googleusercontent.com/a/default-user=s64",
      "userId": "11380502315125518764"
     },
     "user_tz": -60
    },
    "id": "PeL_EZk6IlhU",
    "outputId": "180b4ab6-045b-4b55-8f12-0921429db164"
   },
   "outputs": [
    {
     "data": {
      "image/png": "[encoded data removed]",
      "text/plain": [
       "<Figure size 1152x432 with 4 Axes>"
      ]
     },
     "metadata": {},
     "output_type": "display_data"
    }
   ],
   "source": [
    "PlotModelEval(model_simple, history, X_test, y_test, cifar_labels)"
   ]
  },
  {
   "cell_type": "markdown",
   "metadata": {},
   "source": [
    "### W & B"
   ]
  },
  {
   "cell_type": "code",
   "execution_count": 45,
   "metadata": {},
   "outputs": [
    {
     "name": "stdout",
     "output_type": "stream",
     "text": [
      "Requirement already satisfied: wandb in /Users/patrickhiemsch/miniforge3/envs/TF_M1/lib/python3.9/site-packages (0.12.16)\n",
      "Requirement already satisfied: requests<3,>=2.0.0 in /Users/patrickhiemsch/miniforge3/envs/TF_M1/lib/python3.9/site-packages (from wandb) (2.27.1)\n",
      "Requirement already satisfied: setuptools in /Users/patrickhiemsch/miniforge3/envs/TF_M1/lib/python3.9/site-packages (from wandb) (61.2.0)\n",
      "Requirement already satisfied: protobuf>=3.12.0 in /Users/patrickhiemsch/miniforge3/envs/TF_M1/lib/python3.9/site-packages (from wandb) (3.20.1)\n",
      "Requirement already satisfied: promise<3,>=2.0 in /Users/patrickhiemsch/miniforge3/envs/TF_M1/lib/python3.9/site-packages (from wandb) (2.3)\n",
      "Requirement already satisfied: psutil>=5.0.0 in /Users/patrickhiemsch/miniforge3/envs/TF_M1/lib/python3.9/site-packages (from wandb) (5.9.0)\n",
      "Requirement already satisfied: Click!=8.0.0,>=7.0 in /Users/patrickhiemsch/miniforge3/envs/TF_M1/lib/python3.9/site-packages (from wandb) (8.1.3)\n",
      "Requirement already satisfied: docker-pycreds>=0.4.0 in /Users/patrickhiemsch/miniforge3/envs/TF_M1/lib/python3.9/site-packages (from wandb) (0.4.0)\n",
      "Requirement already satisfied: GitPython>=1.0.0 in /Users/patrickhiemsch/miniforge3/envs/TF_M1/lib/python3.9/site-packages (from wandb) (3.1.27)\n",
      "Requirement already satisfied: python-dateutil>=2.6.1 in /Users/patrickhiemsch/miniforge3/envs/TF_M1/lib/python3.9/site-packages (from wandb) (2.8.2)\n",
      "Requirement already satisfied: setproctitle in /Users/patrickhiemsch/miniforge3/envs/TF_M1/lib/python3.9/site-packages (from wandb) (1.2.3)\n",
      "Requirement already satisfied: shortuuid>=0.5.0 in /Users/patrickhiemsch/miniforge3/envs/TF_M1/lib/python3.9/site-packages (from wandb) (1.0.9)\n",
      "Requirement already satisfied: six>=1.13.0 in /Users/patrickhiemsch/miniforge3/envs/TF_M1/lib/python3.9/site-packages (from wandb) (1.15.0)\n",
      "Requirement already satisfied: PyYAML in /Users/patrickhiemsch/miniforge3/envs/TF_M1/lib/python3.9/site-packages (from wandb) (6.0)\n",
      "Requirement already satisfied: sentry-sdk>=1.0.0 in /Users/patrickhiemsch/miniforge3/envs/TF_M1/lib/python3.9/site-packages (from wandb) (1.5.12)\n",
      "Requirement already satisfied: pathtools in /Users/patrickhiemsch/miniforge3/envs/TF_M1/lib/python3.9/site-packages (from wandb) (0.1.2)\n",
      "Requirement already satisfied: gitdb<5,>=4.0.1 in /Users/patrickhiemsch/miniforge3/envs/TF_M1/lib/python3.9/site-packages (from GitPython>=1.0.0->wandb) (4.0.9)\n",
      "Requirement already satisfied: smmap<6,>=3.0.1 in /Users/patrickhiemsch/miniforge3/envs/TF_M1/lib/python3.9/site-packages (from gitdb<5,>=4.0.1->GitPython>=1.0.0->wandb) (5.0.0)\n",
      "Requirement already satisfied: urllib3<1.27,>=1.21.1 in /Users/patrickhiemsch/miniforge3/envs/TF_M1/lib/python3.9/site-packages (from requests<3,>=2.0.0->wandb) (1.26.9)\n",
      "Requirement already satisfied: idna<4,>=2.5 in /Users/patrickhiemsch/miniforge3/envs/TF_M1/lib/python3.9/site-packages (from requests<3,>=2.0.0->wandb) (3.3)\n",
      "Requirement already satisfied: certifi>=2017.4.17 in /Users/patrickhiemsch/miniforge3/envs/TF_M1/lib/python3.9/site-packages (from requests<3,>=2.0.0->wandb) (2021.10.8)\n",
      "Requirement already satisfied: charset-normalizer~=2.0.0 in /Users/patrickhiemsch/miniforge3/envs/TF_M1/lib/python3.9/site-packages (from requests<3,>=2.0.0->wandb) (2.0.12)\n",
      "\u001b[34m\u001b[1mwandb\u001b[0m: Appending key for api.wandb.ai to your netrc file: /Users/patrickhiemsch/.netrc\n"
     ]
    }
   ],
   "source": [
    "!pip install wandb\n",
    "!wandb login \"8ecf7403a425fa8a096aeedbe252d23586e2a4cc\""
   ]
  },
  {
   "cell_type": "code",
   "execution_count": 10,
   "metadata": {
    "colab": {
     "base_uri": "https://localhost:8080/"
    },
    "executionInfo": {
     "elapsed": 10713,
     "status": "ok",
     "timestamp": 1646561506729,
     "user": {
      "displayName": "Patrick Hiemsch",
      "photoUrl": "https://lh3.googleusercontent.com/a/default-user=s64",
      "userId": "11380502315125518764"
     },
     "user_tz": -60
    },
    "id": "W9AFo8rne8yz",
    "outputId": "bea99dc2-0862-4a47-97e6-2de9a216d0ce"
   },
   "outputs": [],
   "source": [
    "from keras.datasets import cifar10\n",
    "\n",
    "(x_train, y_train), (x_test, y_test) = cifar10.load_data()"
   ]
  },
  {
   "cell_type": "code",
   "execution_count": 1,
   "metadata": {},
   "outputs": [
    {
     "ename": "NameError",
     "evalue": "name 'plt' is not defined",
     "output_type": "error",
     "traceback": [
      "\u001b[0;31m---------------------------------------------------------------------------\u001b[0m",
      "\u001b[0;31mNameError\u001b[0m                                 Traceback (most recent call last)",
      "Input \u001b[0;32mIn [1]\u001b[0m, in \u001b[0;36m<cell line: 1>\u001b[0;34m()\u001b[0m\n\u001b[0;32m----> 1\u001b[0m \u001b[43mplt\u001b[49m\u001b[38;5;241m.\u001b[39mfigure(figsize\u001b[38;5;241m=\u001b[39m(\u001b[38;5;241m12\u001b[39m,\u001b[38;5;241m4\u001b[39m))\n\u001b[1;32m      2\u001b[0m \u001b[38;5;28;01mfor\u001b[39;00m i \u001b[38;5;129;01min\u001b[39;00m \u001b[38;5;28mrange\u001b[39m(\u001b[38;5;241m18\u001b[39m):\n\u001b[1;32m      3\u001b[0m     idx \u001b[38;5;241m=\u001b[39m np\u001b[38;5;241m.\u001b[39mrandom\u001b[38;5;241m.\u001b[39mrandint(\u001b[38;5;241m7500\u001b[39m)\n",
      "\u001b[0;31mNameError\u001b[0m: name 'plt' is not defined"
     ]
    }
   ],
   "source": [
    "plt.figure(figsize=(12,4))\n",
    "for i in range(18):\n",
    "    idx = np.random.randint(7500)\n",
    "    label = y_train[idx,0]\n",
    "    \n",
    "    plt.subplot(3,6,i+1)\n",
    "    plt.tight_layout()\n",
    "    plt.imshow(Xtrain[idx])\n",
    "    plt.title(\"Class: {} ({})\".format(label, classes[label]))\n",
    "    plt.axis('off')\n",
    "plt.show()"
   ]
  },
  {
   "cell_type": "code",
   "execution_count": 11,
   "metadata": {
    "executionInfo": {
     "elapsed": 531,
     "status": "ok",
     "timestamp": 1646500525156,
     "user": {
      "displayName": "Patrick Hiemsch",
      "photoUrl": "https://lh3.googleusercontent.com/a/default-user=s64",
      "userId": "11380502315125518764"
     },
     "user_tz": -60
    },
    "id": "iQws6a00e3Us"
   },
   "outputs": [],
   "source": [
    "from keras.preprocessing.image import ImageDataGenerator\n",
    "datagen = ImageDataGenerator(rotation_range=90,\n",
    "                             width_shift_range=0.1, \n",
    "                             height_shift_range=0.1,\n",
    "                             horizontal_flip=True)\n",
    "datagen.fit(x_train)"
   ]
  },
  {
   "cell_type": "code",
   "execution_count": 12,
   "metadata": {
    "id": "3IU0IUMRjTnR"
   },
   "outputs": [],
   "source": [
    "flow = datagen.flow(x_train, y_train, batch_size=9) # Set Batch-size"
   ]
  },
  {
   "cell_type": "code",
   "execution_count": 13,
   "metadata": {
    "colab": {
     "base_uri": "https://localhost:8080/"
    },
    "executionInfo": {
     "elapsed": 5,
     "status": "ok",
     "timestamp": 1646386305880,
     "user": {
      "displayName": "Patrick Hiemsch",
      "photoUrl": "https://lh3.googleusercontent.com/a/default-user=s64",
      "userId": "11380502315125518764"
     },
     "user_tz": -60
    },
    "id": "l2pPmRRMjX2X",
    "outputId": "5f59dd4f-108f-45ac-a511-860cc4f2184f"
   },
   "outputs": [
    {
     "data": {
      "text/plain": [
       "array([[0],\n",
       "       [7],\n",
       "       [9],\n",
       "       [9],\n",
       "       [2],\n",
       "       [5],\n",
       "       [8],\n",
       "       [7],\n",
       "       [4]], dtype=uint8)"
      ]
     },
     "execution_count": 13,
     "metadata": {},
     "output_type": "execute_result"
    }
   ],
   "source": [
    "len(flow.next())# Every object is made from 9 objects then\n",
    "flow.next()[1]"
   ]
  },
  {
   "cell_type": "code",
   "execution_count": 14,
   "metadata": {
    "colab": {
     "base_uri": "https://localhost:8080/",
     "height": 37
    },
    "executionInfo": {
     "elapsed": 415,
     "status": "ok",
     "timestamp": 1646386313192,
     "user": {
      "displayName": "Patrick Hiemsch",
      "photoUrl": "https://lh3.googleusercontent.com/a/default-user=s64",
      "userId": "11380502315125518764"
     },
     "user_tz": -60
    },
    "id": "gEc5Xen-osnD",
    "outputId": "0ed36b43-b010-4904-8fbf-65ce6bf1c9f5"
   },
   "outputs": [
    {
     "data": {
      "text/plain": [
       "'airplane'"
      ]
     },
     "execution_count": 14,
     "metadata": {},
     "output_type": "execute_result"
    }
   ],
   "source": [
    "cifar_labels[np.argmax(flow.next()[1][0])]"
   ]
  },
  {
   "cell_type": "code",
   "execution_count": 15,
   "metadata": {
    "colab": {
     "base_uri": "https://localhost:8080/",
     "height": 148
    },
    "executionInfo": {
     "elapsed": 1234,
     "status": "ok",
     "timestamp": 1646386335820,
     "user": {
      "displayName": "Patrick Hiemsch",
      "photoUrl": "https://lh3.googleusercontent.com/a/default-user=s64",
      "userId": "11380502315125518764"
     },
     "user_tz": -60
    },
    "id": "RsOzvau4kM92",
    "outputId": "6df78529-90f6-41b2-fe09-78762051aa8a"
   },
   "outputs": [
    {
     "data": {
      "image/png": "[encoded data removed]",
      "text/plain": [
       "<Figure size 1152x4608 with 9 Axes>"
      ]
     },
     "metadata": {
      "needs_background": "light"
     },
     "output_type": "display_data"
    }
   ],
   "source": [
    "import matplotlib.pyplot as plt\n",
    "rnd_img_batch = flow.next()\n",
    "\n",
    "plt.figure(figsize=(16, 64))\n",
    "for i in range(9):\n",
    "  plt.subplot(1, 9, i+1)\n",
    "  image, label = np.rint(rnd_img_batch[0][i]).astype(int), rnd_img_batch[1][i]\n",
    "  plt.imshow(image)\n",
    "  plt.title(cifar_labels[np.argmax(label)])"
   ]
  },
  {
   "cell_type": "code",
   "execution_count": 16,
   "metadata": {
    "colab": {
     "base_uri": "https://localhost:8080/"
    },
    "executionInfo": {
     "elapsed": 238,
     "status": "ok",
     "timestamp": 1646316535058,
     "user": {
      "displayName": "Patrick Hiemsch",
      "photoUrl": "https://lh3.googleusercontent.com/a/default-user=s64",
      "userId": "11380502315125518764"
     },
     "user_tz": -60
    },
    "id": "JlD_4JiWFt0h",
    "outputId": "699a907f-1e0e-4cf8-c1ff-09e75adb5f1e"
   },
   "outputs": [
    {
     "data": {
      "text/plain": [
       "(50000, 32, 32, 3)"
      ]
     },
     "execution_count": 16,
     "metadata": {},
     "output_type": "execute_result"
    }
   ],
   "source": [
    "x_train.shape"
   ]
  },
  {
   "cell_type": "code",
   "execution_count": 27,
   "metadata": {},
   "outputs": [],
   "source": [
    "for i in range(6000):\n",
    "    a = flow.next()"
   ]
  },
  {
   "cell_type": "code",
   "execution_count": 17,
   "metadata": {
    "colab": {
     "base_uri": "https://localhost:8080/"
    },
    "executionInfo": {
     "elapsed": 235,
     "status": "ok",
     "timestamp": 1646316629896,
     "user": {
      "displayName": "Patrick Hiemsch",
      "photoUrl": "https://lh3.googleusercontent.com/a/default-user=s64",
      "userId": "11380502315125518764"
     },
     "user_tz": -60
    },
    "id": "wELJ-MSdHW_w",
    "outputId": "82c5c603-df6f-4983-c146-0febfceee913"
   },
   "outputs": [
    {
     "data": {
      "text/plain": [
       "array([[6],\n",
       "       [9],\n",
       "       [9],\n",
       "       ...,\n",
       "       [9],\n",
       "       [1],\n",
       "       [1]], dtype=uint8)"
      ]
     },
     "execution_count": 17,
     "metadata": {},
     "output_type": "execute_result"
    }
   ],
   "source": [
    "y_train"
   ]
  },
  {
   "cell_type": "code",
   "execution_count": 18,
   "metadata": {
    "executionInfo": {
     "elapsed": 2097,
     "status": "ok",
     "timestamp": 1646561508824,
     "user": {
      "displayName": "Patrick Hiemsch",
      "photoUrl": "https://lh3.googleusercontent.com/a/default-user=s64",
      "userId": "11380502315125518764"
     },
     "user_tz": -60
    },
    "id": "QL5vWZG4khk1"
   },
   "outputs": [],
   "source": [
    "import numpy as np\n",
    "from keras.utils import np_utils\n",
    "#z-score\n",
    "mean = np.mean(x_train,axis=(0,1,2,3))\n",
    "std = np.std(x_train,axis=(0,1,2,3))\n",
    "x_train = (x_train-mean)/(std+1e-7)\n",
    "x_test = (x_test-mean)/(std+1e-7)\n",
    "\n",
    "\n",
    "idx = round(0.2*x_train.shape[0])\n",
    "x_val, x_train = x_train[:idx, ], x_train[idx:, ]\n",
    " \n",
    "num_classes = 10\n",
    "y_train = np_utils.to_categorical(y_train,num_classes)\n",
    "y_test = np_utils.to_categorical(y_test,num_classes)\n",
    "\n",
    "y_val, y_train = y_train[:idx, ], y_train[idx:, ]"
   ]
  },
  {
   "cell_type": "code",
   "execution_count": 19,
   "metadata": {
    "colab": {
     "base_uri": "https://localhost:8080/"
    },
    "executionInfo": {
     "elapsed": 8,
     "status": "ok",
     "timestamp": 1646561508825,
     "user": {
      "displayName": "Patrick Hiemsch",
      "photoUrl": "https://lh3.googleusercontent.com/a/default-user=s64",
      "userId": "11380502315125518764"
     },
     "user_tz": -60
    },
    "id": "Ds1vmViPG0DQ",
    "outputId": "de6dace2-3bda-4aa9-eac9-7ae6678596ba"
   },
   "outputs": [
    {
     "data": {
      "text/plain": [
       "(10000, 32, 32, 3)"
      ]
     },
     "execution_count": 19,
     "metadata": {},
     "output_type": "execute_result"
    }
   ],
   "source": [
    "x_val.shape"
   ]
  },
  {
   "cell_type": "code",
   "execution_count": 51,
   "metadata": {},
   "outputs": [
    {
     "data": {
      "text/html": [
       "Finishing last run (ID:290ax5pv) before initializing another..."
      ],
      "text/plain": [
       "<IPython.core.display.HTML object>"
      ]
     },
     "metadata": {},
     "output_type": "display_data"
    },
    {
     "data": {
      "text/html": [
       "Waiting for W&B process to finish... <strong style=\"color:green\">(success).</strong>"
      ],
      "text/plain": [
       "<IPython.core.display.HTML object>"
      ]
     },
     "metadata": {},
     "output_type": "display_data"
    },
    {
     "data": {
      "application/vnd.jupyter.widget-view+json": {
       "model_id": "",
       "version_major": 2,
       "version_minor": 0
      },
      "text/plain": [
       "VBox(children=(Label(value='10.162 MB of 10.162 MB uploaded (0.000 MB deduped)\\r'), FloatProgress(value=1.0, m…"
      ]
     },
     "metadata": {},
     "output_type": "display_data"
    },
    {
     "data": {
      "text/html": [
       "<style>\n",
       "    table.wandb td:nth-child(1) { padding: 0 10px; text-align: left ; width: auto;} td:nth-child(2) {text-align: left ; width: 100%}\n",
       "    .wandb-row { display: flex; flex-direction: row; flex-wrap: wrap; justify-content: flex-start; width: 100% }\n",
       "    .wandb-col { display: flex; flex-direction: column; flex-basis: 100%; flex: 1; padding: 10px; }\n",
       "    </style>\n",
       "<div class=\"wandb-row\"><div class=\"wandb-col\"><h3>Run history:</h3><br/><table class=\"wandb\"><tr><td>accuracy</td><td>▁▄▅▆▆▇▇▇▇▇▇█████████</td></tr><tr><td>epoch</td><td>▁▁▂▂▂▃▃▄▄▄▅▅▅▆▆▇▇▇██</td></tr><tr><td>loss</td><td>█▅▄▃▃▂▂▂▂▂▂▁▁▁▁▁▁▁▁▁</td></tr><tr><td>lr</td><td>▁▁▁▁▁▁▁▁▁▁▁▁▁▁▁▁▁▁▁▁</td></tr><tr><td>val_accuracy</td><td>▁▂▄▅▆▆▆▆▇▆▇█▇▇█▇████</td></tr><tr><td>val_loss</td><td>█▇▅▃▃▃▃▃▂▃▂▁▂▂▂▂▁▁▁▁</td></tr></table><br/></div><div class=\"wandb-col\"><h3>Run summary:</h3><br/><table class=\"wandb\"><tr><td>accuracy</td><td>0.80475</td></tr><tr><td>best_epoch</td><td>16</td></tr><tr><td>best_val_loss</td><td>0.7331</td></tr><tr><td>epoch</td><td>19</td></tr><tr><td>loss</td><td>0.79133</td></tr><tr><td>lr</td><td>0.001</td></tr><tr><td>val_accuracy</td><td>0.8084</td></tr><tr><td>val_loss</td><td>0.78465</td></tr></table><br/></div></div>"
      ],
      "text/plain": [
       "<IPython.core.display.HTML object>"
      ]
     },
     "metadata": {},
     "output_type": "display_data"
    },
    {
     "data": {
      "text/html": [
       "Synced <strong style=\"color:#cdcd00\">CIFAR-10-Run-3</strong>: <a href=\"https://wandb.ai/patricksvm/my-test-project/runs/290ax5pv\" target=\"_blank\">https://wandb.ai/patricksvm/my-test-project/runs/290ax5pv</a><br/>Synced 6 W&B file(s), 1 media file(s), 0 artifact file(s) and 1 other file(s)"
      ],
      "text/plain": [
       "<IPython.core.display.HTML object>"
      ]
     },
     "metadata": {},
     "output_type": "display_data"
    },
    {
     "data": {
      "text/html": [
       "Find logs at: <code>./wandb/run-20220519_141204-290ax5pv/logs</code>"
      ],
      "text/plain": [
       "<IPython.core.display.HTML object>"
      ]
     },
     "metadata": {},
     "output_type": "display_data"
    },
    {
     "data": {
      "text/html": [
       "Successfully finished last run (ID:290ax5pv). Initializing new run:<br/>"
      ],
      "text/plain": [
       "<IPython.core.display.HTML object>"
      ]
     },
     "metadata": {},
     "output_type": "display_data"
    },
    {
     "data": {
      "text/html": [
       "Tracking run with wandb version 0.12.16"
      ],
      "text/plain": [
       "<IPython.core.display.HTML object>"
      ]
     },
     "metadata": {},
     "output_type": "display_data"
    },
    {
     "data": {
      "text/html": [
       "Run data is saved locally in <code>/Users/patrickhiemsch/Documents/Python_projects/wandb/run-20220519_145911-18j4ydts</code>"
      ],
      "text/plain": [
       "<IPython.core.display.HTML object>"
      ]
     },
     "metadata": {},
     "output_type": "display_data"
    },
    {
     "data": {
      "text/html": [
       "Syncing run <strong><a href=\"https://wandb.ai/patricksvm/my-test-project/runs/18j4ydts\" target=\"_blank\">CIFAR-10-Run-3</a></strong> to <a href=\"https://wandb.ai/patricksvm/my-test-project\" target=\"_blank\">Weights & Biases</a> (<a href=\"https://wandb.me/run\" target=\"_blank\">docs</a>)<br/>"
      ],
      "text/plain": [
       "<IPython.core.display.HTML object>"
      ]
     },
     "metadata": {},
     "output_type": "display_data"
    },
    {
     "data": {
      "text/html": [
       "<button onClick=\"this.nextSibling.style.display='block';this.style.display='none';\">Display W&B run</button><iframe src=\"https://wandb.ai/patricksvm/my-test-project/runs/18j4ydts?jupyter=true\" style=\"border:none;width:100%;height:420px;display:none;\"></iframe>"
      ],
      "text/plain": [
       "<wandb.sdk.wandb_run.Run at 0x40ea42520>"
      ]
     },
     "execution_count": 51,
     "metadata": {},
     "output_type": "execute_result"
    }
   ],
   "source": [
    "#### import wandb\n",
    "from wandb.keras import WandbCallback\n",
    "\n",
    "# initialize run with hyperparameters \n",
    "batch_size = 64\n",
    "epochs = 20\n",
    "learning_rate = 0.005\n",
    "\n",
    "\n",
    "wandb.config = {\n",
    "  \"learning_rate\": learning_rate,\n",
    "  \"epochs\": epochs,\n",
    "  \"batch_size\": batch_size\n",
    "}\n",
    "\n",
    "wandb.init(project=\"my-test-project\", \n",
    "           entity=\"patricksvm\",\n",
    "           config=wandb.config,\n",
    "           name = \"CIFAR-10-Run-3\")"
   ]
  },
  {
   "cell_type": "code",
   "execution_count": 52,
   "metadata": {
    "colab": {
     "base_uri": "https://localhost:8080/"
    },
    "executionInfo": {
     "elapsed": 1205421,
     "status": "ok",
     "timestamp": 1646499411086,
     "user": {
      "displayName": "Patrick Hiemsch",
      "photoUrl": "https://lh3.googleusercontent.com/a/default-user=s64",
      "userId": "11380502315125518764"
     },
     "user_tz": -60
    },
    "id": "PoWbkTK4H7aZ",
    "outputId": "7c25c317-9cef-4f67-b55c-cc8bce39e7be"
   },
   "outputs": [
    {
     "name": "stdout",
     "output_type": "stream",
     "text": [
      "Model: \"sequential_8\"\n",
      "_________________________________________________________________\n",
      " Layer (type)                Output Shape              Param #   \n",
      "=================================================================\n",
      " conv2d_52 (Conv2D)          (None, 32, 32, 32)        896       \n",
      "                                                                 \n",
      " activation_52 (Activation)  (None, 32, 32, 32)        0         \n",
      "                                                                 \n",
      " batch_normalization_59 (Bat  (None, 32, 32, 32)       128       \n",
      " chNormalization)                                                \n",
      "                                                                 \n",
      " conv2d_53 (Conv2D)          (None, 32, 32, 32)        9248      \n",
      "                                                                 \n",
      " activation_53 (Activation)  (None, 32, 32, 32)        0         \n",
      "                                                                 \n",
      " batch_normalization_60 (Bat  (None, 32, 32, 32)       128       \n",
      " chNormalization)                                                \n",
      "                                                                 \n",
      " max_pooling2d_26 (MaxPoolin  (None, 16, 16, 32)       0         \n",
      " g2D)                                                            \n",
      "                                                                 \n",
      " dropout_33 (Dropout)        (None, 16, 16, 32)        0         \n",
      "                                                                 \n",
      " conv2d_54 (Conv2D)          (None, 16, 16, 64)        18496     \n",
      "                                                                 \n",
      " activation_54 (Activation)  (None, 16, 16, 64)        0         \n",
      "                                                                 \n",
      " batch_normalization_61 (Bat  (None, 16, 16, 64)       256       \n",
      " chNormalization)                                                \n",
      "                                                                 \n",
      " conv2d_55 (Conv2D)          (None, 16, 16, 64)        36928     \n",
      "                                                                 \n",
      " activation_55 (Activation)  (None, 16, 16, 64)        0         \n",
      "                                                                 \n",
      " batch_normalization_62 (Bat  (None, 16, 16, 64)       256       \n",
      " chNormalization)                                                \n",
      "                                                                 \n",
      " max_pooling2d_27 (MaxPoolin  (None, 8, 8, 64)         0         \n",
      " g2D)                                                            \n",
      "                                                                 \n",
      " dropout_34 (Dropout)        (None, 8, 8, 64)          0         \n",
      "                                                                 \n",
      " conv2d_56 (Conv2D)          (None, 8, 8, 128)         73856     \n",
      "                                                                 \n",
      " activation_56 (Activation)  (None, 8, 8, 128)         0         \n",
      "                                                                 \n",
      " batch_normalization_63 (Bat  (None, 8, 8, 128)        512       \n",
      " chNormalization)                                                \n",
      "                                                                 \n",
      " conv2d_57 (Conv2D)          (None, 8, 8, 128)         147584    \n",
      "                                                                 \n",
      " activation_57 (Activation)  (None, 8, 8, 128)         0         \n",
      "                                                                 \n",
      " batch_normalization_64 (Bat  (None, 8, 8, 128)        512       \n",
      " chNormalization)                                                \n",
      "                                                                 \n",
      " max_pooling2d_28 (MaxPoolin  (None, 4, 4, 128)        0         \n",
      " g2D)                                                            \n",
      "                                                                 \n",
      " dropout_35 (Dropout)        (None, 4, 4, 128)         0         \n",
      "                                                                 \n",
      " conv2d_58 (Conv2D)          (None, 4, 4, 256)         295168    \n",
      "                                                                 \n",
      " activation_58 (Activation)  (None, 4, 4, 256)         0         \n",
      "                                                                 \n",
      " batch_normalization_65 (Bat  (None, 4, 4, 256)        1024      \n",
      " chNormalization)                                                \n",
      "                                                                 \n",
      " conv2d_59 (Conv2D)          (None, 4, 4, 256)         590080    \n",
      "                                                                 \n",
      " activation_59 (Activation)  (None, 4, 4, 256)         0         \n",
      "                                                                 \n",
      " batch_normalization_66 (Bat  (None, 4, 4, 256)        1024      \n",
      " chNormalization)                                                \n",
      "                                                                 \n",
      " max_pooling2d_29 (MaxPoolin  (None, 2, 2, 256)        0         \n",
      " g2D)                                                            \n",
      "                                                                 \n",
      " dropout_36 (Dropout)        (None, 2, 2, 256)         0         \n",
      "                                                                 \n",
      " flatten_7 (Flatten)         (None, 1024)              0         \n",
      "                                                                 \n",
      " dense_14 (Dense)            (None, 128)               131200    \n",
      "                                                                 \n",
      " batch_normalization_67 (Bat  (None, 128)              512       \n",
      " chNormalization)                                                \n",
      "                                                                 \n",
      " dropout_37 (Dropout)        (None, 128)               0         \n",
      "                                                                 \n",
      " dense_15 (Dense)            (None, 10)                1290      \n",
      "                                                                 \n",
      "=================================================================\n",
      "Total params: 1,309,098\n",
      "Trainable params: 1,306,922\n",
      "Non-trainable params: 2,176\n",
      "_________________________________________________________________\n",
      "Epoch 1/20\n"
     ]
    },
    {
     "name": "stderr",
     "output_type": "stream",
     "text": [
      "2022-05-19 14:59:24.143984: I tensorflow/core/grappler/optimizers/custom_graph_optimizer_registry.cc:113] Plugin optimizer for device_type GPU is enabled.\n"
     ]
    },
    {
     "name": "stdout",
     "output_type": "stream",
     "text": [
      "625/625 [==============================] - ETA: 0s - loss: 1.7472 - accuracy: 0.4161"
     ]
    },
    {
     "name": "stderr",
     "output_type": "stream",
     "text": [
      "2022-05-19 15:00:24.646178: I tensorflow/core/grappler/optimizers/custom_graph_optimizer_registry.cc:113] Plugin optimizer for device_type GPU is enabled.\n"
     ]
    },
    {
     "name": "stdout",
     "output_type": "stream",
     "text": [
      "625/625 [==============================] - 70s 107ms/step - loss: 1.7472 - accuracy: 0.4161 - val_loss: 1.5683 - val_accuracy: 0.5373 - lr: 0.0010 - _timestamp: 1652965232.0000 - _runtime: 75.0000\n",
      "Epoch 2/20\n",
      "625/625 [==============================] - 67s 108ms/step - loss: 1.3083 - accuracy: 0.5816 - val_loss: 1.2336 - val_accuracy: 0.6233 - lr: 0.0010 - _timestamp: 1652965299.0000 - _runtime: 142.0000\n",
      "Epoch 3/20\n",
      "625/625 [==============================] - 68s 108ms/step - loss: 1.1500 - accuracy: 0.6450 - val_loss: 1.2324 - val_accuracy: 0.6367 - lr: 0.0010 - _timestamp: 1652965367.0000 - _runtime: 210.0000\n",
      "Epoch 4/20\n",
      "625/625 [==============================] - 68s 109ms/step - loss: 1.0624 - accuracy: 0.6795 - val_loss: 1.0377 - val_accuracy: 0.6883 - lr: 0.0010 - _timestamp: 1652965435.0000 - _runtime: 278.0000\n",
      "Epoch 5/20\n",
      "625/625 [==============================] - 67s 108ms/step - loss: 1.0013 - accuracy: 0.7069 - val_loss: 1.0590 - val_accuracy: 0.6994 - lr: 0.0010 - _timestamp: 1652965503.0000 - _runtime: 346.0000\n",
      "Epoch 6/20\n",
      "625/625 [==============================] - 67s 107ms/step - loss: 0.9671 - accuracy: 0.7214 - val_loss: 1.0223 - val_accuracy: 0.7135 - lr: 0.0010 - _timestamp: 1652965570.0000 - _runtime: 413.0000\n",
      "Epoch 7/20\n",
      "625/625 [==============================] - 70s 111ms/step - loss: 0.9337 - accuracy: 0.7384 - val_loss: 0.9027 - val_accuracy: 0.7530 - lr: 0.0010 - _timestamp: 1652965639.0000 - _runtime: 482.0000\n",
      "Epoch 8/20\n",
      "625/625 [==============================] - 68s 109ms/step - loss: 0.9085 - accuracy: 0.7511 - val_loss: 0.9955 - val_accuracy: 0.7291 - lr: 0.0010 - _timestamp: 1652965708.0000 - _runtime: 551.0000\n",
      "Epoch 9/20\n",
      "625/625 [==============================] - 71s 113ms/step - loss: 0.8931 - accuracy: 0.7580 - val_loss: 0.8198 - val_accuracy: 0.7820 - lr: 0.0010 - _timestamp: 1652965778.0000 - _runtime: 621.0000\n",
      "Epoch 10/20\n",
      "625/625 [==============================] - 66s 106ms/step - loss: 0.8769 - accuracy: 0.7638 - val_loss: 0.8340 - val_accuracy: 0.7832 - lr: 0.0010 - _timestamp: 1652965845.0000 - _runtime: 688.0000\n",
      "Epoch 11/20\n",
      "625/625 [==============================] - 69s 110ms/step - loss: 0.8622 - accuracy: 0.7700 - val_loss: 0.8561 - val_accuracy: 0.7755 - lr: 0.0010 - _timestamp: 1652965913.0000 - _runtime: 756.0000\n",
      "Epoch 12/20\n",
      "625/625 [==============================] - 68s 108ms/step - loss: 0.8537 - accuracy: 0.7751 - val_loss: 0.8816 - val_accuracy: 0.7748 - lr: 0.0010 - _timestamp: 1652965981.0000 - _runtime: 824.0000\n",
      "Epoch 13/20\n",
      "625/625 [==============================] - 66s 106ms/step - loss: 0.8410 - accuracy: 0.7796 - val_loss: 0.8509 - val_accuracy: 0.7818 - lr: 0.0010 - _timestamp: 1652966047.0000 - _runtime: 890.0000\n",
      "Epoch 14/20\n",
      "625/625 [==============================] - 67s 107ms/step - loss: 0.8288 - accuracy: 0.7876 - val_loss: 0.8343 - val_accuracy: 0.7916 - lr: 0.0010 - _timestamp: 1652966115.0000 - _runtime: 958.0000\n",
      "Epoch 15/20\n",
      "625/625 [==============================] - 68s 109ms/step - loss: 0.8265 - accuracy: 0.7903 - val_loss: 0.7605 - val_accuracy: 0.8103 - lr: 0.0010 - _timestamp: 1652966182.0000 - _runtime: 1025.0000\n",
      "Epoch 16/20\n",
      "625/625 [==============================] - 66s 105ms/step - loss: 0.8177 - accuracy: 0.7930 - val_loss: 0.7953 - val_accuracy: 0.8046 - lr: 0.0010 - _timestamp: 1652966248.0000 - _runtime: 1091.0000\n",
      "Epoch 17/20\n",
      "625/625 [==============================] - 69s 110ms/step - loss: 0.8076 - accuracy: 0.7955 - val_loss: 0.8302 - val_accuracy: 0.7896 - lr: 0.0010 - _timestamp: 1652966317.0000 - _runtime: 1160.0000\n",
      "Epoch 18/20\n",
      "625/625 [==============================] - 69s 110ms/step - loss: 0.8008 - accuracy: 0.7996 - val_loss: 0.8119 - val_accuracy: 0.8000 - lr: 0.0010 - _timestamp: 1652966386.0000 - _runtime: 1229.0000\n",
      "Epoch 19/20\n",
      "625/625 [==============================] - 67s 107ms/step - loss: 0.7935 - accuracy: 0.8029 - val_loss: 0.7963 - val_accuracy: 0.8051 - lr: 0.0010 - _timestamp: 1652966453.0000 - _runtime: 1296.0000\n",
      "Epoch 20/20\n",
      "625/625 [==============================] - 66s 106ms/step - loss: 0.7902 - accuracy: 0.8038 - val_loss: 0.8136 - val_accuracy: 0.8011 - lr: 0.0010 - _timestamp: 1652966519.0000 - _runtime: 1362.0000\n"
     ]
    }
   ],
   "source": [
    "import tensorflow.keras as keras\n",
    "from keras.models import Sequential\n",
    "from keras.utils import np_utils\n",
    "from keras.preprocessing.image import ImageDataGenerator\n",
    "from keras.layers import Dense, Activation, Flatten, Dropout, BatchNormalization\n",
    "from keras.layers import Conv2D, MaxPooling2D\n",
    "from keras.datasets import cifar10\n",
    "from keras import regularizers\n",
    "from keras.callbacks import LearningRateScheduler\n",
    "import numpy as np\n",
    "\n",
    "\n",
    "\n",
    "num_classes=10\n",
    " \n",
    "def lr_schedule(epoch):\n",
    "    lrate = 0.001\n",
    "    if epoch > 20:\n",
    "        lrate = 0.0005\n",
    "    if epoch > 35: #35 perf\n",
    "        lrate = 0.0003\n",
    "    return lrate\n",
    " \n",
    " \n",
    "weight_decay = 1e-4\n",
    "model = Sequential()\n",
    "model.add(Conv2D(32, (3,3), padding='same', kernel_regularizer=regularizers.l2(weight_decay), input_shape=x_train.shape[1:]))\n",
    "model.add(Activation('elu'))\n",
    "model.add(BatchNormalization())\n",
    "model.add(Conv2D(32, (3,3), padding='same', kernel_regularizer=regularizers.l2(weight_decay)))\n",
    "model.add(Activation('elu'))\n",
    "model.add(BatchNormalization())\n",
    "model.add(MaxPooling2D(pool_size=(2,2)))\n",
    "model.add(Dropout(0.2))\n",
    " \n",
    "model.add(Conv2D(64, (3,3), padding='same', kernel_regularizer=regularizers.l2(weight_decay)))\n",
    "model.add(Activation('elu'))\n",
    "model.add(BatchNormalization())\n",
    "model.add(Conv2D(64, (3,3), padding='same', kernel_regularizer=regularizers.l2(weight_decay)))\n",
    "model.add(Activation('elu'))\n",
    "model.add(BatchNormalization())\n",
    "model.add(MaxPooling2D(pool_size=(2,2)))\n",
    "model.add(Dropout(0.3))\n",
    " \n",
    "model.add(Conv2D(128, (3,3), padding='same', kernel_regularizer=regularizers.l2(weight_decay)))\n",
    "model.add(Activation('elu'))\n",
    "model.add(BatchNormalization())\n",
    "model.add(Conv2D(128, (3,3), padding='same', kernel_regularizer=regularizers.l2(weight_decay)))\n",
    "model.add(Activation('elu'))\n",
    "model.add(BatchNormalization())\n",
    "model.add(MaxPooling2D(pool_size=(2,2)))\n",
    "model.add(Dropout(0.4))\n",
    "\n",
    "\n",
    "model.add(Conv2D(256, (3,3), padding='same', kernel_regularizer=regularizers.l2(weight_decay)))\n",
    "model.add(Activation('elu'))\n",
    "model.add(BatchNormalization())\n",
    "model.add(Conv2D(256, (3,3), padding='same', kernel_regularizer=regularizers.l2(weight_decay)))\n",
    "model.add(Activation('elu'))\n",
    "model.add(BatchNormalization())\n",
    "model.add(MaxPooling2D(pool_size=(2,2)))\n",
    "model.add(Dropout(0.5))\n",
    " \n",
    "\n",
    "model.add(Flatten())\n",
    "model.add(Dense(128, activation='elu'))\n",
    "model.add(BatchNormalization())\n",
    "model.add(Dropout(0.3))\n",
    "model.add(Dense(num_classes, activation='softmax'))\n",
    " \n",
    "model.summary()\n",
    " \n",
    "#data augmentation\n",
    "datagen = ImageDataGenerator(\n",
    "    rotation_range=15,\n",
    "    width_shift_range=0.1,\n",
    "    height_shift_range=0.1,\n",
    "    horizontal_flip=True,\n",
    "    zoom_range = [0.8, 1]\n",
    "    )\n",
    "datagen.fit(x_train)\n",
    "\n",
    "#training\n",
    "batch_size = 64\n",
    "flow_train = datagen.flow(x_train, y_train, batch_size=batch_size)\n",
    "\n",
    "\n",
    "opt_rms = keras.optimizers.RMSprop(lr=learning_rate, decay=1e-6)\n",
    "model.compile(loss='categorical_crossentropy', optimizer=opt_rms, metrics=['accuracy'])\n",
    "#model.fit(X_train, y_train_c, epochs=50, batch_size=batch_size,\n",
    "#                    verbose=1,validation_split=0.2,callbacks=[LearningRateScheduler(lr_schedule)])\n",
    "history = model.fit(flow_train,\n",
    "              steps_per_epoch=(x_train.shape[0]) // batch_size,\n",
    "              epochs=epochs,\n",
    "              verbose=1,\n",
    "              validation_data=(x_val, y_val),\n",
    "              callbacks=[LearningRateScheduler(lr_schedule),\n",
    "                        WandbCallback()])"
   ]
  },
  {
   "cell_type": "code",
   "execution_count": null,
   "metadata": {
    "colab": {
     "base_uri": "https://localhost:8080/"
    },
    "executionInfo": {
     "elapsed": 1128,
     "status": "ok",
     "timestamp": 1646500163365,
     "user": {
      "displayName": "Patrick Hiemsch",
      "photoUrl": "https://lh3.googleusercontent.com/a/default-user=s64",
      "userId": "11380502315125518764"
     },
     "user_tz": -60
    },
    "id": "epGrbBJ8Rexq",
    "outputId": "601c0ba6-af3a-4058-9d3d-7feb220628e1"
   },
   "outputs": [],
   "source": [
    "score = model.evaluate(x_test, y_test, batch_size=128, verbose=0)\n",
    "\n",
    "for i in range(len(score)):\n",
    "    print(\"Test \" + model.metrics_names[i] + \" = %.3f\" % score[i])"
   ]
  },
  {
   "cell_type": "code",
   "execution_count": null,
   "metadata": {},
   "outputs": [],
   "source": [
    "! pip install pandas"
   ]
  },
  {
   "cell_type": "code",
   "execution_count": 22,
   "metadata": {
    "colab": {
     "base_uri": "https://localhost:8080/",
     "height": 282
    },
    "executionInfo": {
     "elapsed": 362,
     "status": "ok",
     "timestamp": 1646500190611,
     "user": {
      "displayName": "Patrick Hiemsch",
      "photoUrl": "https://lh3.googleusercontent.com/a/default-user=s64",
      "userId": "11380502315125518764"
     },
     "user_tz": -60
    },
    "id": "f2uzMAeicVhD",
    "outputId": "13ce16a2-4693-41b5-dba9-b8a31e4c4aaf"
   },
   "outputs": [
    {
     "ename": "ModuleNotFoundError",
     "evalue": "No module named 'pandas'",
     "output_type": "error",
     "traceback": [
      "\u001b[0;31m---------------------------------------------------------------------------\u001b[0m",
      "\u001b[0;31mModuleNotFoundError\u001b[0m                       Traceback (most recent call last)",
      "Input \u001b[0;32mIn [22]\u001b[0m, in \u001b[0;36m<cell line: 1>\u001b[0;34m()\u001b[0m\n\u001b[0;32m----> 1\u001b[0m \u001b[38;5;28;01mimport\u001b[39;00m \u001b[38;5;21;01mpandas\u001b[39;00m \u001b[38;5;28;01mas\u001b[39;00m \u001b[38;5;21;01mpd\u001b[39;00m\n\u001b[1;32m      2\u001b[0m pd\u001b[38;5;241m.\u001b[39mDataFrame(history\u001b[38;5;241m.\u001b[39mhistory)\u001b[38;5;241m.\u001b[39mplot()\n",
      "\u001b[0;31mModuleNotFoundError\u001b[0m: No module named 'pandas'"
     ]
    }
   ],
   "source": [
    "import pandas as pd\n",
    "pd.DataFrame(history.history).plot()"
   ]
  },
  {
   "cell_type": "code",
   "execution_count": 25,
   "metadata": {
    "colab": {
     "base_uri": "https://localhost:8080/",
     "height": 1000
    },
    "executionInfo": {
     "elapsed": 4427,
     "status": "error",
     "timestamp": 1646564819227,
     "user": {
      "displayName": "Patrick Hiemsch",
      "photoUrl": "https://lh3.googleusercontent.com/a/default-user=s64",
      "userId": "11380502315125518764"
     },
     "user_tz": -60
    },
    "id": "yejb1GbHQmOA",
    "outputId": "2335fcf2-5a98-4d7f-89b5-c0e8ad3e7d44"
   },
   "outputs": [
    {
     "name": "stdout",
     "output_type": "stream",
     "text": [
      "Model: \"sequential_4\"\n",
      "_________________________________________________________________\n",
      " Layer (type)                Output Shape              Param #   \n",
      "=================================================================\n",
      " conv2d_22 (Conv2D)          (None, 32, 32, 32)        896       \n",
      "                                                                 \n",
      " activation_22 (Activation)  (None, 32, 32, 32)        0         \n",
      "                                                                 \n",
      " batch_normalization_25 (Bat  (None, 32, 32, 32)       128       \n",
      " chNormalization)                                                \n",
      "                                                                 \n",
      " conv2d_23 (Conv2D)          (None, 32, 32, 32)        9248      \n",
      "                                                                 \n",
      " activation_23 (Activation)  (None, 32, 32, 32)        0         \n",
      "                                                                 \n",
      " batch_normalization_26 (Bat  (None, 32, 32, 32)       128       \n",
      " chNormalization)                                                \n",
      "                                                                 \n",
      " max_pooling2d_11 (MaxPoolin  (None, 16, 16, 32)       0         \n",
      " g2D)                                                            \n",
      "                                                                 \n",
      " dropout_14 (Dropout)        (None, 16, 16, 32)        0         \n",
      "                                                                 \n",
      " conv2d_24 (Conv2D)          (None, 16, 16, 64)        18496     \n",
      "                                                                 \n",
      " activation_24 (Activation)  (None, 16, 16, 64)        0         \n",
      "                                                                 \n",
      " batch_normalization_27 (Bat  (None, 16, 16, 64)       256       \n",
      " chNormalization)                                                \n",
      "                                                                 \n",
      " conv2d_25 (Conv2D)          (None, 16, 16, 64)        36928     \n",
      "                                                                 \n",
      " activation_25 (Activation)  (None, 16, 16, 64)        0         \n",
      "                                                                 \n",
      " batch_normalization_28 (Bat  (None, 16, 16, 64)       256       \n",
      " chNormalization)                                                \n",
      "                                                                 \n",
      " max_pooling2d_12 (MaxPoolin  (None, 8, 8, 64)         0         \n",
      " g2D)                                                            \n",
      "                                                                 \n",
      " dropout_15 (Dropout)        (None, 8, 8, 64)          0         \n",
      "                                                                 \n",
      " conv2d_26 (Conv2D)          (None, 8, 8, 128)         73856     \n",
      "                                                                 \n",
      " activation_26 (Activation)  (None, 8, 8, 128)         0         \n",
      "                                                                 \n",
      " batch_normalization_29 (Bat  (None, 8, 8, 128)        512       \n",
      " chNormalization)                                                \n",
      "                                                                 \n",
      " conv2d_27 (Conv2D)          (None, 8, 8, 128)         147584    \n",
      "                                                                 \n",
      " activation_27 (Activation)  (None, 8, 8, 128)         0         \n",
      "                                                                 \n",
      " batch_normalization_30 (Bat  (None, 8, 8, 128)        512       \n",
      " chNormalization)                                                \n",
      "                                                                 \n",
      " max_pooling2d_13 (MaxPoolin  (None, 4, 4, 128)        0         \n",
      " g2D)                                                            \n",
      "                                                                 \n",
      " dropout_16 (Dropout)        (None, 4, 4, 128)         0         \n",
      "                                                                 \n",
      " flatten_3 (Flatten)         (None, 2048)              0         \n",
      "                                                                 \n",
      " dense_6 (Dense)             (None, 64)                131136    \n",
      "                                                                 \n",
      " batch_normalization_31 (Bat  (None, 64)               256       \n",
      " chNormalization)                                                \n",
      "                                                                 \n",
      " dropout_17 (Dropout)        (None, 64)                0         \n",
      "                                                                 \n",
      " dense_7 (Dense)             (None, 10)                650       \n",
      "                                                                 \n",
      "=================================================================\n",
      "Total params: 420,842\n",
      "Trainable params: 419,818\n",
      "Non-trainable params: 1,024\n",
      "_________________________________________________________________\n",
      "Epoch 1/50\n"
     ]
    },
    {
     "name": "stderr",
     "output_type": "stream",
     "text": [
      "2022-05-18 10:10:00.795999: I tensorflow/core/grappler/optimizers/custom_graph_optimizer_registry.cc:113] Plugin optimizer for device_type GPU is enabled.\n"
     ]
    },
    {
     "name": "stdout",
     "output_type": "stream",
     "text": [
      "312/312 [==============================] - ETA: 0s - loss: 1.6506 - accuracy: 0.4069"
     ]
    },
    {
     "name": "stderr",
     "output_type": "stream",
     "text": [
      "2022-05-18 10:10:39.467177: I tensorflow/core/grappler/optimizers/custom_graph_optimizer_registry.cc:113] Plugin optimizer for device_type GPU is enabled.\n"
     ]
    },
    {
     "ename": "KeyboardInterrupt",
     "evalue": "",
     "output_type": "error",
     "traceback": [
      "\u001b[0;31m---------------------------------------------------------------------------\u001b[0m",
      "\u001b[0;31mKeyboardInterrupt\u001b[0m                         Traceback (most recent call last)",
      "Input \u001b[0;32mIn [25]\u001b[0m, in \u001b[0;36m<cell line: 84>\u001b[0;34m()\u001b[0m\n\u001b[1;32m     81\u001b[0m model\u001b[38;5;241m.\u001b[39mcompile(loss\u001b[38;5;241m=\u001b[39m\u001b[38;5;124m'\u001b[39m\u001b[38;5;124mcategorical_crossentropy\u001b[39m\u001b[38;5;124m'\u001b[39m, optimizer\u001b[38;5;241m=\u001b[39mopt_rms, metrics\u001b[38;5;241m=\u001b[39m[\u001b[38;5;124m'\u001b[39m\u001b[38;5;124maccuracy\u001b[39m\u001b[38;5;124m'\u001b[39m])\n\u001b[1;32m     82\u001b[0m \u001b[38;5;66;03m#model.fit(X_train, y_train_c, epochs=50, batch_size=batch_size,\u001b[39;00m\n\u001b[1;32m     83\u001b[0m \u001b[38;5;66;03m#                    verbose=1,validation_split=0.2,callbacks=[LearningRateScheduler(lr_schedule)])\u001b[39;00m\n\u001b[0;32m---> 84\u001b[0m history \u001b[38;5;241m=\u001b[39m \u001b[43mmodel\u001b[49m\u001b[38;5;241;43m.\u001b[39;49m\u001b[43mfit\u001b[49m\u001b[43m(\u001b[49m\u001b[43mflow_train\u001b[49m\u001b[43m,\u001b[49m\n\u001b[1;32m     85\u001b[0m \u001b[43m              \u001b[49m\u001b[43msteps_per_epoch\u001b[49m\u001b[38;5;241;43m=\u001b[39;49m\u001b[43m(\u001b[49m\u001b[43mx_train\u001b[49m\u001b[38;5;241;43m.\u001b[39;49m\u001b[43mshape\u001b[49m\u001b[43m[\u001b[49m\u001b[38;5;241;43m0\u001b[39;49m\u001b[43m]\u001b[49m\u001b[43m)\u001b[49m\u001b[43m \u001b[49m\u001b[38;5;241;43m/\u001b[39;49m\u001b[38;5;241;43m/\u001b[39;49m\u001b[43m \u001b[49m\u001b[43mbatch_size\u001b[49m\u001b[43m,\u001b[49m\n\u001b[1;32m     86\u001b[0m \u001b[43m              \u001b[49m\u001b[43mepochs\u001b[49m\u001b[38;5;241;43m=\u001b[39;49m\u001b[38;5;241;43m50\u001b[39;49m\u001b[43m,\u001b[49m\n\u001b[1;32m     87\u001b[0m \u001b[43m              \u001b[49m\u001b[43mverbose\u001b[49m\u001b[38;5;241;43m=\u001b[39;49m\u001b[38;5;241;43m1\u001b[39;49m\u001b[43m,\u001b[49m\n\u001b[1;32m     88\u001b[0m \u001b[43m              \u001b[49m\u001b[43mvalidation_data\u001b[49m\u001b[38;5;241;43m=\u001b[39;49m\u001b[43m(\u001b[49m\u001b[43mx_val\u001b[49m\u001b[43m,\u001b[49m\u001b[43m \u001b[49m\u001b[43my_val\u001b[49m\u001b[43m)\u001b[49m\u001b[43m,\u001b[49m\n\u001b[1;32m     89\u001b[0m \u001b[43m              \u001b[49m\u001b[43mcallbacks\u001b[49m\u001b[38;5;241;43m=\u001b[39;49m\u001b[43m[\u001b[49m\u001b[43mLearningRateScheduler\u001b[49m\u001b[43m(\u001b[49m\u001b[43mlr_schedule\u001b[49m\u001b[43m)\u001b[49m\u001b[43m]\u001b[49m\u001b[43m)\u001b[49m\n",
      "File \u001b[0;32m~/miniforge3/envs/TF_M1/lib/python3.9/site-packages/keras/utils/traceback_utils.py:64\u001b[0m, in \u001b[0;36mfilter_traceback.<locals>.error_handler\u001b[0;34m(*args, **kwargs)\u001b[0m\n\u001b[1;32m     62\u001b[0m filtered_tb \u001b[38;5;241m=\u001b[39m \u001b[38;5;28;01mNone\u001b[39;00m\n\u001b[1;32m     63\u001b[0m \u001b[38;5;28;01mtry\u001b[39;00m:\n\u001b[0;32m---> 64\u001b[0m   \u001b[38;5;28;01mreturn\u001b[39;00m \u001b[43mfn\u001b[49m\u001b[43m(\u001b[49m\u001b[38;5;241;43m*\u001b[39;49m\u001b[43margs\u001b[49m\u001b[43m,\u001b[49m\u001b[43m \u001b[49m\u001b[38;5;241;43m*\u001b[39;49m\u001b[38;5;241;43m*\u001b[39;49m\u001b[43mkwargs\u001b[49m\u001b[43m)\u001b[49m\n\u001b[1;32m     65\u001b[0m \u001b[38;5;28;01mexcept\u001b[39;00m \u001b[38;5;167;01mException\u001b[39;00m \u001b[38;5;28;01mas\u001b[39;00m e:  \u001b[38;5;66;03m# pylint: disable=broad-except\u001b[39;00m\n\u001b[1;32m     66\u001b[0m   filtered_tb \u001b[38;5;241m=\u001b[39m _process_traceback_frames(e\u001b[38;5;241m.\u001b[39m__traceback__)\n",
      "File \u001b[0;32m~/miniforge3/envs/TF_M1/lib/python3.9/site-packages/keras/engine/training.py:1420\u001b[0m, in \u001b[0;36mModel.fit\u001b[0;34m(self, x, y, batch_size, epochs, verbose, callbacks, validation_split, validation_data, shuffle, class_weight, sample_weight, initial_epoch, steps_per_epoch, validation_steps, validation_batch_size, validation_freq, max_queue_size, workers, use_multiprocessing)\u001b[0m\n\u001b[1;32m   1406\u001b[0m \u001b[38;5;28;01mif\u001b[39;00m \u001b[38;5;28mgetattr\u001b[39m(\u001b[38;5;28mself\u001b[39m, \u001b[38;5;124m'\u001b[39m\u001b[38;5;124m_eval_data_handler\u001b[39m\u001b[38;5;124m'\u001b[39m, \u001b[38;5;28;01mNone\u001b[39;00m) \u001b[38;5;129;01mis\u001b[39;00m \u001b[38;5;28;01mNone\u001b[39;00m:\n\u001b[1;32m   1407\u001b[0m   \u001b[38;5;28mself\u001b[39m\u001b[38;5;241m.\u001b[39m_eval_data_handler \u001b[38;5;241m=\u001b[39m data_adapter\u001b[38;5;241m.\u001b[39mget_data_handler(\n\u001b[1;32m   1408\u001b[0m       x\u001b[38;5;241m=\u001b[39mval_x,\n\u001b[1;32m   1409\u001b[0m       y\u001b[38;5;241m=\u001b[39mval_y,\n\u001b[0;32m   (...)\u001b[0m\n\u001b[1;32m   1418\u001b[0m       model\u001b[38;5;241m=\u001b[39m\u001b[38;5;28mself\u001b[39m,\n\u001b[1;32m   1419\u001b[0m       steps_per_execution\u001b[38;5;241m=\u001b[39m\u001b[38;5;28mself\u001b[39m\u001b[38;5;241m.\u001b[39m_steps_per_execution)\n\u001b[0;32m-> 1420\u001b[0m val_logs \u001b[38;5;241m=\u001b[39m \u001b[38;5;28;43mself\u001b[39;49m\u001b[38;5;241;43m.\u001b[39;49m\u001b[43mevaluate\u001b[49m\u001b[43m(\u001b[49m\n\u001b[1;32m   1421\u001b[0m \u001b[43m    \u001b[49m\u001b[43mx\u001b[49m\u001b[38;5;241;43m=\u001b[39;49m\u001b[43mval_x\u001b[49m\u001b[43m,\u001b[49m\n\u001b[1;32m   1422\u001b[0m \u001b[43m    \u001b[49m\u001b[43my\u001b[49m\u001b[38;5;241;43m=\u001b[39;49m\u001b[43mval_y\u001b[49m\u001b[43m,\u001b[49m\n\u001b[1;32m   1423\u001b[0m \u001b[43m    \u001b[49m\u001b[43msample_weight\u001b[49m\u001b[38;5;241;43m=\u001b[39;49m\u001b[43mval_sample_weight\u001b[49m\u001b[43m,\u001b[49m\n\u001b[1;32m   1424\u001b[0m \u001b[43m    \u001b[49m\u001b[43mbatch_size\u001b[49m\u001b[38;5;241;43m=\u001b[39;49m\u001b[43mvalidation_batch_size\u001b[49m\u001b[43m \u001b[49m\u001b[38;5;129;43;01mor\u001b[39;49;00m\u001b[43m \u001b[49m\u001b[43mbatch_size\u001b[49m\u001b[43m,\u001b[49m\n\u001b[1;32m   1425\u001b[0m \u001b[43m    \u001b[49m\u001b[43msteps\u001b[49m\u001b[38;5;241;43m=\u001b[39;49m\u001b[43mvalidation_steps\u001b[49m\u001b[43m,\u001b[49m\n\u001b[1;32m   1426\u001b[0m \u001b[43m    \u001b[49m\u001b[43mcallbacks\u001b[49m\u001b[38;5;241;43m=\u001b[39;49m\u001b[43mcallbacks\u001b[49m\u001b[43m,\u001b[49m\n\u001b[1;32m   1427\u001b[0m \u001b[43m    \u001b[49m\u001b[43mmax_queue_size\u001b[49m\u001b[38;5;241;43m=\u001b[39;49m\u001b[43mmax_queue_size\u001b[49m\u001b[43m,\u001b[49m\n\u001b[1;32m   1428\u001b[0m \u001b[43m    \u001b[49m\u001b[43mworkers\u001b[49m\u001b[38;5;241;43m=\u001b[39;49m\u001b[43mworkers\u001b[49m\u001b[43m,\u001b[49m\n\u001b[1;32m   1429\u001b[0m \u001b[43m    \u001b[49m\u001b[43muse_multiprocessing\u001b[49m\u001b[38;5;241;43m=\u001b[39;49m\u001b[43muse_multiprocessing\u001b[49m\u001b[43m,\u001b[49m\n\u001b[1;32m   1430\u001b[0m \u001b[43m    \u001b[49m\u001b[43mreturn_dict\u001b[49m\u001b[38;5;241;43m=\u001b[39;49m\u001b[38;5;28;43;01mTrue\u001b[39;49;00m\u001b[43m,\u001b[49m\n\u001b[1;32m   1431\u001b[0m \u001b[43m    \u001b[49m\u001b[43m_use_cached_eval_dataset\u001b[49m\u001b[38;5;241;43m=\u001b[39;49m\u001b[38;5;28;43;01mTrue\u001b[39;49;00m\u001b[43m)\u001b[49m\n\u001b[1;32m   1432\u001b[0m val_logs \u001b[38;5;241m=\u001b[39m {\u001b[38;5;124m'\u001b[39m\u001b[38;5;124mval_\u001b[39m\u001b[38;5;124m'\u001b[39m \u001b[38;5;241m+\u001b[39m name: val \u001b[38;5;28;01mfor\u001b[39;00m name, val \u001b[38;5;129;01min\u001b[39;00m val_logs\u001b[38;5;241m.\u001b[39mitems()}\n\u001b[1;32m   1433\u001b[0m epoch_logs\u001b[38;5;241m.\u001b[39mupdate(val_logs)\n",
      "File \u001b[0;32m~/miniforge3/envs/TF_M1/lib/python3.9/site-packages/keras/utils/traceback_utils.py:64\u001b[0m, in \u001b[0;36mfilter_traceback.<locals>.error_handler\u001b[0;34m(*args, **kwargs)\u001b[0m\n\u001b[1;32m     62\u001b[0m filtered_tb \u001b[38;5;241m=\u001b[39m \u001b[38;5;28;01mNone\u001b[39;00m\n\u001b[1;32m     63\u001b[0m \u001b[38;5;28;01mtry\u001b[39;00m:\n\u001b[0;32m---> 64\u001b[0m   \u001b[38;5;28;01mreturn\u001b[39;00m \u001b[43mfn\u001b[49m\u001b[43m(\u001b[49m\u001b[38;5;241;43m*\u001b[39;49m\u001b[43margs\u001b[49m\u001b[43m,\u001b[49m\u001b[43m \u001b[49m\u001b[38;5;241;43m*\u001b[39;49m\u001b[38;5;241;43m*\u001b[39;49m\u001b[43mkwargs\u001b[49m\u001b[43m)\u001b[49m\n\u001b[1;32m     65\u001b[0m \u001b[38;5;28;01mexcept\u001b[39;00m \u001b[38;5;167;01mException\u001b[39;00m \u001b[38;5;28;01mas\u001b[39;00m e:  \u001b[38;5;66;03m# pylint: disable=broad-except\u001b[39;00m\n\u001b[1;32m     66\u001b[0m   filtered_tb \u001b[38;5;241m=\u001b[39m _process_traceback_frames(e\u001b[38;5;241m.\u001b[39m__traceback__)\n",
      "File \u001b[0;32m~/miniforge3/envs/TF_M1/lib/python3.9/site-packages/keras/engine/training.py:1716\u001b[0m, in \u001b[0;36mModel.evaluate\u001b[0;34m(self, x, y, batch_size, verbose, sample_weight, steps, callbacks, max_queue_size, workers, use_multiprocessing, return_dict, **kwargs)\u001b[0m\n\u001b[1;32m   1714\u001b[0m \u001b[38;5;28;01mwith\u001b[39;00m tf\u001b[38;5;241m.\u001b[39mprofiler\u001b[38;5;241m.\u001b[39mexperimental\u001b[38;5;241m.\u001b[39mTrace(\u001b[38;5;124m'\u001b[39m\u001b[38;5;124mtest\u001b[39m\u001b[38;5;124m'\u001b[39m, step_num\u001b[38;5;241m=\u001b[39mstep, _r\u001b[38;5;241m=\u001b[39m\u001b[38;5;241m1\u001b[39m):\n\u001b[1;32m   1715\u001b[0m   callbacks\u001b[38;5;241m.\u001b[39mon_test_batch_begin(step)\n\u001b[0;32m-> 1716\u001b[0m   tmp_logs \u001b[38;5;241m=\u001b[39m \u001b[38;5;28;43mself\u001b[39;49m\u001b[38;5;241;43m.\u001b[39;49m\u001b[43mtest_function\u001b[49m\u001b[43m(\u001b[49m\u001b[43miterator\u001b[49m\u001b[43m)\u001b[49m\n\u001b[1;32m   1717\u001b[0m   \u001b[38;5;28;01mif\u001b[39;00m data_handler\u001b[38;5;241m.\u001b[39mshould_sync:\n\u001b[1;32m   1718\u001b[0m     context\u001b[38;5;241m.\u001b[39masync_wait()\n",
      "File \u001b[0;32m~/miniforge3/envs/TF_M1/lib/python3.9/site-packages/tensorflow/python/util/traceback_utils.py:150\u001b[0m, in \u001b[0;36mfilter_traceback.<locals>.error_handler\u001b[0;34m(*args, **kwargs)\u001b[0m\n\u001b[1;32m    148\u001b[0m filtered_tb \u001b[38;5;241m=\u001b[39m \u001b[38;5;28;01mNone\u001b[39;00m\n\u001b[1;32m    149\u001b[0m \u001b[38;5;28;01mtry\u001b[39;00m:\n\u001b[0;32m--> 150\u001b[0m   \u001b[38;5;28;01mreturn\u001b[39;00m \u001b[43mfn\u001b[49m\u001b[43m(\u001b[49m\u001b[38;5;241;43m*\u001b[39;49m\u001b[43margs\u001b[49m\u001b[43m,\u001b[49m\u001b[43m \u001b[49m\u001b[38;5;241;43m*\u001b[39;49m\u001b[38;5;241;43m*\u001b[39;49m\u001b[43mkwargs\u001b[49m\u001b[43m)\u001b[49m\n\u001b[1;32m    151\u001b[0m \u001b[38;5;28;01mexcept\u001b[39;00m \u001b[38;5;167;01mException\u001b[39;00m \u001b[38;5;28;01mas\u001b[39;00m e:\n\u001b[1;32m    152\u001b[0m   filtered_tb \u001b[38;5;241m=\u001b[39m _process_traceback_frames(e\u001b[38;5;241m.\u001b[39m__traceback__)\n",
      "File \u001b[0;32m~/miniforge3/envs/TF_M1/lib/python3.9/site-packages/tensorflow/python/eager/def_function.py:915\u001b[0m, in \u001b[0;36mFunction.__call__\u001b[0;34m(self, *args, **kwds)\u001b[0m\n\u001b[1;32m    912\u001b[0m compiler \u001b[38;5;241m=\u001b[39m \u001b[38;5;124m\"\u001b[39m\u001b[38;5;124mxla\u001b[39m\u001b[38;5;124m\"\u001b[39m \u001b[38;5;28;01mif\u001b[39;00m \u001b[38;5;28mself\u001b[39m\u001b[38;5;241m.\u001b[39m_jit_compile \u001b[38;5;28;01melse\u001b[39;00m \u001b[38;5;124m\"\u001b[39m\u001b[38;5;124mnonXla\u001b[39m\u001b[38;5;124m\"\u001b[39m\n\u001b[1;32m    914\u001b[0m \u001b[38;5;28;01mwith\u001b[39;00m OptionalXlaContext(\u001b[38;5;28mself\u001b[39m\u001b[38;5;241m.\u001b[39m_jit_compile):\n\u001b[0;32m--> 915\u001b[0m   result \u001b[38;5;241m=\u001b[39m \u001b[38;5;28;43mself\u001b[39;49m\u001b[38;5;241;43m.\u001b[39;49m\u001b[43m_call\u001b[49m\u001b[43m(\u001b[49m\u001b[38;5;241;43m*\u001b[39;49m\u001b[43margs\u001b[49m\u001b[43m,\u001b[49m\u001b[43m \u001b[49m\u001b[38;5;241;43m*\u001b[39;49m\u001b[38;5;241;43m*\u001b[39;49m\u001b[43mkwds\u001b[49m\u001b[43m)\u001b[49m\n\u001b[1;32m    917\u001b[0m new_tracing_count \u001b[38;5;241m=\u001b[39m \u001b[38;5;28mself\u001b[39m\u001b[38;5;241m.\u001b[39mexperimental_get_tracing_count()\n\u001b[1;32m    918\u001b[0m without_tracing \u001b[38;5;241m=\u001b[39m (tracing_count \u001b[38;5;241m==\u001b[39m new_tracing_count)\n",
      "File \u001b[0;32m~/miniforge3/envs/TF_M1/lib/python3.9/site-packages/tensorflow/python/eager/def_function.py:954\u001b[0m, in \u001b[0;36mFunction._call\u001b[0;34m(self, *args, **kwds)\u001b[0m\n\u001b[1;32m    951\u001b[0m \u001b[38;5;28mself\u001b[39m\u001b[38;5;241m.\u001b[39m_lock\u001b[38;5;241m.\u001b[39mrelease()\n\u001b[1;32m    952\u001b[0m \u001b[38;5;66;03m# In this case we have not created variables on the first call. So we can\u001b[39;00m\n\u001b[1;32m    953\u001b[0m \u001b[38;5;66;03m# run the first trace but we should fail if variables are created.\u001b[39;00m\n\u001b[0;32m--> 954\u001b[0m results \u001b[38;5;241m=\u001b[39m \u001b[38;5;28;43mself\u001b[39;49m\u001b[38;5;241;43m.\u001b[39;49m\u001b[43m_stateful_fn\u001b[49m\u001b[43m(\u001b[49m\u001b[38;5;241;43m*\u001b[39;49m\u001b[43margs\u001b[49m\u001b[43m,\u001b[49m\u001b[43m \u001b[49m\u001b[38;5;241;43m*\u001b[39;49m\u001b[38;5;241;43m*\u001b[39;49m\u001b[43mkwds\u001b[49m\u001b[43m)\u001b[49m\n\u001b[1;32m    955\u001b[0m \u001b[38;5;28;01mif\u001b[39;00m \u001b[38;5;28mself\u001b[39m\u001b[38;5;241m.\u001b[39m_created_variables \u001b[38;5;129;01mand\u001b[39;00m \u001b[38;5;129;01mnot\u001b[39;00m ALLOW_DYNAMIC_VARIABLE_CREATION:\n\u001b[1;32m    956\u001b[0m   \u001b[38;5;28;01mraise\u001b[39;00m \u001b[38;5;167;01mValueError\u001b[39;00m(\u001b[38;5;124m\"\u001b[39m\u001b[38;5;124mCreating variables on a non-first call to a function\u001b[39m\u001b[38;5;124m\"\u001b[39m\n\u001b[1;32m    957\u001b[0m                    \u001b[38;5;124m\"\u001b[39m\u001b[38;5;124m decorated with tf.function.\u001b[39m\u001b[38;5;124m\"\u001b[39m)\n",
      "File \u001b[0;32m~/miniforge3/envs/TF_M1/lib/python3.9/site-packages/tensorflow/python/eager/function.py:2956\u001b[0m, in \u001b[0;36mFunction.__call__\u001b[0;34m(self, *args, **kwargs)\u001b[0m\n\u001b[1;32m   2953\u001b[0m \u001b[38;5;28;01mwith\u001b[39;00m \u001b[38;5;28mself\u001b[39m\u001b[38;5;241m.\u001b[39m_lock:\n\u001b[1;32m   2954\u001b[0m   (graph_function,\n\u001b[1;32m   2955\u001b[0m    filtered_flat_args) \u001b[38;5;241m=\u001b[39m \u001b[38;5;28mself\u001b[39m\u001b[38;5;241m.\u001b[39m_maybe_define_function(args, kwargs)\n\u001b[0;32m-> 2956\u001b[0m \u001b[38;5;28;01mreturn\u001b[39;00m \u001b[43mgraph_function\u001b[49m\u001b[38;5;241;43m.\u001b[39;49m\u001b[43m_call_flat\u001b[49m\u001b[43m(\u001b[49m\n\u001b[1;32m   2957\u001b[0m \u001b[43m    \u001b[49m\u001b[43mfiltered_flat_args\u001b[49m\u001b[43m,\u001b[49m\u001b[43m \u001b[49m\u001b[43mcaptured_inputs\u001b[49m\u001b[38;5;241;43m=\u001b[39;49m\u001b[43mgraph_function\u001b[49m\u001b[38;5;241;43m.\u001b[39;49m\u001b[43mcaptured_inputs\u001b[49m\u001b[43m)\u001b[49m\n",
      "File \u001b[0;32m~/miniforge3/envs/TF_M1/lib/python3.9/site-packages/tensorflow/python/eager/function.py:1853\u001b[0m, in \u001b[0;36mConcreteFunction._call_flat\u001b[0;34m(self, args, captured_inputs, cancellation_manager)\u001b[0m\n\u001b[1;32m   1849\u001b[0m possible_gradient_type \u001b[38;5;241m=\u001b[39m gradients_util\u001b[38;5;241m.\u001b[39mPossibleTapeGradientTypes(args)\n\u001b[1;32m   1850\u001b[0m \u001b[38;5;28;01mif\u001b[39;00m (possible_gradient_type \u001b[38;5;241m==\u001b[39m gradients_util\u001b[38;5;241m.\u001b[39mPOSSIBLE_GRADIENT_TYPES_NONE\n\u001b[1;32m   1851\u001b[0m     \u001b[38;5;129;01mand\u001b[39;00m executing_eagerly):\n\u001b[1;32m   1852\u001b[0m   \u001b[38;5;66;03m# No tape is watching; skip to running the function.\u001b[39;00m\n\u001b[0;32m-> 1853\u001b[0m   \u001b[38;5;28;01mreturn\u001b[39;00m \u001b[38;5;28mself\u001b[39m\u001b[38;5;241m.\u001b[39m_build_call_outputs(\u001b[38;5;28;43mself\u001b[39;49m\u001b[38;5;241;43m.\u001b[39;49m\u001b[43m_inference_function\u001b[49m\u001b[38;5;241;43m.\u001b[39;49m\u001b[43mcall\u001b[49m\u001b[43m(\u001b[49m\n\u001b[1;32m   1854\u001b[0m \u001b[43m      \u001b[49m\u001b[43mctx\u001b[49m\u001b[43m,\u001b[49m\u001b[43m \u001b[49m\u001b[43margs\u001b[49m\u001b[43m,\u001b[49m\u001b[43m \u001b[49m\u001b[43mcancellation_manager\u001b[49m\u001b[38;5;241;43m=\u001b[39;49m\u001b[43mcancellation_manager\u001b[49m\u001b[43m)\u001b[49m)\n\u001b[1;32m   1855\u001b[0m forward_backward \u001b[38;5;241m=\u001b[39m \u001b[38;5;28mself\u001b[39m\u001b[38;5;241m.\u001b[39m_select_forward_and_backward_functions(\n\u001b[1;32m   1856\u001b[0m     args,\n\u001b[1;32m   1857\u001b[0m     possible_gradient_type,\n\u001b[1;32m   1858\u001b[0m     executing_eagerly)\n\u001b[1;32m   1859\u001b[0m forward_function, args_with_tangents \u001b[38;5;241m=\u001b[39m forward_backward\u001b[38;5;241m.\u001b[39mforward()\n",
      "File \u001b[0;32m~/miniforge3/envs/TF_M1/lib/python3.9/site-packages/tensorflow/python/eager/function.py:499\u001b[0m, in \u001b[0;36m_EagerDefinedFunction.call\u001b[0;34m(self, ctx, args, cancellation_manager)\u001b[0m\n\u001b[1;32m    497\u001b[0m \u001b[38;5;28;01mwith\u001b[39;00m _InterpolateFunctionError(\u001b[38;5;28mself\u001b[39m):\n\u001b[1;32m    498\u001b[0m   \u001b[38;5;28;01mif\u001b[39;00m cancellation_manager \u001b[38;5;129;01mis\u001b[39;00m \u001b[38;5;28;01mNone\u001b[39;00m:\n\u001b[0;32m--> 499\u001b[0m     outputs \u001b[38;5;241m=\u001b[39m \u001b[43mexecute\u001b[49m\u001b[38;5;241;43m.\u001b[39;49m\u001b[43mexecute\u001b[49m\u001b[43m(\u001b[49m\n\u001b[1;32m    500\u001b[0m \u001b[43m        \u001b[49m\u001b[38;5;28;43mstr\u001b[39;49m\u001b[43m(\u001b[49m\u001b[38;5;28;43mself\u001b[39;49m\u001b[38;5;241;43m.\u001b[39;49m\u001b[43msignature\u001b[49m\u001b[38;5;241;43m.\u001b[39;49m\u001b[43mname\u001b[49m\u001b[43m)\u001b[49m\u001b[43m,\u001b[49m\n\u001b[1;32m    501\u001b[0m \u001b[43m        \u001b[49m\u001b[43mnum_outputs\u001b[49m\u001b[38;5;241;43m=\u001b[39;49m\u001b[38;5;28;43mself\u001b[39;49m\u001b[38;5;241;43m.\u001b[39;49m\u001b[43m_num_outputs\u001b[49m\u001b[43m,\u001b[49m\n\u001b[1;32m    502\u001b[0m \u001b[43m        \u001b[49m\u001b[43minputs\u001b[49m\u001b[38;5;241;43m=\u001b[39;49m\u001b[43margs\u001b[49m\u001b[43m,\u001b[49m\n\u001b[1;32m    503\u001b[0m \u001b[43m        \u001b[49m\u001b[43mattrs\u001b[49m\u001b[38;5;241;43m=\u001b[39;49m\u001b[43mattrs\u001b[49m\u001b[43m,\u001b[49m\n\u001b[1;32m    504\u001b[0m \u001b[43m        \u001b[49m\u001b[43mctx\u001b[49m\u001b[38;5;241;43m=\u001b[39;49m\u001b[43mctx\u001b[49m\u001b[43m)\u001b[49m\n\u001b[1;32m    505\u001b[0m   \u001b[38;5;28;01melse\u001b[39;00m:\n\u001b[1;32m    506\u001b[0m     outputs \u001b[38;5;241m=\u001b[39m execute\u001b[38;5;241m.\u001b[39mexecute_with_cancellation(\n\u001b[1;32m    507\u001b[0m         \u001b[38;5;28mstr\u001b[39m(\u001b[38;5;28mself\u001b[39m\u001b[38;5;241m.\u001b[39msignature\u001b[38;5;241m.\u001b[39mname),\n\u001b[1;32m    508\u001b[0m         num_outputs\u001b[38;5;241m=\u001b[39m\u001b[38;5;28mself\u001b[39m\u001b[38;5;241m.\u001b[39m_num_outputs,\n\u001b[0;32m   (...)\u001b[0m\n\u001b[1;32m    511\u001b[0m         ctx\u001b[38;5;241m=\u001b[39mctx,\n\u001b[1;32m    512\u001b[0m         cancellation_manager\u001b[38;5;241m=\u001b[39mcancellation_manager)\n",
      "File \u001b[0;32m~/miniforge3/envs/TF_M1/lib/python3.9/site-packages/tensorflow/python/eager/execute.py:54\u001b[0m, in \u001b[0;36mquick_execute\u001b[0;34m(op_name, num_outputs, inputs, attrs, ctx, name)\u001b[0m\n\u001b[1;32m     52\u001b[0m \u001b[38;5;28;01mtry\u001b[39;00m:\n\u001b[1;32m     53\u001b[0m   ctx\u001b[38;5;241m.\u001b[39mensure_initialized()\n\u001b[0;32m---> 54\u001b[0m   tensors \u001b[38;5;241m=\u001b[39m \u001b[43mpywrap_tfe\u001b[49m\u001b[38;5;241;43m.\u001b[39;49m\u001b[43mTFE_Py_Execute\u001b[49m\u001b[43m(\u001b[49m\u001b[43mctx\u001b[49m\u001b[38;5;241;43m.\u001b[39;49m\u001b[43m_handle\u001b[49m\u001b[43m,\u001b[49m\u001b[43m \u001b[49m\u001b[43mdevice_name\u001b[49m\u001b[43m,\u001b[49m\u001b[43m \u001b[49m\u001b[43mop_name\u001b[49m\u001b[43m,\u001b[49m\n\u001b[1;32m     55\u001b[0m \u001b[43m                                      \u001b[49m\u001b[43minputs\u001b[49m\u001b[43m,\u001b[49m\u001b[43m \u001b[49m\u001b[43mattrs\u001b[49m\u001b[43m,\u001b[49m\u001b[43m \u001b[49m\u001b[43mnum_outputs\u001b[49m\u001b[43m)\u001b[49m\n\u001b[1;32m     56\u001b[0m \u001b[38;5;28;01mexcept\u001b[39;00m core\u001b[38;5;241m.\u001b[39m_NotOkStatusException \u001b[38;5;28;01mas\u001b[39;00m e:\n\u001b[1;32m     57\u001b[0m   \u001b[38;5;28;01mif\u001b[39;00m name \u001b[38;5;129;01mis\u001b[39;00m \u001b[38;5;129;01mnot\u001b[39;00m \u001b[38;5;28;01mNone\u001b[39;00m:\n",
      "\u001b[0;31mKeyboardInterrupt\u001b[0m: "
     ]
    }
   ],
   "source": [
    "import tensorflow.keras as keras\n",
    "from keras.models import Sequential\n",
    "from keras.utils import np_utils\n",
    "from keras.preprocessing.image import ImageDataGenerator\n",
    "from keras.layers import Dense, Activation, Flatten, Dropout, BatchNormalization\n",
    "from keras.layers import Conv2D, MaxPooling2D\n",
    "from keras.datasets import cifar10\n",
    "from keras import regularizers\n",
    "from keras.callbacks import LearningRateScheduler\n",
    "import numpy as np\n",
    "\n",
    "num_classes=10\n",
    " \n",
    "def lr_schedule(epoch):\n",
    "    lrate = 0.015\n",
    "    if epoch > 10:\n",
    "        lrate = 0.01\n",
    "    if epoch > 15: #35 perf\n",
    "        lrate = 0.006\n",
    "    if epoch > 25:\n",
    "        lrate = 0.001\n",
    "    if epoch > 35:\n",
    "        lrate = 0.0005\n",
    "    if epoch > 45:\n",
    "        lrate = 0.0001\n",
    "    return lrate\n",
    "\n",
    "weight_decay = 1e-4\n",
    "model = Sequential()\n",
    "model.add(Conv2D(32, (3,3), padding='same', input_shape=x_train.shape[1:]))\n",
    "model.add(Activation('elu'))\n",
    "model.add(BatchNormalization())\n",
    "model.add(Conv2D(32, (3,3), padding='same'))\n",
    "model.add(Activation('elu'))\n",
    "model.add(BatchNormalization())\n",
    "model.add(MaxPooling2D(pool_size=(2,2)))\n",
    "model.add(Dropout(0.2))\n",
    " \n",
    "model.add(Conv2D(64, (3,3), padding='same'))\n",
    "model.add(Activation('elu'))\n",
    "model.add(BatchNormalization())\n",
    "model.add(Conv2D(64, (3,3), padding='same'))\n",
    "model.add(Activation('elu'))\n",
    "model.add(BatchNormalization())\n",
    "model.add(MaxPooling2D(pool_size=(2,2)))\n",
    "model.add(Dropout(0.2))\n",
    " \n",
    "model.add(Conv2D(128, (3,3), padding='same'))\n",
    "model.add(Activation('elu'))\n",
    "model.add(BatchNormalization())\n",
    "model.add(Conv2D(128, (3,3), padding='same'))\n",
    "model.add(Activation('elu'))\n",
    "model.add(BatchNormalization())\n",
    "model.add(MaxPooling2D(pool_size=(2,2)))\n",
    "model.add(Dropout(0.3))\n",
    "\n",
    "\n",
    "model.add(Flatten())\n",
    "model.add(Dense(64))\n",
    "model.add(BatchNormalization())\n",
    "model.add(Dropout(0.3))\n",
    "model.add(Dense(num_classes, activation='softmax'))\n",
    " \n",
    "model.summary()\n",
    " \n",
    "#data augmentation\n",
    "datagen = ImageDataGenerator(rotation_range=15,\n",
    "                             width_shift_range=0.05, \n",
    "                             height_shift_range=0.05,\n",
    "                             horizontal_flip=True,\n",
    "                             zoom_range=[0.85, 1])\n",
    "datagen.fit(x_train)\n",
    "\n",
    "#training\n",
    "batch_size = 64\n",
    "flow_train = datagen.flow(x_train, y_train, batch_size=batch_size)\n",
    "\n",
    " \n",
    " \n",
    "opt_rms = keras.optimizers.RMSprop(lr=0.01)\n",
    "model.compile(loss='categorical_crossentropy', optimizer=opt_rms, metrics=['accuracy'])\n",
    "#model.fit(X_train, y_train_c, epochs=50, batch_size=batch_size,\n",
    "#                    verbose=1,validation_split=0.2,callbacks=[LearningRateScheduler(lr_schedule)])\n",
    "history = model.fit(flow_train,\n",
    "              steps_per_epoch=(x_train.shape[0]) // batch_size,\n",
    "              epochs=50,\n",
    "              verbose=1,\n",
    "              validation_data=(x_val, y_val),\n",
    "              callbacks=[LearningRateScheduler(lr_schedule)])"
   ]
  },
  {
   "cell_type": "code",
   "execution_count": 23,
   "metadata": {
    "colab": {
     "base_uri": "https://localhost:8080/",
     "height": 1000
    },
    "executionInfo": {
     "elapsed": 2810199,
     "status": "ok",
     "timestamp": 1646577393800,
     "user": {
      "displayName": "Patrick Hiemsch",
      "photoUrl": "https://lh3.googleusercontent.com/a/default-user=s64",
      "userId": "11380502315125518764"
     },
     "user_tz": -60
    },
    "id": "aNQltzBdi40p",
    "outputId": "c44105c1-af81-4463-efc9-2a43d9231a23"
   },
   "outputs": [
    {
     "metadata": {
      "tags": null
     },
     "name": "stdout",
     "output_type": "stream",
     "text": [
      "Model: \"sequential_6\"\n",
      "_________________________________________________________________\n",
      " Layer (type)                Output Shape              Param #   \n",
      "=================================================================\n",
      " conv2d_36 (Conv2D)          (None, 32, 32, 32)        896       \n",
      "                                                                 \n",
      " activation_36 (Activation)  (None, 32, 32, 32)        0         \n",
      "                                                                 \n",
      " batch_normalization_42 (Bat  (None, 32, 32, 32)       128       \n",
      " chNormalization)                                                \n",
      "                                                                 \n",
      " conv2d_37 (Conv2D)          (None, 32, 32, 32)        9248      \n",
      "                                                                 \n",
      " activation_37 (Activation)  (None, 32, 32, 32)        0         \n",
      "                                                                 \n",
      " batch_normalization_43 (Bat  (None, 32, 32, 32)       128       \n",
      " chNormalization)                                                \n",
      "                                                                 \n",
      " max_pooling2d_18 (MaxPoolin  (None, 16, 16, 32)       0         \n",
      " g2D)                                                            \n",
      "                                                                 \n",
      " dropout_24 (Dropout)        (None, 16, 16, 32)        0         \n",
      "                                                                 \n",
      " conv2d_38 (Conv2D)          (None, 16, 16, 64)        18496     \n",
      "                                                                 \n",
      " activation_38 (Activation)  (None, 16, 16, 64)        0         \n",
      "                                                                 \n",
      " batch_normalization_44 (Bat  (None, 16, 16, 64)       256       \n",
      " chNormalization)                                                \n",
      "                                                                 \n",
      " conv2d_39 (Conv2D)          (None, 16, 16, 64)        36928     \n",
      "                                                                 \n",
      " activation_39 (Activation)  (None, 16, 16, 64)        0         \n",
      "                                                                 \n",
      " batch_normalization_45 (Bat  (None, 16, 16, 64)       256       \n",
      " chNormalization)                                                \n",
      "                                                                 \n",
      " max_pooling2d_19 (MaxPoolin  (None, 8, 8, 64)         0         \n",
      " g2D)                                                            \n",
      "                                                                 \n",
      " dropout_25 (Dropout)        (None, 8, 8, 64)          0         \n",
      "                                                                 \n",
      " conv2d_40 (Conv2D)          (None, 8, 8, 128)         73856     \n",
      "                                                                 \n",
      " activation_40 (Activation)  (None, 8, 8, 128)         0         \n",
      "                                                                 \n",
      " batch_normalization_46 (Bat  (None, 8, 8, 128)        512       \n",
      " chNormalization)                                                \n",
      "                                                                 \n",
      " conv2d_41 (Conv2D)          (None, 8, 8, 128)         147584    \n",
      "                                                                 \n",
      " activation_41 (Activation)  (None, 8, 8, 128)         0         \n",
      "                                                                 \n",
      " batch_normalization_47 (Bat  (None, 8, 8, 128)        512       \n",
      " chNormalization)                                                \n",
      "                                                                 \n",
      " max_pooling2d_20 (MaxPoolin  (None, 4, 4, 128)        0         \n",
      " g2D)                                                            \n",
      "                                                                 \n",
      " dropout_26 (Dropout)        (None, 4, 4, 128)         0         \n",
      "                                                                 \n",
      " flatten_6 (Flatten)         (None, 2048)              0         \n",
      "                                                                 \n",
      " dense_12 (Dense)            (None, 64)                131136    \n",
      "                                                                 \n",
      " batch_normalization_48 (Bat  (None, 64)               256       \n",
      " chNormalization)                                                \n",
      "                                                                 \n",
      " dropout_27 (Dropout)        (None, 64)                0         \n",
      "                                                                 \n",
      " dense_13 (Dense)            (None, 10)                650       \n",
      "                                                                 \n",
      "=================================================================\n",
      "Total params: 420,842\n",
      "Trainable params: 419,818\n",
      "Non-trainable params: 1,024\n",
      "_________________________________________________________________\n",
      "Epoch 1/50\n"
     ]
    },
    {
     "metadata": {
      "tags": null
     },
     "name": "stderr",
     "output_type": "stream",
     "text": [
      "/usr/local/lib/python3.7/dist-packages/keras/optimizer_v2/rmsprop.py:130: UserWarning: The `lr` argument is deprecated, use `learning_rate` instead.\n",
      "  super(RMSprop, self).__init__(name, **kwargs)\n"
     ]
    },
    {
     "metadata": {
      "tags": null
     },
     "name": "stdout",
     "output_type": "stream",
     "text": [
      "625/625 [==============================] - 22s 33ms/step - loss: 2.0119 - accuracy: 0.2831 - val_loss: 3.8354 - val_accuracy: 0.2540\n",
      "Epoch 2/50\n",
      "625/625 [==============================] - 20s 32ms/step - loss: 1.6790 - accuracy: 0.4093 - val_loss: 1.6394 - val_accuracy: 0.5043\n",
      "Epoch 3/50\n",
      "625/625 [==============================] - 20s 32ms/step - loss: 1.5230 - accuracy: 0.4775 - val_loss: 1.0822 - val_accuracy: 0.6432\n",
      "Epoch 4/50\n",
      "625/625 [==============================] - 20s 32ms/step - loss: 1.3944 - accuracy: 0.5264 - val_loss: 1.6083 - val_accuracy: 0.5877\n",
      "Epoch 5/50\n",
      "625/625 [==============================] - 20s 32ms/step - loss: 1.3222 - accuracy: 0.5564 - val_loss: 1.6631 - val_accuracy: 0.5814\n",
      "Epoch 6/50\n",
      "625/625 [==============================] - 20s 32ms/step - loss: 1.2709 - accuracy: 0.5768 - val_loss: 1.3027 - val_accuracy: 0.6113\n",
      "Epoch 7/50\n",
      "625/625 [==============================] - 21s 34ms/step - loss: 1.2080 - accuracy: 0.6011 - val_loss: 1.3258 - val_accuracy: 0.6416\n",
      "Epoch 8/50\n",
      "625/625 [==============================] - 21s 34ms/step - loss: 1.1735 - accuracy: 0.6162 - val_loss: 1.1177 - val_accuracy: 0.6755\n",
      "Epoch 9/50\n",
      "625/625 [==============================] - 20s 33ms/step - loss: 1.1554 - accuracy: 0.6237 - val_loss: 1.2408 - val_accuracy: 0.6219\n",
      "Epoch 10/50\n",
      "625/625 [==============================] - 21s 33ms/step - loss: 1.1177 - accuracy: 0.6370 - val_loss: 1.2456 - val_accuracy: 0.5953\n",
      "Epoch 11/50\n",
      "625/625 [==============================] - 20s 32ms/step - loss: 1.1089 - accuracy: 0.6411 - val_loss: 0.8758 - val_accuracy: 0.7282\n",
      "Epoch 12/50\n",
      "625/625 [==============================] - 21s 33ms/step - loss: 1.0637 - accuracy: 0.6541 - val_loss: 0.8745 - val_accuracy: 0.7271\n",
      "Epoch 13/50\n",
      "625/625 [==============================] - 21s 33ms/step - loss: 1.0489 - accuracy: 0.6636 - val_loss: 1.0413 - val_accuracy: 0.7167\n",
      "Epoch 14/50\n",
      "625/625 [==============================] - 20s 33ms/step - loss: 1.0465 - accuracy: 0.6658 - val_loss: 1.1418 - val_accuracy: 0.6972\n",
      "Epoch 15/50\n",
      "625/625 [==============================] - 20s 33ms/step - loss: 1.0274 - accuracy: 0.6724 - val_loss: 0.7553 - val_accuracy: 0.7514\n",
      "Epoch 16/50\n",
      "625/625 [==============================] - 20s 32ms/step - loss: 1.0149 - accuracy: 0.6758 - val_loss: 1.0840 - val_accuracy: 0.6936\n",
      "Epoch 17/50\n",
      "625/625 [==============================] - 20s 33ms/step - loss: 0.9905 - accuracy: 0.6860 - val_loss: 0.9896 - val_accuracy: 0.7384\n",
      "Epoch 18/50\n",
      "625/625 [==============================] - 21s 33ms/step - loss: 0.9751 - accuracy: 0.6894 - val_loss: 0.9602 - val_accuracy: 0.7331\n",
      "Epoch 19/50\n",
      "625/625 [==============================] - 20s 32ms/step - loss: 0.9672 - accuracy: 0.6909 - val_loss: 0.8974 - val_accuracy: 0.7390\n",
      "Epoch 20/50\n",
      "625/625 [==============================] - 20s 32ms/step - loss: 0.9661 - accuracy: 0.6942 - val_loss: 0.7901 - val_accuracy: 0.7697\n",
      "Epoch 21/50\n",
      "625/625 [==============================] - 20s 32ms/step - loss: 0.9504 - accuracy: 0.6995 - val_loss: 0.6886 - val_accuracy: 0.7894\n",
      "Epoch 22/50\n",
      "625/625 [==============================] - 20s 32ms/step - loss: 0.9453 - accuracy: 0.6996 - val_loss: 0.7781 - val_accuracy: 0.7539\n",
      "Epoch 23/50\n",
      "625/625 [==============================] - 20s 32ms/step - loss: 0.9314 - accuracy: 0.7051 - val_loss: 1.1669 - val_accuracy: 0.7089\n",
      "Epoch 24/50\n",
      "625/625 [==============================] - 20s 32ms/step - loss: 0.9206 - accuracy: 0.7080 - val_loss: 0.7942 - val_accuracy: 0.7767\n",
      "Epoch 25/50\n",
      "625/625 [==============================] - 20s 32ms/step - loss: 0.9087 - accuracy: 0.7132 - val_loss: 0.7775 - val_accuracy: 0.7853\n",
      "Epoch 26/50\n",
      "625/625 [==============================] - 20s 32ms/step - loss: 0.9182 - accuracy: 0.7117 - val_loss: 0.7546 - val_accuracy: 0.7807\n",
      "Epoch 27/50\n",
      "625/625 [==============================] - 20s 33ms/step - loss: 0.8982 - accuracy: 0.7161 - val_loss: 0.6815 - val_accuracy: 0.7957\n",
      "Epoch 28/50\n",
      "625/625 [==============================] - 20s 32ms/step - loss: 0.8874 - accuracy: 0.7210 - val_loss: 0.7877 - val_accuracy: 0.7695\n",
      "Epoch 29/50\n",
      "625/625 [==============================] - 20s 32ms/step - loss: 0.8941 - accuracy: 0.7207 - val_loss: 0.6819 - val_accuracy: 0.7958\n",
      "Epoch 30/50\n",
      "625/625 [==============================] - 20s 32ms/step - loss: 0.8775 - accuracy: 0.7242 - val_loss: 0.8263 - val_accuracy: 0.7688\n",
      "Epoch 31/50\n",
      "625/625 [==============================] - 20s 32ms/step - loss: 0.8674 - accuracy: 0.7253 - val_loss: 0.6651 - val_accuracy: 0.8017\n",
      "Epoch 32/50\n",
      "625/625 [==============================] - 20s 32ms/step - loss: 0.8642 - accuracy: 0.7307 - val_loss: 0.8694 - val_accuracy: 0.7721\n",
      "Epoch 33/50\n",
      "625/625 [==============================] - 20s 32ms/step - loss: 0.8600 - accuracy: 0.7304 - val_loss: 0.7081 - val_accuracy: 0.7512\n",
      "Epoch 34/50\n",
      "625/625 [==============================] - 20s 32ms/step - loss: 0.8622 - accuracy: 0.7278 - val_loss: 0.8154 - val_accuracy: 0.7556\n",
      "Epoch 35/50\n",
      "625/625 [==============================] - 20s 32ms/step - loss: 0.8493 - accuracy: 0.7366 - val_loss: 0.6743 - val_accuracy: 0.8002\n",
      "Epoch 36/50\n",
      "625/625 [==============================] - 20s 32ms/step - loss: 0.8398 - accuracy: 0.7365 - val_loss: 0.7406 - val_accuracy: 0.7966\n",
      "Epoch 37/50\n",
      "625/625 [==============================] - 20s 32ms/step - loss: 0.8365 - accuracy: 0.7360 - val_loss: 0.6261 - val_accuracy: 0.8038\n",
      "Epoch 38/50\n",
      "625/625 [==============================] - 20s 32ms/step - loss: 0.8372 - accuracy: 0.7408 - val_loss: 0.6223 - val_accuracy: 0.8046\n",
      "Epoch 39/50\n",
      "625/625 [==============================] - 20s 32ms/step - loss: 0.8199 - accuracy: 0.7446 - val_loss: 1.0105 - val_accuracy: 0.7486\n",
      "Epoch 40/50\n",
      "625/625 [==============================] - 20s 32ms/step - loss: 0.8217 - accuracy: 0.7398 - val_loss: 0.5430 - val_accuracy: 0.8308\n",
      "Epoch 41/50\n",
      "625/625 [==============================] - 20s 32ms/step - loss: 0.8180 - accuracy: 0.7474 - val_loss: 0.7786 - val_accuracy: 0.7778\n",
      "Epoch 42/50\n",
      "625/625 [==============================] - 20s 32ms/step - loss: 0.8309 - accuracy: 0.7429 - val_loss: 0.5477 - val_accuracy: 0.8261\n",
      "Epoch 43/50\n",
      "625/625 [==============================] - 20s 32ms/step - loss: 0.8160 - accuracy: 0.7462 - val_loss: 0.6569 - val_accuracy: 0.8137\n",
      "Epoch 44/50\n",
      "625/625 [==============================] - 20s 32ms/step - loss: 0.8093 - accuracy: 0.7463 - val_loss: 0.6105 - val_accuracy: 0.8137\n",
      "Epoch 45/50\n",
      "625/625 [==============================] - 20s 32ms/step - loss: 0.8006 - accuracy: 0.7498 - val_loss: 1.1457 - val_accuracy: 0.7420\n",
      "Epoch 46/50\n",
      "625/625 [==============================] - 20s 32ms/step - loss: 0.8079 - accuracy: 0.7499 - val_loss: 0.6763 - val_accuracy: 0.7980\n",
      "Epoch 47/50\n",
      "625/625 [==============================] - 20s 32ms/step - loss: 0.7870 - accuracy: 0.7541 - val_loss: 0.7990 - val_accuracy: 0.7695\n",
      "Epoch 48/50\n",
      "625/625 [==============================] - 20s 32ms/step - loss: 0.7834 - accuracy: 0.7567 - val_loss: 0.6708 - val_accuracy: 0.8089\n",
      "Epoch 49/50\n",
      "625/625 [==============================] - 20s 32ms/step - loss: 0.7878 - accuracy: 0.7542 - val_loss: 0.6961 - val_accuracy: 0.8157\n",
      "Epoch 50/50\n",
      "625/625 [==============================] - 20s 32ms/step - loss: 0.7750 - accuracy: 0.7601 - val_loss: 0.7299 - val_accuracy: 0.7956\n",
      "\n",
      "\n",
      "\n",
      "========== lr: 0.1 ==========\n",
      "\n",
      "\n"
     ]
    },
    {
     "data": {
      "image/png": "[encoded data removed]",
      "text/plain": [
       "<Figure size 432x288 with 1 Axes>"
      ]
     },
     "metadata": {},
     "output_type": "display_data"
    },
    {
     "metadata": {
      "tags": null
     },
     "name": "stdout",
     "output_type": "stream",
     "text": [
      "Test loss = 0.774\n",
      "Test accuracy = 0.784\n",
      "\n",
      "\n",
      "\n",
      "\n",
      "\n",
      "Model: \"sequential_7\"\n",
      "_________________________________________________________________\n",
      " Layer (type)                Output Shape              Param #   \n",
      "=================================================================\n",
      " conv2d_42 (Conv2D)          (None, 32, 32, 32)        896       \n",
      "                                                                 \n",
      " activation_42 (Activation)  (None, 32, 32, 32)        0         \n",
      "                                                                 \n",
      " batch_normalization_49 (Bat  (None, 32, 32, 32)       128       \n",
      " chNormalization)                                                \n",
      "                                                                 \n",
      " conv2d_43 (Conv2D)          (None, 32, 32, 32)        9248      \n",
      "                                                                 \n",
      " activation_43 (Activation)  (None, 32, 32, 32)        0         \n",
      "                                                                 \n",
      " batch_normalization_50 (Bat  (None, 32, 32, 32)       128       \n",
      " chNormalization)                                                \n",
      "                                                                 \n",
      " max_pooling2d_21 (MaxPoolin  (None, 16, 16, 32)       0         \n",
      " g2D)                                                            \n",
      "                                                                 \n",
      " dropout_28 (Dropout)        (None, 16, 16, 32)        0         \n",
      "                                                                 \n",
      " conv2d_44 (Conv2D)          (None, 16, 16, 64)        18496     \n",
      "                                                                 \n",
      " activation_44 (Activation)  (None, 16, 16, 64)        0         \n",
      "                                                                 \n",
      " batch_normalization_51 (Bat  (None, 16, 16, 64)       256       \n",
      " chNormalization)                                                \n",
      "                                                                 \n",
      " conv2d_45 (Conv2D)          (None, 16, 16, 64)        36928     \n",
      "                                                                 \n",
      " activation_45 (Activation)  (None, 16, 16, 64)        0         \n",
      "                                                                 \n",
      " batch_normalization_52 (Bat  (None, 16, 16, 64)       256       \n",
      " chNormalization)                                                \n",
      "                                                                 \n",
      " max_pooling2d_22 (MaxPoolin  (None, 8, 8, 64)         0         \n",
      " g2D)                                                            \n",
      "                                                                 \n",
      " dropout_29 (Dropout)        (None, 8, 8, 64)          0         \n",
      "                                                                 \n",
      " conv2d_46 (Conv2D)          (None, 8, 8, 128)         73856     \n",
      "                                                                 \n",
      " activation_46 (Activation)  (None, 8, 8, 128)         0         \n",
      "                                                                 \n",
      " batch_normalization_53 (Bat  (None, 8, 8, 128)        512       \n",
      " chNormalization)                                                \n",
      "                                                                 \n",
      " conv2d_47 (Conv2D)          (None, 8, 8, 128)         147584    \n",
      "                                                                 \n",
      " activation_47 (Activation)  (None, 8, 8, 128)         0         \n",
      "                                                                 \n",
      " batch_normalization_54 (Bat  (None, 8, 8, 128)        512       \n",
      " chNormalization)                                                \n",
      "                                                                 \n",
      " max_pooling2d_23 (MaxPoolin  (None, 4, 4, 128)        0         \n",
      " g2D)                                                            \n",
      "                                                                 \n",
      " dropout_30 (Dropout)        (None, 4, 4, 128)         0         \n",
      "                                                                 \n",
      " flatten_7 (Flatten)         (None, 2048)              0         \n",
      "                                                                 \n",
      " dense_14 (Dense)            (None, 64)                131136    \n",
      "                                                                 \n",
      " batch_normalization_55 (Bat  (None, 64)               256       \n",
      " chNormalization)                                                \n",
      "                                                                 \n",
      " dropout_31 (Dropout)        (None, 64)                0         \n",
      "                                                                 \n",
      " dense_15 (Dense)            (None, 10)                650       \n",
      "                                                                 \n",
      "=================================================================\n",
      "Total params: 420,842\n",
      "Trainable params: 419,818\n",
      "Non-trainable params: 1,024\n",
      "_________________________________________________________________\n",
      "Epoch 1/50\n"
     ]
    },
    {
     "metadata": {
      "tags": null
     },
     "name": "stderr",
     "output_type": "stream",
     "text": [
      "/usr/local/lib/python3.7/dist-packages/keras/optimizer_v2/rmsprop.py:130: UserWarning: The `lr` argument is deprecated, use `learning_rate` instead.\n",
      "  super(RMSprop, self).__init__(name, **kwargs)\n"
     ]
    },
    {
     "metadata": {
      "tags": null
     },
     "name": "stdout",
     "output_type": "stream",
     "text": [
      "625/625 [==============================] - 22s 32ms/step - loss: 1.6103 - accuracy: 0.4179 - val_loss: 1.3062 - val_accuracy: 0.5458\n",
      "Epoch 2/50\n",
      "625/625 [==============================] - 20s 32ms/step - loss: 1.2182 - accuracy: 0.5658 - val_loss: 0.9873 - val_accuracy: 0.6424\n",
      "Epoch 3/50\n",
      "625/625 [==============================] - 20s 33ms/step - loss: 1.0571 - accuracy: 0.6300 - val_loss: 0.9224 - val_accuracy: 0.6835\n",
      "Epoch 4/50\n",
      "625/625 [==============================] - 20s 32ms/step - loss: 0.9740 - accuracy: 0.6620 - val_loss: 0.8732 - val_accuracy: 0.7007\n",
      "Epoch 5/50\n",
      "625/625 [==============================] - 20s 32ms/step - loss: 0.9062 - accuracy: 0.6862 - val_loss: 0.8694 - val_accuracy: 0.7102\n",
      "Epoch 6/50\n",
      "625/625 [==============================] - 20s 32ms/step - loss: 0.8676 - accuracy: 0.7023 - val_loss: 0.7726 - val_accuracy: 0.7327\n",
      "Epoch 7/50\n",
      "625/625 [==============================] - 20s 32ms/step - loss: 0.8332 - accuracy: 0.7124 - val_loss: 0.8295 - val_accuracy: 0.7244\n",
      "Epoch 8/50\n",
      "625/625 [==============================] - 20s 32ms/step - loss: 0.8020 - accuracy: 0.7256 - val_loss: 0.7043 - val_accuracy: 0.7616\n",
      "Epoch 9/50\n",
      "625/625 [==============================] - 20s 32ms/step - loss: 0.7767 - accuracy: 0.7326 - val_loss: 0.7694 - val_accuracy: 0.7540\n",
      "Epoch 10/50\n",
      "625/625 [==============================] - 20s 32ms/step - loss: 0.7531 - accuracy: 0.7433 - val_loss: 0.6823 - val_accuracy: 0.7729\n",
      "Epoch 11/50\n",
      "625/625 [==============================] - 20s 32ms/step - loss: 0.7397 - accuracy: 0.7459 - val_loss: 0.7096 - val_accuracy: 0.7597\n",
      "Epoch 12/50\n",
      "625/625 [==============================] - 20s 32ms/step - loss: 0.7193 - accuracy: 0.7527 - val_loss: 0.6449 - val_accuracy: 0.7814\n",
      "Epoch 13/50\n",
      "625/625 [==============================] - 20s 32ms/step - loss: 0.6996 - accuracy: 0.7624 - val_loss: 0.6338 - val_accuracy: 0.7913\n",
      "Epoch 14/50\n",
      "625/625 [==============================] - 20s 32ms/step - loss: 0.6917 - accuracy: 0.7631 - val_loss: 0.5380 - val_accuracy: 0.8130\n",
      "Epoch 15/50\n",
      "625/625 [==============================] - 20s 33ms/step - loss: 0.6752 - accuracy: 0.7696 - val_loss: 0.6326 - val_accuracy: 0.7915\n",
      "Epoch 16/50\n",
      "625/625 [==============================] - 20s 33ms/step - loss: 0.6620 - accuracy: 0.7727 - val_loss: 0.5212 - val_accuracy: 0.8301\n",
      "Epoch 17/50\n",
      "625/625 [==============================] - 20s 33ms/step - loss: 0.6496 - accuracy: 0.7794 - val_loss: 0.5632 - val_accuracy: 0.8109\n",
      "Epoch 18/50\n",
      "625/625 [==============================] - 20s 33ms/step - loss: 0.6404 - accuracy: 0.7817 - val_loss: 0.5346 - val_accuracy: 0.8200\n",
      "Epoch 19/50\n",
      "625/625 [==============================] - 20s 32ms/step - loss: 0.6307 - accuracy: 0.7832 - val_loss: 0.5312 - val_accuracy: 0.8245\n",
      "Epoch 20/50\n",
      "625/625 [==============================] - 20s 32ms/step - loss: 0.6250 - accuracy: 0.7890 - val_loss: 0.5482 - val_accuracy: 0.8168\n",
      "Epoch 21/50\n",
      "625/625 [==============================] - 20s 32ms/step - loss: 0.6201 - accuracy: 0.7875 - val_loss: 0.5180 - val_accuracy: 0.8260\n",
      "Epoch 22/50\n",
      "625/625 [==============================] - 20s 32ms/step - loss: 0.6060 - accuracy: 0.7937 - val_loss: 0.5319 - val_accuracy: 0.8226\n",
      "Epoch 23/50\n",
      "625/625 [==============================] - 20s 33ms/step - loss: 0.6028 - accuracy: 0.7966 - val_loss: 0.6134 - val_accuracy: 0.7953\n",
      "Epoch 24/50\n",
      "625/625 [==============================] - 20s 33ms/step - loss: 0.5932 - accuracy: 0.7965 - val_loss: 0.4957 - val_accuracy: 0.8340\n",
      "Epoch 25/50\n",
      "625/625 [==============================] - 20s 33ms/step - loss: 0.5919 - accuracy: 0.7973 - val_loss: 0.5351 - val_accuracy: 0.8252\n",
      "Epoch 26/50\n",
      "625/625 [==============================] - 20s 33ms/step - loss: 0.5828 - accuracy: 0.8014 - val_loss: 0.5180 - val_accuracy: 0.8298\n",
      "Epoch 27/50\n",
      "625/625 [==============================] - 20s 32ms/step - loss: 0.5717 - accuracy: 0.8041 - val_loss: 0.5053 - val_accuracy: 0.8331\n",
      "Epoch 28/50\n",
      "625/625 [==============================] - 20s 32ms/step - loss: 0.5646 - accuracy: 0.8081 - val_loss: 0.5773 - val_accuracy: 0.8074\n",
      "Epoch 29/50\n",
      "625/625 [==============================] - 20s 33ms/step - loss: 0.5585 - accuracy: 0.8104 - val_loss: 0.4494 - val_accuracy: 0.8495\n",
      "Epoch 30/50\n",
      "625/625 [==============================] - 20s 32ms/step - loss: 0.5551 - accuracy: 0.8091 - val_loss: 0.5213 - val_accuracy: 0.8354\n",
      "Epoch 31/50\n",
      "625/625 [==============================] - 20s 32ms/step - loss: 0.5529 - accuracy: 0.8119 - val_loss: 0.4557 - val_accuracy: 0.8501\n",
      "Epoch 32/50\n",
      "625/625 [==============================] - 20s 33ms/step - loss: 0.5438 - accuracy: 0.8148 - val_loss: 0.4573 - val_accuracy: 0.8474\n",
      "Epoch 33/50\n",
      "625/625 [==============================] - 20s 32ms/step - loss: 0.5383 - accuracy: 0.8170 - val_loss: 0.5250 - val_accuracy: 0.8337\n",
      "Epoch 34/50\n",
      "625/625 [==============================] - 20s 32ms/step - loss: 0.5391 - accuracy: 0.8155 - val_loss: 0.4563 - val_accuracy: 0.8529\n",
      "Epoch 35/50\n",
      "625/625 [==============================] - 20s 32ms/step - loss: 0.5313 - accuracy: 0.8201 - val_loss: 0.4265 - val_accuracy: 0.8585\n",
      "Epoch 36/50\n",
      "625/625 [==============================] - 20s 32ms/step - loss: 0.5265 - accuracy: 0.8195 - val_loss: 0.4413 - val_accuracy: 0.8535\n",
      "Epoch 37/50\n",
      "625/625 [==============================] - 21s 33ms/step - loss: 0.5212 - accuracy: 0.8231 - val_loss: 0.4321 - val_accuracy: 0.8595\n",
      "Epoch 38/50\n",
      "625/625 [==============================] - 20s 32ms/step - loss: 0.5132 - accuracy: 0.8262 - val_loss: 0.4351 - val_accuracy: 0.8556\n",
      "Epoch 39/50\n",
      "625/625 [==============================] - 20s 33ms/step - loss: 0.5157 - accuracy: 0.8223 - val_loss: 0.4330 - val_accuracy: 0.8578\n",
      "Epoch 40/50\n",
      "625/625 [==============================] - 20s 32ms/step - loss: 0.5141 - accuracy: 0.8241 - val_loss: 0.4341 - val_accuracy: 0.8581\n",
      "Epoch 41/50\n",
      "625/625 [==============================] - 20s 32ms/step - loss: 0.5074 - accuracy: 0.8278 - val_loss: 0.4658 - val_accuracy: 0.8508\n",
      "Epoch 42/50\n",
      "625/625 [==============================] - 20s 32ms/step - loss: 0.5081 - accuracy: 0.8271 - val_loss: 0.4327 - val_accuracy: 0.8584\n",
      "Epoch 43/50\n",
      "625/625 [==============================] - 20s 32ms/step - loss: 0.4991 - accuracy: 0.8284 - val_loss: 0.4142 - val_accuracy: 0.8630\n",
      "Epoch 44/50\n",
      "625/625 [==============================] - 20s 31ms/step - loss: 0.4959 - accuracy: 0.8306 - val_loss: 0.4777 - val_accuracy: 0.8510\n",
      "Epoch 45/50\n",
      "625/625 [==============================] - 20s 31ms/step - loss: 0.4941 - accuracy: 0.8286 - val_loss: 0.4004 - val_accuracy: 0.8657\n",
      "Epoch 46/50\n",
      "625/625 [==============================] - 20s 32ms/step - loss: 0.4923 - accuracy: 0.8322 - val_loss: 0.4386 - val_accuracy: 0.8587\n",
      "Epoch 47/50\n",
      "625/625 [==============================] - 20s 31ms/step - loss: 0.4917 - accuracy: 0.8325 - val_loss: 0.4098 - val_accuracy: 0.8630\n",
      "Epoch 48/50\n",
      "625/625 [==============================] - 20s 32ms/step - loss: 0.4813 - accuracy: 0.8357 - val_loss: 0.4844 - val_accuracy: 0.8454\n",
      "Epoch 49/50\n",
      "625/625 [==============================] - 20s 32ms/step - loss: 0.4816 - accuracy: 0.8353 - val_loss: 0.4683 - val_accuracy: 0.8524\n",
      "Epoch 50/50\n",
      "625/625 [==============================] - 20s 32ms/step - loss: 0.4803 - accuracy: 0.8357 - val_loss: 0.4265 - val_accuracy: 0.8651\n",
      "\n",
      "\n",
      "\n",
      "========== lr: 0.01 ==========\n",
      "\n",
      "\n"
     ]
    },
    {
     "data": {
      "image/png": "[encoded data removed]",
      "text/plain": [
       "<Figure size 432x288 with 1 Axes>"
      ]
     },
     "metadata": {},
     "output_type": "display_data"
    },
    {
     "metadata": {
      "tags": null
     },
     "name": "stdout",
     "output_type": "stream",
     "text": [
      "Test loss = 0.457\n",
      "Test accuracy = 0.855\n",
      "\n",
      "\n",
      "\n",
      "\n",
      "\n",
      "Model: \"sequential_8\"\n",
      "_________________________________________________________________\n",
      " Layer (type)                Output Shape              Param #   \n",
      "=================================================================\n",
      " conv2d_48 (Conv2D)          (None, 32, 32, 32)        896       \n",
      "                                                                 \n",
      " activation_48 (Activation)  (None, 32, 32, 32)        0         \n",
      "                                                                 \n",
      " batch_normalization_56 (Bat  (None, 32, 32, 32)       128       \n",
      " chNormalization)                                                \n",
      "                                                                 \n",
      " conv2d_49 (Conv2D)          (None, 32, 32, 32)        9248      \n",
      "                                                                 \n",
      " activation_49 (Activation)  (None, 32, 32, 32)        0         \n",
      "                                                                 \n",
      " batch_normalization_57 (Bat  (None, 32, 32, 32)       128       \n",
      " chNormalization)                                                \n",
      "                                                                 \n",
      " max_pooling2d_24 (MaxPoolin  (None, 16, 16, 32)       0         \n",
      " g2D)                                                            \n",
      "                                                                 \n",
      " dropout_32 (Dropout)        (None, 16, 16, 32)        0         \n",
      "                                                                 \n",
      " conv2d_50 (Conv2D)          (None, 16, 16, 64)        18496     \n",
      "                                                                 \n",
      " activation_50 (Activation)  (None, 16, 16, 64)        0         \n",
      "                                                                 \n",
      " batch_normalization_58 (Bat  (None, 16, 16, 64)       256       \n",
      " chNormalization)                                                \n",
      "                                                                 \n",
      " conv2d_51 (Conv2D)          (None, 16, 16, 64)        36928     \n",
      "                                                                 \n",
      " activation_51 (Activation)  (None, 16, 16, 64)        0         \n",
      "                                                                 \n",
      " batch_normalization_59 (Bat  (None, 16, 16, 64)       256       \n",
      " chNormalization)                                                \n",
      "                                                                 \n",
      " max_pooling2d_25 (MaxPoolin  (None, 8, 8, 64)         0         \n",
      " g2D)                                                            \n",
      "                                                                 \n",
      " dropout_33 (Dropout)        (None, 8, 8, 64)          0         \n",
      "                                                                 \n",
      " conv2d_52 (Conv2D)          (None, 8, 8, 128)         73856     \n",
      "                                                                 \n",
      " activation_52 (Activation)  (None, 8, 8, 128)         0         \n",
      "                                                                 \n",
      " batch_normalization_60 (Bat  (None, 8, 8, 128)        512       \n",
      " chNormalization)                                                \n",
      "                                                                 \n",
      " conv2d_53 (Conv2D)          (None, 8, 8, 128)         147584    \n",
      "                                                                 \n",
      " activation_53 (Activation)  (None, 8, 8, 128)         0         \n",
      "                                                                 \n",
      " batch_normalization_61 (Bat  (None, 8, 8, 128)        512       \n",
      " chNormalization)                                                \n",
      "                                                                 \n",
      " max_pooling2d_26 (MaxPoolin  (None, 4, 4, 128)        0         \n",
      " g2D)                                                            \n",
      "                                                                 \n",
      " dropout_34 (Dropout)        (None, 4, 4, 128)         0         \n",
      "                                                                 \n",
      " flatten_8 (Flatten)         (None, 2048)              0         \n",
      "                                                                 \n",
      " dense_16 (Dense)            (None, 64)                131136    \n",
      "                                                                 \n",
      " batch_normalization_62 (Bat  (None, 64)               256       \n",
      " chNormalization)                                                \n",
      "                                                                 \n",
      " dropout_35 (Dropout)        (None, 64)                0         \n",
      "                                                                 \n",
      " dense_17 (Dense)            (None, 10)                650       \n",
      "                                                                 \n",
      "=================================================================\n",
      "Total params: 420,842\n",
      "Trainable params: 419,818\n",
      "Non-trainable params: 1,024\n",
      "_________________________________________________________________\n",
      "Epoch 1/50\n"
     ]
    },
    {
     "metadata": {
      "tags": null
     },
     "name": "stderr",
     "output_type": "stream",
     "text": [
      "/usr/local/lib/python3.7/dist-packages/keras/optimizer_v2/rmsprop.py:130: UserWarning: The `lr` argument is deprecated, use `learning_rate` instead.\n",
      "  super(RMSprop, self).__init__(name, **kwargs)\n"
     ]
    },
    {
     "name": "stdout",
     "output_type": "stream",
     "text": [
      "625/625 [==============================] - 21s 32ms/step - loss: 1.5920 - accuracy: 0.4279 - val_loss: 1.3796 - val_accuracy: 0.5424\n",
      "Epoch 2/50\n",
      "625/625 [==============================] - 20s 31ms/step - loss: 1.1889 - accuracy: 0.5756 - val_loss: 1.1511 - val_accuracy: 0.6156\n",
      "Epoch 3/50\n",
      "625/625 [==============================] - 20s 31ms/step - loss: 1.0309 - accuracy: 0.6385 - val_loss: 1.0550 - val_accuracy: 0.6607\n",
      "Epoch 4/50\n",
      "625/625 [==============================] - 20s 32ms/step - loss: 0.9543 - accuracy: 0.6684 - val_loss: 0.8493 - val_accuracy: 0.7122\n",
      "Epoch 5/50\n",
      "625/625 [==============================] - 20s 32ms/step - loss: 0.8891 - accuracy: 0.6939 - val_loss: 0.7662 - val_accuracy: 0.7380\n",
      "Epoch 6/50\n",
      "625/625 [==============================] - 20s 32ms/step - loss: 0.8485 - accuracy: 0.7072 - val_loss: 0.6960 - val_accuracy: 0.7639\n",
      "Epoch 7/50\n",
      "625/625 [==============================] - 20s 31ms/step - loss: 0.8064 - accuracy: 0.7218 - val_loss: 0.7520 - val_accuracy: 0.7568\n",
      "Epoch 8/50\n",
      "625/625 [==============================] - 20s 32ms/step - loss: 0.7734 - accuracy: 0.7363 - val_loss: 0.6456 - val_accuracy: 0.7815\n",
      "Epoch 9/50\n",
      "625/625 [==============================] - 20s 32ms/step - loss: 0.7467 - accuracy: 0.7454 - val_loss: 0.6019 - val_accuracy: 0.7933\n",
      "Epoch 10/50\n",
      "625/625 [==============================] - 20s 32ms/step - loss: 0.7296 - accuracy: 0.7484 - val_loss: 0.6054 - val_accuracy: 0.7956\n",
      "Epoch 11/50\n",
      "625/625 [==============================] - 20s 32ms/step - loss: 0.7104 - accuracy: 0.7576 - val_loss: 0.6175 - val_accuracy: 0.7924\n",
      "Epoch 12/50\n",
      "625/625 [==============================] - 20s 31ms/step - loss: 0.6921 - accuracy: 0.7652 - val_loss: 0.6946 - val_accuracy: 0.7714\n",
      "Epoch 13/50\n",
      "625/625 [==============================] - 20s 32ms/step - loss: 0.6749 - accuracy: 0.7670 - val_loss: 0.5943 - val_accuracy: 0.8018\n",
      "Epoch 14/50\n",
      "625/625 [==============================] - 20s 32ms/step - loss: 0.6605 - accuracy: 0.7757 - val_loss: 0.5921 - val_accuracy: 0.8018\n",
      "Epoch 15/50\n",
      "625/625 [==============================] - 20s 32ms/step - loss: 0.6485 - accuracy: 0.7780 - val_loss: 0.6583 - val_accuracy: 0.7857\n",
      "Epoch 16/50\n",
      "625/625 [==============================] - 20s 32ms/step - loss: 0.6313 - accuracy: 0.7870 - val_loss: 0.5256 - val_accuracy: 0.8237\n",
      "Epoch 17/50\n",
      "625/625 [==============================] - 20s 32ms/step - loss: 0.6216 - accuracy: 0.7874 - val_loss: 0.6552 - val_accuracy: 0.7899\n",
      "Epoch 18/50\n",
      "625/625 [==============================] - 20s 33ms/step - loss: 0.6118 - accuracy: 0.7925 - val_loss: 0.5187 - val_accuracy: 0.8230\n",
      "Epoch 19/50\n",
      "625/625 [==============================] - 21s 33ms/step - loss: 0.5987 - accuracy: 0.7957 - val_loss: 0.5603 - val_accuracy: 0.8198\n",
      "Epoch 20/50\n",
      "625/625 [==============================] - 20s 33ms/step - loss: 0.5961 - accuracy: 0.7947 - val_loss: 0.5018 - val_accuracy: 0.8340\n",
      "Epoch 21/50\n",
      "625/625 [==============================] - 20s 33ms/step - loss: 0.5887 - accuracy: 0.7987 - val_loss: 0.4811 - val_accuracy: 0.8386\n",
      "Epoch 22/50\n",
      "625/625 [==============================] - 21s 33ms/step - loss: 0.5770 - accuracy: 0.8042 - val_loss: 0.4636 - val_accuracy: 0.8441\n",
      "Epoch 23/50\n",
      "625/625 [==============================] - 21s 33ms/step - loss: 0.5745 - accuracy: 0.8031 - val_loss: 0.4641 - val_accuracy: 0.8398\n",
      "Epoch 24/50\n",
      "625/625 [==============================] - 21s 33ms/step - loss: 0.5637 - accuracy: 0.8066 - val_loss: 0.4783 - val_accuracy: 0.8332\n",
      "Epoch 25/50\n",
      "625/625 [==============================] - 21s 33ms/step - loss: 0.5639 - accuracy: 0.8069 - val_loss: 0.5405 - val_accuracy: 0.8253\n",
      "Epoch 26/50\n",
      "625/625 [==============================] - 21s 33ms/step - loss: 0.5527 - accuracy: 0.8087 - val_loss: 0.4592 - val_accuracy: 0.8456\n",
      "Epoch 27/50\n",
      "625/625 [==============================] - 21s 33ms/step - loss: 0.5451 - accuracy: 0.8136 - val_loss: 0.4555 - val_accuracy: 0.8460\n",
      "Epoch 28/50\n",
      "625/625 [==============================] - 21s 33ms/step - loss: 0.5366 - accuracy: 0.8156 - val_loss: 0.5553 - val_accuracy: 0.8281\n",
      "Epoch 29/50\n",
      "625/625 [==============================] - 20s 33ms/step - loss: 0.5350 - accuracy: 0.8166 - val_loss: 0.4925 - val_accuracy: 0.8371\n",
      "Epoch 30/50\n",
      "625/625 [==============================] - 21s 33ms/step - loss: 0.5390 - accuracy: 0.8156 - val_loss: 0.4106 - val_accuracy: 0.8615\n",
      "Epoch 31/50\n",
      "625/625 [==============================] - 21s 33ms/step - loss: 0.5265 - accuracy: 0.8196 - val_loss: 0.4505 - val_accuracy: 0.8487\n",
      "Epoch 32/50\n",
      "625/625 [==============================] - 21s 33ms/step - loss: 0.5144 - accuracy: 0.8242 - val_loss: 0.4868 - val_accuracy: 0.8418\n",
      "Epoch 33/50\n",
      "625/625 [==============================] - 20s 33ms/step - loss: 0.5160 - accuracy: 0.8225 - val_loss: 0.4232 - val_accuracy: 0.8639\n",
      "Epoch 34/50\n",
      "625/625 [==============================] - 20s 33ms/step - loss: 0.5138 - accuracy: 0.8248 - val_loss: 0.4203 - val_accuracy: 0.8571\n",
      "Epoch 35/50\n",
      "625/625 [==============================] - 21s 33ms/step - loss: 0.5078 - accuracy: 0.8251 - val_loss: 0.4885 - val_accuracy: 0.8438\n",
      "Epoch 36/50\n",
      "625/625 [==============================] - 21s 33ms/step - loss: 0.5111 - accuracy: 0.8248 - val_loss: 0.4391 - val_accuracy: 0.8603\n",
      "Epoch 37/50\n",
      "625/625 [==============================] - 21s 33ms/step - loss: 0.4990 - accuracy: 0.8311 - val_loss: 0.4208 - val_accuracy: 0.8562\n",
      "Epoch 38/50\n",
      "625/625 [==============================] - 21s 33ms/step - loss: 0.4960 - accuracy: 0.8308 - val_loss: 0.4007 - val_accuracy: 0.8684\n",
      "Epoch 39/50\n",
      "625/625 [==============================] - 20s 32ms/step - loss: 0.4918 - accuracy: 0.8288 - val_loss: 0.4135 - val_accuracy: 0.8588\n",
      "Epoch 40/50\n",
      "625/625 [==============================] - 21s 33ms/step - loss: 0.4924 - accuracy: 0.8321 - val_loss: 0.4688 - val_accuracy: 0.8466\n",
      "Epoch 41/50\n",
      "625/625 [==============================] - 21s 33ms/step - loss: 0.4925 - accuracy: 0.8325 - val_loss: 0.4835 - val_accuracy: 0.8481\n",
      "Epoch 42/50\n",
      "625/625 [==============================] - 20s 33ms/step - loss: 0.4878 - accuracy: 0.8328 - val_loss: 0.4569 - val_accuracy: 0.8521\n",
      "Epoch 43/50\n",
      "625/625 [==============================] - 21s 33ms/step - loss: 0.4850 - accuracy: 0.8343 - val_loss: 0.4400 - val_accuracy: 0.8539\n",
      "Epoch 44/50\n",
      "625/625 [==============================] - 20s 33ms/step - loss: 0.4825 - accuracy: 0.8365 - val_loss: 0.5151 - val_accuracy: 0.8392\n",
      "Epoch 45/50\n",
      "625/625 [==============================] - 21s 33ms/step - loss: 0.4778 - accuracy: 0.8391 - val_loss: 0.4255 - val_accuracy: 0.8602\n",
      "Epoch 46/50\n",
      "625/625 [==============================] - 20s 33ms/step - loss: 0.4738 - accuracy: 0.8361 - val_loss: 0.4707 - val_accuracy: 0.8492\n",
      "Epoch 47/50\n",
      "625/625 [==============================] - 21s 33ms/step - loss: 0.4746 - accuracy: 0.8400 - val_loss: 0.4357 - val_accuracy: 0.8573\n",
      "Epoch 48/50\n",
      "625/625 [==============================] - 21s 33ms/step - loss: 0.4737 - accuracy: 0.8378 - val_loss: 0.4787 - val_accuracy: 0.8448\n",
      "Epoch 49/50\n",
      "625/625 [==============================] - 21s 33ms/step - loss: 0.4623 - accuracy: 0.8433 - val_loss: 0.4275 - val_accuracy: 0.8591\n",
      "Epoch 50/50\n",
      "625/625 [==============================] - 20s 33ms/step - loss: 0.4628 - accuracy: 0.8411 - val_loss: 0.3824 - val_accuracy: 0.8696\n",
      "\n",
      "\n",
      "\n",
      "========== lr: 0.005 ==========\n",
      "\n",
      "\n"
     ]
    },
    {
     "data": {
      "image/png": "[encoded data removed]",
      "text/plain": [
       "<Figure size 432x288 with 1 Axes>"
      ]
     },
     "metadata": {
      "needs_background": "light"
     },
     "output_type": "display_data"
    },
    {
     "name": "stdout",
     "output_type": "stream",
     "text": [
      "Test loss = 0.418\n",
      "Test accuracy = 0.864\n",
      "\n",
      "\n",
      "\n",
      "\n",
      "\n",
      "Model: \"sequential_9\"\n",
      "_________________________________________________________________\n",
      " Layer (type)                Output Shape              Param #   \n",
      "=================================================================\n",
      " conv2d_54 (Conv2D)          (None, 32, 32, 32)        896       \n",
      "                                                                 \n",
      " activation_54 (Activation)  (None, 32, 32, 32)        0         \n",
      "                                                                 \n",
      " batch_normalization_63 (Bat  (None, 32, 32, 32)       128       \n",
      " chNormalization)                                                \n",
      "                                                                 \n",
      " conv2d_55 (Conv2D)          (None, 32, 32, 32)        9248      \n",
      "                                                                 \n",
      " activation_55 (Activation)  (None, 32, 32, 32)        0         \n",
      "                                                                 \n",
      " batch_normalization_64 (Bat  (None, 32, 32, 32)       128       \n",
      " chNormalization)                                                \n",
      "                                                                 \n",
      " max_pooling2d_27 (MaxPoolin  (None, 16, 16, 32)       0         \n",
      " g2D)                                                            \n",
      "                                                                 \n",
      " dropout_36 (Dropout)        (None, 16, 16, 32)        0         \n",
      "                                                                 \n",
      " conv2d_56 (Conv2D)          (None, 16, 16, 64)        18496     \n",
      "                                                                 \n",
      " activation_56 (Activation)  (None, 16, 16, 64)        0         \n",
      "                                                                 \n",
      " batch_normalization_65 (Bat  (None, 16, 16, 64)       256       \n",
      " chNormalization)                                                \n",
      "                                                                 \n",
      " conv2d_57 (Conv2D)          (None, 16, 16, 64)        36928     \n",
      "                                                                 \n",
      " activation_57 (Activation)  (None, 16, 16, 64)        0         \n",
      "                                                                 \n",
      " batch_normalization_66 (Bat  (None, 16, 16, 64)       256       \n",
      " chNormalization)                                                \n",
      "                                                                 \n",
      " max_pooling2d_28 (MaxPoolin  (None, 8, 8, 64)         0         \n",
      " g2D)                                                            \n",
      "                                                                 \n",
      " dropout_37 (Dropout)        (None, 8, 8, 64)          0         \n",
      "                                                                 \n",
      " conv2d_58 (Conv2D)          (None, 8, 8, 128)         73856     \n",
      "                                                                 \n",
      " activation_58 (Activation)  (None, 8, 8, 128)         0         \n",
      "                                                                 \n",
      " batch_normalization_67 (Bat  (None, 8, 8, 128)        512       \n",
      " chNormalization)                                                \n",
      "                                                                 \n",
      " conv2d_59 (Conv2D)          (None, 8, 8, 128)         147584    \n",
      "                                                                 \n",
      " activation_59 (Activation)  (None, 8, 8, 128)         0         \n",
      "                                                                 \n",
      " batch_normalization_68 (Bat  (None, 8, 8, 128)        512       \n",
      " chNormalization)                                                \n",
      "                                                                 \n",
      " max_pooling2d_29 (MaxPoolin  (None, 4, 4, 128)        0         \n",
      " g2D)                                                            \n",
      "                                                                 \n",
      " dropout_38 (Dropout)        (None, 4, 4, 128)         0         \n",
      "                                                                 \n",
      " flatten_9 (Flatten)         (None, 2048)              0         \n",
      "                                                                 \n",
      " dense_18 (Dense)            (None, 64)                131136    \n",
      "                                                                 \n",
      " batch_normalization_69 (Bat  (None, 64)               256       \n",
      " chNormalization)                                                \n",
      "                                                                 \n",
      " dropout_39 (Dropout)        (None, 64)                0         \n",
      "                                                                 \n",
      " dense_19 (Dense)            (None, 10)                650       \n",
      "                                                                 \n",
      "=================================================================\n",
      "Total params: 420,842\n",
      "Trainable params: 419,818\n",
      "Non-trainable params: 1,024\n",
      "_________________________________________________________________\n",
      "Epoch 1/50\n"
     ]
    },
    {
     "name": "stderr",
     "output_type": "stream",
     "text": [
      "/usr/local/lib/python3.7/dist-packages/keras/optimizer_v2/rmsprop.py:130: UserWarning: The `lr` argument is deprecated, use `learning_rate` instead.\n",
      "  super(RMSprop, self).__init__(name, **kwargs)\n"
     ]
    },
    {
     "name": "stdout",
     "output_type": "stream",
     "text": [
      "625/625 [==============================] - 24s 35ms/step - loss: 1.6100 - accuracy: 0.4329 - val_loss: 1.5511 - val_accuracy: 0.5284\n",
      "Epoch 2/50\n",
      "625/625 [==============================] - 21s 33ms/step - loss: 1.1899 - accuracy: 0.5789 - val_loss: 1.0539 - val_accuracy: 0.6421\n",
      "Epoch 3/50\n",
      "625/625 [==============================] - 21s 33ms/step - loss: 1.0279 - accuracy: 0.6418 - val_loss: 1.1031 - val_accuracy: 0.6337\n",
      "Epoch 4/50\n",
      "625/625 [==============================] - 20s 32ms/step - loss: 0.9422 - accuracy: 0.6750 - val_loss: 0.7795 - val_accuracy: 0.7316\n",
      "Epoch 5/50\n",
      "625/625 [==============================] - 20s 32ms/step - loss: 0.8783 - accuracy: 0.6949 - val_loss: 0.7320 - val_accuracy: 0.7476\n",
      "Epoch 6/50\n",
      "625/625 [==============================] - 20s 33ms/step - loss: 0.8282 - accuracy: 0.7117 - val_loss: 0.7278 - val_accuracy: 0.7523\n",
      "Epoch 7/50\n",
      "625/625 [==============================] - 20s 33ms/step - loss: 0.7918 - accuracy: 0.7300 - val_loss: 0.6865 - val_accuracy: 0.7666\n",
      "Epoch 8/50\n",
      "625/625 [==============================] - 20s 33ms/step - loss: 0.7650 - accuracy: 0.7376 - val_loss: 0.5909 - val_accuracy: 0.8031\n",
      "Epoch 9/50\n",
      "625/625 [==============================] - 21s 33ms/step - loss: 0.7327 - accuracy: 0.7487 - val_loss: 0.6290 - val_accuracy: 0.7860\n",
      "Epoch 10/50\n",
      "625/625 [==============================] - 21s 33ms/step - loss: 0.7195 - accuracy: 0.7513 - val_loss: 0.6207 - val_accuracy: 0.7873\n",
      "Epoch 11/50\n",
      "625/625 [==============================] - 21s 33ms/step - loss: 0.6875 - accuracy: 0.7648 - val_loss: 0.5781 - val_accuracy: 0.8065\n",
      "Epoch 12/50\n",
      "625/625 [==============================] - 20s 33ms/step - loss: 0.6795 - accuracy: 0.7678 - val_loss: 0.6078 - val_accuracy: 0.7995\n",
      "Epoch 13/50\n",
      "625/625 [==============================] - 21s 33ms/step - loss: 0.6613 - accuracy: 0.7732 - val_loss: 0.5781 - val_accuracy: 0.8082\n",
      "Epoch 14/50\n",
      "625/625 [==============================] - 21s 33ms/step - loss: 0.6428 - accuracy: 0.7804 - val_loss: 0.5332 - val_accuracy: 0.8227\n",
      "Epoch 15/50\n",
      "625/625 [==============================] - 21s 33ms/step - loss: 0.6325 - accuracy: 0.7837 - val_loss: 0.5139 - val_accuracy: 0.8270\n",
      "Epoch 16/50\n",
      "625/625 [==============================] - 20s 33ms/step - loss: 0.6220 - accuracy: 0.7868 - val_loss: 0.5578 - val_accuracy: 0.8145\n",
      "Epoch 17/50\n",
      "625/625 [==============================] - 21s 33ms/step - loss: 0.6117 - accuracy: 0.7908 - val_loss: 0.5246 - val_accuracy: 0.8257\n",
      "Epoch 18/50\n",
      "625/625 [==============================] - 20s 32ms/step - loss: 0.5977 - accuracy: 0.7954 - val_loss: 0.5241 - val_accuracy: 0.8267\n",
      "Epoch 19/50\n",
      "625/625 [==============================] - 20s 33ms/step - loss: 0.5923 - accuracy: 0.7987 - val_loss: 0.5139 - val_accuracy: 0.8274\n",
      "Epoch 20/50\n",
      "625/625 [==============================] - 20s 32ms/step - loss: 0.5846 - accuracy: 0.8008 - val_loss: 0.5715 - val_accuracy: 0.8159\n",
      "Epoch 21/50\n",
      "625/625 [==============================] - 20s 33ms/step - loss: 0.5826 - accuracy: 0.7988 - val_loss: 0.5030 - val_accuracy: 0.8333\n",
      "Epoch 22/50\n",
      "625/625 [==============================] - 21s 33ms/step - loss: 0.5678 - accuracy: 0.8031 - val_loss: 0.5393 - val_accuracy: 0.8222\n",
      "Epoch 23/50\n",
      "625/625 [==============================] - 20s 32ms/step - loss: 0.5612 - accuracy: 0.8092 - val_loss: 0.4589 - val_accuracy: 0.8456\n",
      "Epoch 24/50\n",
      "625/625 [==============================] - 20s 33ms/step - loss: 0.5579 - accuracy: 0.8088 - val_loss: 0.4797 - val_accuracy: 0.8415\n",
      "Epoch 25/50\n",
      "625/625 [==============================] - 21s 33ms/step - loss: 0.5470 - accuracy: 0.8127 - val_loss: 0.4949 - val_accuracy: 0.8324\n",
      "Epoch 26/50\n",
      "625/625 [==============================] - 20s 33ms/step - loss: 0.5372 - accuracy: 0.8159 - val_loss: 0.4710 - val_accuracy: 0.8431\n",
      "Epoch 27/50\n",
      "625/625 [==============================] - 21s 33ms/step - loss: 0.5361 - accuracy: 0.8176 - val_loss: 0.4195 - val_accuracy: 0.8579\n",
      "Epoch 28/50\n",
      "625/625 [==============================] - 20s 33ms/step - loss: 0.5255 - accuracy: 0.8222 - val_loss: 0.4601 - val_accuracy: 0.8469\n",
      "Epoch 29/50\n",
      "625/625 [==============================] - 20s 33ms/step - loss: 0.5275 - accuracy: 0.8203 - val_loss: 0.4147 - val_accuracy: 0.8606\n",
      "Epoch 30/50\n",
      "625/625 [==============================] - 21s 33ms/step - loss: 0.5185 - accuracy: 0.8217 - val_loss: 0.4493 - val_accuracy: 0.8469\n",
      "Epoch 31/50\n",
      "625/625 [==============================] - 20s 33ms/step - loss: 0.5141 - accuracy: 0.8267 - val_loss: 0.4663 - val_accuracy: 0.8425\n",
      "Epoch 32/50\n",
      "625/625 [==============================] - 20s 33ms/step - loss: 0.5153 - accuracy: 0.8264 - val_loss: 0.4901 - val_accuracy: 0.8396\n",
      "Epoch 33/50\n",
      "625/625 [==============================] - 20s 33ms/step - loss: 0.5067 - accuracy: 0.8266 - val_loss: 0.4161 - val_accuracy: 0.8580\n",
      "Epoch 34/50\n",
      "625/625 [==============================] - 20s 33ms/step - loss: 0.4964 - accuracy: 0.8291 - val_loss: 0.4445 - val_accuracy: 0.8490\n",
      "Epoch 35/50\n",
      "625/625 [==============================] - 20s 33ms/step - loss: 0.4970 - accuracy: 0.8309 - val_loss: 0.4033 - val_accuracy: 0.8628\n",
      "Epoch 36/50\n",
      "625/625 [==============================] - 20s 33ms/step - loss: 0.4907 - accuracy: 0.8318 - val_loss: 0.4240 - val_accuracy: 0.8550\n",
      "Epoch 37/50\n",
      "625/625 [==============================] - 21s 33ms/step - loss: 0.4943 - accuracy: 0.8324 - val_loss: 0.4336 - val_accuracy: 0.8537\n",
      "Epoch 38/50\n",
      "625/625 [==============================] - 21s 33ms/step - loss: 0.4840 - accuracy: 0.8367 - val_loss: 0.4179 - val_accuracy: 0.8546\n",
      "Epoch 39/50\n",
      "625/625 [==============================] - 21s 33ms/step - loss: 0.4802 - accuracy: 0.8353 - val_loss: 0.4175 - val_accuracy: 0.8576\n",
      "Epoch 40/50\n",
      "625/625 [==============================] - 20s 33ms/step - loss: 0.4761 - accuracy: 0.8377 - val_loss: 0.4145 - val_accuracy: 0.8626\n",
      "Epoch 41/50\n",
      "625/625 [==============================] - 20s 33ms/step - loss: 0.4750 - accuracy: 0.8370 - val_loss: 0.4479 - val_accuracy: 0.8537\n",
      "Epoch 42/50\n",
      "625/625 [==============================] - 21s 33ms/step - loss: 0.4781 - accuracy: 0.8349 - val_loss: 0.4372 - val_accuracy: 0.8588\n",
      "Epoch 43/50\n",
      "625/625 [==============================] - 20s 33ms/step - loss: 0.4716 - accuracy: 0.8385 - val_loss: 0.3997 - val_accuracy: 0.8646\n",
      "Epoch 44/50\n",
      "625/625 [==============================] - 21s 33ms/step - loss: 0.4741 - accuracy: 0.8372 - val_loss: 0.4136 - val_accuracy: 0.8618\n",
      "Epoch 45/50\n",
      "625/625 [==============================] - 20s 33ms/step - loss: 0.4637 - accuracy: 0.8400 - val_loss: 0.4326 - val_accuracy: 0.8561\n",
      "Epoch 46/50\n",
      "625/625 [==============================] - 20s 33ms/step - loss: 0.4659 - accuracy: 0.8388 - val_loss: 0.4378 - val_accuracy: 0.8533\n",
      "Epoch 47/50\n",
      "625/625 [==============================] - 21s 33ms/step - loss: 0.4608 - accuracy: 0.8439 - val_loss: 0.3819 - val_accuracy: 0.8699\n",
      "Epoch 48/50\n",
      "625/625 [==============================] - 20s 33ms/step - loss: 0.4631 - accuracy: 0.8423 - val_loss: 0.4192 - val_accuracy: 0.8634\n",
      "Epoch 49/50\n",
      "625/625 [==============================] - 20s 33ms/step - loss: 0.4549 - accuracy: 0.8440 - val_loss: 0.4208 - val_accuracy: 0.8604\n",
      "Epoch 50/50\n",
      "625/625 [==============================] - 20s 33ms/step - loss: 0.4534 - accuracy: 0.8436 - val_loss: 0.4329 - val_accuracy: 0.8555\n",
      "\n",
      "\n",
      "\n",
      "========== lr: 0.001 ==========\n",
      "\n",
      "\n"
     ]
    },
    {
     "data": {
      "image/png": "[encoded data removed]",
      "text/plain": [
       "<Figure size 432x288 with 1 Axes>"
      ]
     },
     "metadata": {
      "needs_background": "light"
     },
     "output_type": "display_data"
    },
    {
     "name": "stdout",
     "output_type": "stream",
     "text": [
      "Test loss = 0.458\n",
      "Test accuracy = 0.850\n",
      "\n",
      "\n",
      "\n",
      "\n",
      "\n",
      "Model: \"sequential_10\"\n",
      "_________________________________________________________________\n",
      " Layer (type)                Output Shape              Param #   \n",
      "=================================================================\n",
      " conv2d_60 (Conv2D)          (None, 32, 32, 32)        896       \n",
      "                                                                 \n",
      " activation_60 (Activation)  (None, 32, 32, 32)        0         \n",
      "                                                                 \n",
      " batch_normalization_70 (Bat  (None, 32, 32, 32)       128       \n",
      " chNormalization)                                                \n",
      "                                                                 \n",
      " conv2d_61 (Conv2D)          (None, 32, 32, 32)        9248      \n",
      "                                                                 \n",
      " activation_61 (Activation)  (None, 32, 32, 32)        0         \n",
      "                                                                 \n",
      " batch_normalization_71 (Bat  (None, 32, 32, 32)       128       \n",
      " chNormalization)                                                \n",
      "                                                                 \n",
      " max_pooling2d_30 (MaxPoolin  (None, 16, 16, 32)       0         \n",
      " g2D)                                                            \n",
      "                                                                 \n",
      " dropout_40 (Dropout)        (None, 16, 16, 32)        0         \n",
      "                                                                 \n",
      " conv2d_62 (Conv2D)          (None, 16, 16, 64)        18496     \n",
      "                                                                 \n",
      " activation_62 (Activation)  (None, 16, 16, 64)        0         \n",
      "                                                                 \n",
      " batch_normalization_72 (Bat  (None, 16, 16, 64)       256       \n",
      " chNormalization)                                                \n",
      "                                                                 \n",
      " conv2d_63 (Conv2D)          (None, 16, 16, 64)        36928     \n",
      "                                                                 \n",
      " activation_63 (Activation)  (None, 16, 16, 64)        0         \n",
      "                                                                 \n",
      " batch_normalization_73 (Bat  (None, 16, 16, 64)       256       \n",
      " chNormalization)                                                \n",
      "                                                                 \n",
      " max_pooling2d_31 (MaxPoolin  (None, 8, 8, 64)         0         \n",
      " g2D)                                                            \n",
      "                                                                 \n",
      " dropout_41 (Dropout)        (None, 8, 8, 64)          0         \n",
      "                                                                 \n",
      " conv2d_64 (Conv2D)          (None, 8, 8, 128)         73856     \n",
      "                                                                 \n",
      " activation_64 (Activation)  (None, 8, 8, 128)         0         \n",
      "                                                                 \n",
      " batch_normalization_74 (Bat  (None, 8, 8, 128)        512       \n",
      " chNormalization)                                                \n",
      "                                                                 \n",
      " conv2d_65 (Conv2D)          (None, 8, 8, 128)         147584    \n",
      "                                                                 \n",
      " activation_65 (Activation)  (None, 8, 8, 128)         0         \n",
      "                                                                 \n",
      " batch_normalization_75 (Bat  (None, 8, 8, 128)        512       \n",
      " chNormalization)                                                \n",
      "                                                                 \n",
      " max_pooling2d_32 (MaxPoolin  (None, 4, 4, 128)        0         \n",
      " g2D)                                                            \n",
      "                                                                 \n",
      " dropout_42 (Dropout)        (None, 4, 4, 128)         0         \n",
      "                                                                 \n",
      " flatten_10 (Flatten)        (None, 2048)              0         \n",
      "                                                                 \n",
      " dense_20 (Dense)            (None, 64)                131136    \n",
      "                                                                 \n",
      " batch_normalization_76 (Bat  (None, 64)               256       \n",
      " chNormalization)                                                \n",
      "                                                                 \n",
      " dropout_43 (Dropout)        (None, 64)                0         \n",
      "                                                                 \n",
      " dense_21 (Dense)            (None, 10)                650       \n",
      "                                                                 \n",
      "=================================================================\n",
      "Total params: 420,842\n",
      "Trainable params: 419,818\n",
      "Non-trainable params: 1,024\n",
      "_________________________________________________________________\n",
      "Epoch 1/50\n"
     ]
    },
    {
     "name": "stderr",
     "output_type": "stream",
     "text": [
      "/usr/local/lib/python3.7/dist-packages/keras/optimizer_v2/rmsprop.py:130: UserWarning: The `lr` argument is deprecated, use `learning_rate` instead.\n",
      "  super(RMSprop, self).__init__(name, **kwargs)\n"
     ]
    },
    {
     "name": "stdout",
     "output_type": "stream",
     "text": [
      "625/625 [==============================] - 23s 34ms/step - loss: 1.9958 - accuracy: 0.3300 - val_loss: 1.5306 - val_accuracy: 0.4655\n",
      "Epoch 2/50\n",
      "625/625 [==============================] - 21s 33ms/step - loss: 1.6313 - accuracy: 0.4239 - val_loss: 1.5606 - val_accuracy: 0.4730\n",
      "Epoch 3/50\n",
      "625/625 [==============================] - 21s 33ms/step - loss: 1.4916 - accuracy: 0.4748 - val_loss: 1.5071 - val_accuracy: 0.5094\n",
      "Epoch 4/50\n",
      "625/625 [==============================] - 21s 33ms/step - loss: 1.3906 - accuracy: 0.5088 - val_loss: 1.4039 - val_accuracy: 0.5337\n",
      "Epoch 5/50\n",
      "625/625 [==============================] - 21s 33ms/step - loss: 1.3165 - accuracy: 0.5331 - val_loss: 1.3269 - val_accuracy: 0.5601\n",
      "Epoch 6/50\n",
      "625/625 [==============================] - 21s 33ms/step - loss: 1.2444 - accuracy: 0.5616 - val_loss: 1.3178 - val_accuracy: 0.5685\n",
      "Epoch 7/50\n",
      "625/625 [==============================] - 21s 33ms/step - loss: 1.1991 - accuracy: 0.5765 - val_loss: 1.2301 - val_accuracy: 0.6000\n",
      "Epoch 8/50\n",
      "625/625 [==============================] - 21s 33ms/step - loss: 1.1558 - accuracy: 0.5920 - val_loss: 1.1819 - val_accuracy: 0.6108\n",
      "Epoch 9/50\n",
      "625/625 [==============================] - 21s 33ms/step - loss: 1.1224 - accuracy: 0.6052 - val_loss: 1.1246 - val_accuracy: 0.6307\n",
      "Epoch 10/50\n",
      "625/625 [==============================] - 21s 33ms/step - loss: 1.0841 - accuracy: 0.6164 - val_loss: 1.1139 - val_accuracy: 0.6396\n",
      "Epoch 11/50\n",
      "625/625 [==============================] - 21s 33ms/step - loss: 1.0596 - accuracy: 0.6269 - val_loss: 1.0672 - val_accuracy: 0.6502\n",
      "Epoch 12/50\n",
      "625/625 [==============================] - 20s 33ms/step - loss: 1.0274 - accuracy: 0.6413 - val_loss: 1.1563 - val_accuracy: 0.6333\n",
      "Epoch 13/50\n",
      "625/625 [==============================] - 21s 33ms/step - loss: 1.0104 - accuracy: 0.6471 - val_loss: 0.9793 - val_accuracy: 0.6763\n",
      "Epoch 14/50\n",
      "625/625 [==============================] - 21s 33ms/step - loss: 0.9872 - accuracy: 0.6564 - val_loss: 0.9385 - val_accuracy: 0.6863\n",
      "Epoch 15/50\n",
      "625/625 [==============================] - 21s 33ms/step - loss: 0.9734 - accuracy: 0.6598 - val_loss: 0.8992 - val_accuracy: 0.7021\n",
      "Epoch 16/50\n",
      "625/625 [==============================] - 21s 33ms/step - loss: 0.9576 - accuracy: 0.6665 - val_loss: 0.8474 - val_accuracy: 0.7106\n",
      "Epoch 17/50\n",
      "625/625 [==============================] - 21s 33ms/step - loss: 0.9338 - accuracy: 0.6765 - val_loss: 0.9689 - val_accuracy: 0.6901\n",
      "Epoch 18/50\n",
      "625/625 [==============================] - 21s 33ms/step - loss: 0.9193 - accuracy: 0.6794 - val_loss: 0.8806 - val_accuracy: 0.7092\n",
      "Epoch 19/50\n",
      "625/625 [==============================] - 21s 33ms/step - loss: 0.9057 - accuracy: 0.6869 - val_loss: 0.8778 - val_accuracy: 0.7063\n",
      "Epoch 20/50\n",
      "625/625 [==============================] - 21s 33ms/step - loss: 0.8933 - accuracy: 0.6890 - val_loss: 0.8721 - val_accuracy: 0.7093\n",
      "Epoch 21/50\n",
      "625/625 [==============================] - 21s 34ms/step - loss: 0.8805 - accuracy: 0.6932 - val_loss: 0.8084 - val_accuracy: 0.7299\n",
      "Epoch 22/50\n",
      "625/625 [==============================] - 21s 33ms/step - loss: 0.8647 - accuracy: 0.6983 - val_loss: 0.7823 - val_accuracy: 0.7375\n",
      "Epoch 23/50\n",
      "625/625 [==============================] - 21s 33ms/step - loss: 0.8580 - accuracy: 0.7042 - val_loss: 0.8038 - val_accuracy: 0.7318\n",
      "Epoch 24/50\n",
      "625/625 [==============================] - 21s 33ms/step - loss: 0.8436 - accuracy: 0.7078 - val_loss: 0.8078 - val_accuracy: 0.7308\n",
      "Epoch 25/50\n",
      "625/625 [==============================] - 21s 33ms/step - loss: 0.8339 - accuracy: 0.7133 - val_loss: 0.7976 - val_accuracy: 0.7354\n",
      "Epoch 26/50\n",
      "625/625 [==============================] - 21s 33ms/step - loss: 0.8303 - accuracy: 0.7140 - val_loss: 0.7824 - val_accuracy: 0.7407\n",
      "Epoch 27/50\n",
      "625/625 [==============================] - 21s 33ms/step - loss: 0.8116 - accuracy: 0.7207 - val_loss: 0.7589 - val_accuracy: 0.7460\n",
      "Epoch 28/50\n",
      "625/625 [==============================] - 21s 33ms/step - loss: 0.8094 - accuracy: 0.7211 - val_loss: 0.7222 - val_accuracy: 0.7613\n",
      "Epoch 29/50\n",
      "625/625 [==============================] - 21s 33ms/step - loss: 0.7886 - accuracy: 0.7271 - val_loss: 0.7221 - val_accuracy: 0.7561\n",
      "Epoch 30/50\n",
      "625/625 [==============================] - 21s 33ms/step - loss: 0.7828 - accuracy: 0.7326 - val_loss: 0.6963 - val_accuracy: 0.7651\n",
      "Epoch 31/50\n",
      "625/625 [==============================] - 21s 34ms/step - loss: 0.7727 - accuracy: 0.7322 - val_loss: 0.7011 - val_accuracy: 0.7641\n",
      "Epoch 32/50\n",
      "625/625 [==============================] - 21s 34ms/step - loss: 0.7664 - accuracy: 0.7362 - val_loss: 0.6912 - val_accuracy: 0.7736\n",
      "Epoch 33/50\n",
      "625/625 [==============================] - 21s 33ms/step - loss: 0.7547 - accuracy: 0.7419 - val_loss: 0.6583 - val_accuracy: 0.7793\n",
      "Epoch 34/50\n",
      "625/625 [==============================] - 21s 34ms/step - loss: 0.7514 - accuracy: 0.7439 - val_loss: 0.6369 - val_accuracy: 0.7816\n",
      "Epoch 35/50\n",
      "625/625 [==============================] - 21s 33ms/step - loss: 0.7411 - accuracy: 0.7453 - val_loss: 0.6549 - val_accuracy: 0.7798\n",
      "Epoch 36/50\n",
      "625/625 [==============================] - 21s 33ms/step - loss: 0.7351 - accuracy: 0.7487 - val_loss: 0.6331 - val_accuracy: 0.7837\n",
      "Epoch 37/50\n",
      "625/625 [==============================] - 21s 34ms/step - loss: 0.7313 - accuracy: 0.7492 - val_loss: 0.6862 - val_accuracy: 0.7725\n",
      "Epoch 38/50\n",
      "625/625 [==============================] - 21s 33ms/step - loss: 0.7161 - accuracy: 0.7548 - val_loss: 0.6361 - val_accuracy: 0.7844\n",
      "Epoch 39/50\n",
      "625/625 [==============================] - 21s 33ms/step - loss: 0.7153 - accuracy: 0.7528 - val_loss: 0.6087 - val_accuracy: 0.7926\n",
      "Epoch 40/50\n",
      "625/625 [==============================] - 21s 34ms/step - loss: 0.7028 - accuracy: 0.7587 - val_loss: 0.6015 - val_accuracy: 0.7952\n",
      "Epoch 41/50\n",
      "625/625 [==============================] - 20s 33ms/step - loss: 0.6970 - accuracy: 0.7602 - val_loss: 0.6168 - val_accuracy: 0.7916\n",
      "Epoch 42/50\n",
      "625/625 [==============================] - 21s 33ms/step - loss: 0.6902 - accuracy: 0.7636 - val_loss: 0.6273 - val_accuracy: 0.7900\n",
      "Epoch 43/50\n",
      "625/625 [==============================] - 21s 33ms/step - loss: 0.6836 - accuracy: 0.7653 - val_loss: 0.5819 - val_accuracy: 0.8048\n",
      "Epoch 44/50\n",
      "625/625 [==============================] - 21s 34ms/step - loss: 0.6818 - accuracy: 0.7659 - val_loss: 0.6687 - val_accuracy: 0.7764\n",
      "Epoch 45/50\n",
      "625/625 [==============================] - 21s 33ms/step - loss: 0.6811 - accuracy: 0.7671 - val_loss: 0.5817 - val_accuracy: 0.8042\n",
      "Epoch 46/50\n",
      "625/625 [==============================] - 21s 33ms/step - loss: 0.6709 - accuracy: 0.7707 - val_loss: 0.5940 - val_accuracy: 0.7982\n",
      "Epoch 47/50\n",
      "625/625 [==============================] - 21s 33ms/step - loss: 0.6635 - accuracy: 0.7717 - val_loss: 0.5495 - val_accuracy: 0.8140\n",
      "Epoch 48/50\n",
      "625/625 [==============================] - 21s 33ms/step - loss: 0.6642 - accuracy: 0.7711 - val_loss: 0.5653 - val_accuracy: 0.8101\n",
      "Epoch 49/50\n",
      "625/625 [==============================] - 21s 33ms/step - loss: 0.6474 - accuracy: 0.7775 - val_loss: 0.5735 - val_accuracy: 0.8078\n",
      "Epoch 50/50\n",
      "625/625 [==============================] - 21s 33ms/step - loss: 0.6485 - accuracy: 0.7765 - val_loss: 0.6034 - val_accuracy: 0.7990\n",
      "\n",
      "\n",
      "\n",
      "========== lr: 0.0001 ==========\n",
      "\n",
      "\n"
     ]
    },
    {
     "data": {
      "image/png": "[encoded data removed]",
      "text/plain": [
       "<Figure size 432x288 with 1 Axes>"
      ]
     },
     "metadata": {
      "needs_background": "light"
     },
     "output_type": "display_data"
    },
    {
     "name": "stdout",
     "output_type": "stream",
     "text": [
      "Test loss = 0.635\n",
      "Test accuracy = 0.789\n",
      "\n",
      "\n",
      "\n",
      "\n",
      "\n"
     ]
    }
   ],
   "source": [
    "for lr in [0.1, 0.01, 0.005, 0.001, 0.0001]:\n",
    "\n",
    "\n",
    "  model = Sequential()\n",
    "  model.add(Conv2D(32, (3,3), padding='same', input_shape=x_train.shape[1:]))\n",
    "  model.add(Activation('elu'))\n",
    "  model.add(BatchNormalization())\n",
    "  model.add(Conv2D(32, (3,3), padding='same'))\n",
    "  model.add(Activation('elu'))\n",
    "  model.add(BatchNormalization())\n",
    "  model.add(MaxPooling2D(pool_size=(2,2)))\n",
    "  model.add(Dropout(0.2))\n",
    "  \n",
    "  model.add(Conv2D(64, (3,3), padding='same'))\n",
    "  model.add(Activation('elu'))\n",
    "  model.add(BatchNormalization())\n",
    "  model.add(Conv2D(64, (3,3), padding='same'))\n",
    "  model.add(Activation('elu'))\n",
    "  model.add(BatchNormalization())\n",
    "  model.add(MaxPooling2D(pool_size=(2,2)))\n",
    "  model.add(Dropout(0.2))\n",
    "  \n",
    "  model.add(Conv2D(128, (3,3), padding='same'))\n",
    "  model.add(Activation('elu'))\n",
    "  model.add(BatchNormalization())\n",
    "  model.add(Conv2D(128, (3,3), padding='same'))\n",
    "  model.add(Activation('elu'))\n",
    "  model.add(BatchNormalization())\n",
    "  model.add(MaxPooling2D(pool_size=(2,2)))\n",
    "  model.add(Dropout(0.3))\n",
    "\n",
    "\n",
    "  model.add(Flatten())\n",
    "  model.add(Dense(64))\n",
    "  model.add(BatchNormalization())\n",
    "  model.add(Dropout(0.3))\n",
    "  model.add(Dense(num_classes, activation='softmax'))\n",
    "  \n",
    "  model.summary()\n",
    "  \n",
    "  #data augmentation\n",
    "  datagen = ImageDataGenerator(rotation_range=30,\n",
    "                              width_shift_range=0.1, \n",
    "                              height_shift_range=0.1,\n",
    "                              horizontal_flip=True)\n",
    "  datagen.fit(x_train)\n",
    "\n",
    "  #training\n",
    "  batch_size = 64\n",
    "  flow_train = datagen.flow(x_train, y_train, batch_size=batch_size)\n",
    "\n",
    "  \n",
    "  \n",
    "  opt_rms = keras.optimizers.RMSprop(lr=0.01)\n",
    "  model.compile(loss='categorical_crossentropy', optimizer=keras.optimizers.RMSprop(lr=lr), metrics=['accuracy'])\n",
    "  hist = model.fit(flow_train,\n",
    "              steps_per_epoch=(x_train.shape[0]) // batch_size,\n",
    "              epochs=50,\n",
    "              verbose=1,\n",
    "              validation_data=(x_val, y_val))\n",
    "  \n",
    "  print(f\"\\n\\n\\n========== lr: {lr} ==========\")\n",
    "  score = model.evaluate(x_test, y_test, batch_size=128, verbose=0)\n",
    "  print(\"\\n\")\n",
    "  pd.DataFrame(hist.history).plot()\n",
    "  plt.show()\n",
    "  for i in range(len(score)):\n",
    "      print(\"Test \" + model.metrics_names[i] + \" = %.3f\" % score[i])\n",
    "  print(\"\\n\\n\\n\\n\")"
   ]
  },
  {
   "cell_type": "code",
   "execution_count": null,
   "metadata": {
    "id": "XGqIYEfJ6E92"
   },
   "outputs": [],
   "source": []
  },
  {
   "cell_type": "code",
   "execution_count": 16,
   "metadata": {
    "colab": {
     "base_uri": "https://localhost:8080/"
    },
    "executionInfo": {
     "elapsed": 1083,
     "status": "ok",
     "timestamp": 1646508295720,
     "user": {
      "displayName": "Patrick Hiemsch",
      "photoUrl": "https://lh3.googleusercontent.com/a/default-user=s64",
      "userId": "11380502315125518764"
     },
     "user_tz": -60
    },
    "id": "0TYttavJWmGP",
    "outputId": "3fbce4f7-ac4d-490e-9348-4ede9bde1f6a"
   },
   "outputs": [
    {
     "name": "stdout",
     "output_type": "stream",
     "text": [
      "Test loss = 0.465\n",
      "Test accuracy = 0.854\n"
     ]
    }
   ],
   "source": [
    "score = model.evaluate(x_test, y_test, batch_size=128, verbose=0)\n",
    "\n",
    "for i in range(len(score)):\n",
    "    print(\"Test \" + model.metrics_names[i] + \" = %.3f\" % score[i])"
   ]
  },
  {
   "cell_type": "code",
   "execution_count": 9,
   "metadata": {
    "colab": {
     "base_uri": "https://localhost:8080/",
     "height": 181
    },
    "executionInfo": {
     "elapsed": 314,
     "status": "error",
     "timestamp": 1646561711682,
     "user": {
      "displayName": "Patrick Hiemsch",
      "photoUrl": "https://lh3.googleusercontent.com/a/default-user=s64",
      "userId": "11380502315125518764"
     },
     "user_tz": -60
    },
    "id": "v5k6VB8JWmGR",
    "outputId": "d149aa31-9686-4967-dbd6-55cc78fab651"
   },
   "outputs": [
    {
     "ename": "NameError",
     "evalue": "ignored",
     "output_type": "error",
     "traceback": [
      "\u001b[0;31m---------------------------------------------------------------------------\u001b[0m",
      "\u001b[0;31mNameError\u001b[0m                                 Traceback (most recent call last)",
      "\u001b[0;32m<ipython-input-9-eaacc74073ef>\u001b[0m in \u001b[0;36m<module>\u001b[0;34m()\u001b[0m\n\u001b[1;32m      1\u001b[0m \u001b[0;32mimport\u001b[0m \u001b[0mpandas\u001b[0m \u001b[0;32mas\u001b[0m \u001b[0mpd\u001b[0m\u001b[0;34m\u001b[0m\u001b[0;34m\u001b[0m\u001b[0m\n\u001b[0;32m----> 2\u001b[0;31m \u001b[0mpd\u001b[0m\u001b[0;34m.\u001b[0m\u001b[0mDataFrame\u001b[0m\u001b[0;34m(\u001b[0m\u001b[0mhistory\u001b[0m\u001b[0;34m.\u001b[0m\u001b[0mhistory\u001b[0m\u001b[0;34m)\u001b[0m\u001b[0;34m.\u001b[0m\u001b[0mplot\u001b[0m\u001b[0;34m(\u001b[0m\u001b[0;34m)\u001b[0m\u001b[0;34m\u001b[0m\u001b[0;34m\u001b[0m\u001b[0m\n\u001b[0m",
      "\u001b[0;31mNameError\u001b[0m: name 'history' is not defined"
     ]
    }
   ],
   "source": [
    "import pandas as pd\n",
    "pd.DataFrame(history.history).plot()"
   ]
  },
  {
   "cell_type": "code",
   "execution_count": null,
   "metadata": {
    "colab": {
     "base_uri": "https://localhost:8080/"
    },
    "executionInfo": {
     "elapsed": 4551,
     "status": "ok",
     "timestamp": 1646389887671,
     "user": {
      "displayName": "Patrick Hiemsch",
      "photoUrl": "https://lh3.googleusercontent.com/a/default-user=s64",
      "userId": "11380502315125518764"
     },
     "user_tz": -60
    },
    "id": "KMzNJ3CYb_Ra",
    "outputId": "7cb3e1a9-475c-4169-8892-ef6a6ca7e1ab"
   },
   "outputs": [
    {
     "name": "stdout",
     "output_type": "stream",
     "text": [
      "Mounted at /content/gdrive\n"
     ]
    }
   ],
   "source": [
    "from google.colab import drive\n",
    "drive.mount('/content/gdrive')"
   ]
  },
  {
   "cell_type": "code",
   "execution_count": null,
   "metadata": {
    "colab": {
     "base_uri": "https://localhost:8080/"
    },
    "executionInfo": {
     "elapsed": 12,
     "status": "ok",
     "timestamp": 1646390185087,
     "user": {
      "displayName": "Patrick Hiemsch",
      "photoUrl": "https://lh3.googleusercontent.com/a/default-user=s64",
      "userId": "11380502315125518764"
     },
     "user_tz": -60
    },
    "id": "mBlDFgeffbuJ",
    "outputId": "b1d2d8e7-c2e2-4b6a-af4e-d6827865c498"
   },
   "outputs": [
    {
     "name": "stdout",
     "output_type": "stream",
     "text": [
      "'Colab Notebooks'\n",
      " copy.txt\n",
      "'Kopie von Gedächtnisprotokoll Telko- und Internetsökonomie WS16 17 .gdoc'\n",
      " Patrick_LiU\n",
      "'Python - ML1'\n"
     ]
    }
   ],
   "source": [
    "!ls /content/gdrive/My\\ Drive/"
   ]
  },
  {
   "cell_type": "code",
   "execution_count": null,
   "metadata": {
    "id": "mSbGJw3JeWcU"
   },
   "outputs": [],
   "source": [
    "model.save(\"/content/gdrive/My Drive/Colab Notebooks/Models/CIFAR10/simpler_first.h5\")"
   ]
  },
  {
   "cell_type": "markdown",
   "metadata": {
    "id": "G11P-MrhH9ek"
   },
   "source": [
    "## Resnet-34"
   ]
  },
  {
   "cell_type": "code",
   "execution_count": null,
   "metadata": {
    "id": "-ppsPfcXUDel"
   },
   "outputs": [],
   "source": [
    "from functools import partial\n",
    "DefaultConv2D = partial(keras.layers.Conv2D, kernel_size=3, strides=1,\n",
    "                        padding=\"SAME\", use_bias=False)\n",
    "\n",
    "class ResidualUnit(keras.layers.Layer):\n",
    "    def __init__(self, filters, strides=1, activation=\"relu\", **kwargs):\n",
    "        super().__init__(**kwargs)\n",
    "        self.activation = keras.activations.get(activation)\n",
    "        self.main_layers = [ # Main Layer: Conv + BN + ReLu + Conv + BN\n",
    "            DefaultConv2D(filters, strides=strides), # Conv 3x3 with stride=stride\n",
    "            keras.layers.BatchNormalization(),\n",
    "            self.activation,\n",
    "            Dropout(0.25),\n",
    "            DefaultConv2D(filters), # Conv 3x3 with stride=1\n",
    "            keras.layers.BatchNormalization()] \n",
    "        self.skip_layers = []\n",
    "        if strides > 1:\n",
    "            self.skip_layers = [\n",
    "                DefaultConv2D(filters, kernel_size=1, strides=strides), # Conv with stride=stride, so in the end same dimensions to concat\n",
    "                keras.layers.BatchNormalization()]\n",
    "\n",
    "    def call(self, inputs):\n",
    "        Z = inputs\n",
    "        for layer in self.main_layers:\n",
    "            Z = layer(Z)\n",
    "        skip_Z = inputs\n",
    "        for layer in self.skip_layers:\n",
    "            skip_Z = layer(skip_Z)\n",
    "        return self.activation(Z + skip_Z)"
   ]
  },
  {
   "cell_type": "code",
   "execution_count": null,
   "metadata": {
    "colab": {
     "base_uri": "https://localhost:8080/"
    },
    "executionInfo": {
     "elapsed": 5,
     "status": "ok",
     "timestamp": 1646243976012,
     "user": {
      "displayName": "Patrick Hiemsch",
      "photoUrl": "https://lh3.googleusercontent.com/a/default-user=s64",
      "userId": "11380502315125518764"
     },
     "user_tz": -60
    },
    "id": "0_8t2jqHX_NE",
    "outputId": "f7152e0d-ea54-4c98-968d-38c9ab62b032"
   },
   "outputs": [
    {
     "data": {
      "text/plain": [
       "(50000, 32, 32, 3)"
      ]
     },
     "execution_count": 51,
     "metadata": {},
     "output_type": "execute_result"
    }
   ],
   "source": [
    "X_train.shape"
   ]
  },
  {
   "cell_type": "code",
   "execution_count": null,
   "metadata": {
    "id": "KiLPLs4bWTIm"
   },
   "outputs": [],
   "source": [
    "import datetime\n",
    "model = keras.models.Sequential()\n",
    "model.add(DefaultConv2D(64, kernel_size=7, strides=2,\n",
    "                        input_shape=[32, 32, 3]))\n",
    "model.add(keras.layers.BatchNormalization())\n",
    "model.add(keras.layers.Activation(\"relu\"))\n",
    "model.add(keras.layers.MaxPool2D(pool_size=3, strides=2, padding=\"SAME\"))\n",
    "prev_filters = 64\n",
    "for filters in [64] * 3 + [128] * 4 + [256] * 6 + [512] * 3:\n",
    "    strides = 1 if filters == prev_filters else 2\n",
    "    model.add(ResidualUnit(filters, strides=strides))\n",
    "    prev_filters = filters\n",
    "model.add(keras.layers.GlobalAvgPool2D())\n",
    "model.add(keras.layers.Flatten())\n",
    "model.add(keras.layers.Dense(10, activation=\"softmax\"))\n",
    "\n",
    "sgd = SGD(learning_rate=0.01, momentum=0.9)\n",
    "\n",
    "log_dir = \"logs/fit/\" + datetime.datetime.now().strftime(\"%Y%m%d-%H%M%S\")\n",
    "tensorboard_callback = tf.keras.callbacks.TensorBoard(log_dir=log_dir, histogram_freq=1)"
   ]
  },
  {
   "cell_type": "code",
   "execution_count": null,
   "metadata": {
    "id": "VU3zL34yW-DQ"
   },
   "outputs": [],
   "source": [
    "model.compile(optimizer=sgd, loss='categorical_crossentropy', metrics=['accuracy'])"
   ]
  },
  {
   "cell_type": "code",
   "execution_count": null,
   "metadata": {
    "id": "3DUjpzKPpa-n"
   },
   "outputs": [],
   "source": [
    "#%tensorboard --logdir={log_folder}"
   ]
  },
  {
   "cell_type": "code",
   "execution_count": null,
   "metadata": {
    "colab": {
     "base_uri": "https://localhost:8080/",
     "height": 164
    },
    "executionInfo": {
     "elapsed": 368,
     "status": "error",
     "timestamp": 1646247587806,
     "user": {
      "displayName": "Patrick Hiemsch",
      "photoUrl": "https://lh3.googleusercontent.com/a/default-user=s64",
      "userId": "11380502315125518764"
     },
     "user_tz": -60
    },
    "id": "et-Y_5jPWgT8",
    "outputId": "90943038-0f75-4f35-aa25-e6d242baea42"
   },
   "outputs": [
    {
     "ename": "NameError",
     "evalue": "ignored",
     "output_type": "error",
     "traceback": [
      "\u001b[0;31m---------------------------------------------------------------------------\u001b[0m",
      "\u001b[0;31mNameError\u001b[0m                                 Traceback (most recent call last)",
      "\u001b[0;32m<ipython-input-6-9421558cefbc>\u001b[0m in \u001b[0;36m<module>\u001b[0;34m()\u001b[0m\n\u001b[0;32m----> 1\u001b[0;31m \u001b[0mhistory\u001b[0m \u001b[0;34m=\u001b[0m \u001b[0mmodel\u001b[0m\u001b[0;34m.\u001b[0m\u001b[0mfit\u001b[0m\u001b[0;34m(\u001b[0m\u001b[0mX_train\u001b[0m\u001b[0;34m,\u001b[0m \u001b[0my_train_c\u001b[0m\u001b[0;34m,\u001b[0m \u001b[0mbatch_size\u001b[0m\u001b[0;34m=\u001b[0m\u001b[0;36m32\u001b[0m\u001b[0;34m,\u001b[0m \u001b[0mepochs\u001b[0m\u001b[0;34m=\u001b[0m\u001b[0;36m25\u001b[0m\u001b[0;34m,\u001b[0m \u001b[0mverbose\u001b[0m\u001b[0;34m=\u001b[0m\u001b[0;36m1\u001b[0m\u001b[0;34m,\u001b[0m \u001b[0mvalidation_split\u001b[0m\u001b[0;34m=\u001b[0m\u001b[0;36m0.2\u001b[0m\u001b[0;34m,\u001b[0m \u001b[0mcallbacks\u001b[0m\u001b[0;34m=\u001b[0m\u001b[0mcallbacks\u001b[0m\u001b[0;34m)\u001b[0m\u001b[0;34m\u001b[0m\u001b[0;34m\u001b[0m\u001b[0m\n\u001b[0m",
      "\u001b[0;31mNameError\u001b[0m: name 'model' is not defined"
     ]
    }
   ],
   "source": [
    "history = model.fit(X_train, y_train_c, batch_size=32, epochs=25, verbose=1, validation_split=0.2, callbacks=callbacks)"
   ]
  },
  {
   "cell_type": "code",
   "execution_count": null,
   "metadata": {
    "colab": {
     "base_uri": "https://localhost:8080/"
    },
    "executionInfo": {
     "elapsed": 5560,
     "status": "ok",
     "timestamp": 1646236025402,
     "user": {
      "displayName": "Patrick Hiemsch",
      "photoUrl": "https://lh3.googleusercontent.com/a/default-user=s64",
      "userId": "11380502315125518764"
     },
     "user_tz": -60
    },
    "id": "pshlmKffW7pl",
    "outputId": "05647586-5c9d-481c-d26f-cdc3f7161d12"
   },
   "outputs": [
    {
     "name": "stdout",
     "output_type": "stream",
     "text": [
      "Test loss = 1.678\n",
      "Test accuracy = 0.677\n"
     ]
    }
   ],
   "source": [
    "score = model.evaluate(X_test, y_test_c, batch_size=128, verbose=0)\n",
    "\n",
    "for i in range(len(score)):\n",
    "    print(\"Test \" + model.metrics_names[i] + \" = %.3f\" % score[i])"
   ]
  },
  {
   "cell_type": "code",
   "execution_count": null,
   "metadata": {
    "id": "H-d9jbSFT2Z8"
   },
   "outputs": [],
   "source": []
  }
 ],
 "metadata": {
  "accelerator": "GPU",
  "colab": {
   "authorship_tag": "ABX9TyMCAQ3QYegcv8xaxq1wEFyP",
   "collapsed_sections": [],
   "name": "CIFAR10.ipynb",
   "provenance": []
  },
  "kernelspec": {
   "display_name": "Python 3 (ipykernel)",
   "language": "python",
   "name": "python3"
  },
  "language_info": {
   "codemirror_mode": {
    "name": "ipython",
    "version": 3
   },
   "file_extension": ".py",
   "mimetype": "text/x-python",
   "name": "python",
   "nbconvert_exporter": "python",
   "pygments_lexer": "ipython3",
   "version": "3.9.12"
  }
 },
 "nbformat": 4,
 "nbformat_minor": 1
}
